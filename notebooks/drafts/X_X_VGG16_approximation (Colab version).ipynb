{
  "cells": [
    {
      "cell_type": "code",
      "source": [
        "# Celda para ver cuanta ram tienes\n",
        "\n",
        "from psutil import virtual_memory\n",
        "ram_gb = virtual_memory().total / 1e9\n",
        "print('Your runtime has {:.1f} gigabytes of available RAM\\n'.format(ram_gb))\n",
        "\n",
        "if ram_gb < 20:\n",
        "  print('Not using a high-RAM runtime')\n",
        "else:\n",
        "  print('You are using a high-RAM runtime!')\n",
        "\n",
        "print(ram_gb)"
      ],
      "metadata": {
        "colab": {
          "base_uri": "https://localhost:8080/"
        },
        "id": "D-BLLPBH344k",
        "outputId": "10f17a74-6025-4b43-8575-332704a732ef"
      },
      "id": "D-BLLPBH344k",
      "execution_count": 1,
      "outputs": [
        {
          "output_type": "stream",
          "name": "stdout",
          "text": [
            "Your runtime has 89.6 gigabytes of available RAM\n",
            "\n",
            "You are using a high-RAM runtime!\n",
            "89.639657472\n"
          ]
        }
      ]
    },
    {
      "cell_type": "code",
      "source": [
        "from google.colab import drive\n",
        "drive.mount('/content/drive')"
      ],
      "metadata": {
        "colab": {
          "base_uri": "https://localhost:8080/"
        },
        "id": "bf13ftIPyGjr",
        "outputId": "bde97bbb-248f-4f59-e404-c96bfd7f4d3d"
      },
      "id": "bf13ftIPyGjr",
      "execution_count": 2,
      "outputs": [
        {
          "output_type": "stream",
          "name": "stdout",
          "text": [
            "Drive already mounted at /content/drive; to attempt to forcibly remount, call drive.mount(\"/content/drive\", force_remount=True).\n"
          ]
        }
      ]
    },
    {
      "cell_type": "code",
      "source": [
        "#!pip install tensorflow"
      ],
      "metadata": {
        "id": "mCAU9K4JMbPf"
      },
      "id": "mCAU9K4JMbPf",
      "execution_count": 3,
      "outputs": []
    },
    {
      "cell_type": "code",
      "execution_count": 4,
      "id": "dced684f",
      "metadata": {
        "id": "dced684f"
      },
      "outputs": [],
      "source": [
        "from PIL import Image\n",
        "\n",
        "from keras import layers, models\n",
        "from keras.applications.vgg16 import VGG16\n",
        "from keras.callbacks import EarlyStopping\n",
        "from keras.models import Model\n",
        "from keras.regularizers import l2\n",
        "\n",
        "from skimage import io, color\n",
        "\n",
        "from sklearn import preprocessing\n",
        "from sklearn.metrics import classification_report\n",
        "from sklearn.metrics import confusion_matrix\n",
        "from sklearn.metrics import roc_auc_score\n",
        "from sklearn.metrics import roc_curve, auc\n",
        "from sklearn.model_selection import GridSearchCV\n",
        "from sklearn.model_selection import KFold\n",
        "from sklearn.model_selection import train_test_split\n",
        "\n",
        "from tensorflow import keras\n",
        "from tensorflow.keras import layers\n",
        "from tensorflow.keras.layers import LeakyReLU\n",
        "\n",
        "import glob\n",
        "import json\n",
        "import keras\n",
        "import keras.backend as K\n",
        "import matplotlib\n",
        "import matplotlib.pyplot as plt\n",
        "import numpy as np\n",
        "import pandas as pd\n",
        "import random\n",
        "import tensorflow as tf\n",
        "import urllib.request"
      ]
    },
    {
      "cell_type": "code",
      "source": [
        "#######################################################\n",
        "# CONTROL PANEL\n",
        "#######################################################\n",
        "\n",
        "target_var = \"hdi\" # either (\"hdi\" or \"gdp\")"
      ],
      "metadata": {
        "id": "7D319E0TiF05"
      },
      "id": "7D319E0TiF05",
      "execution_count": 5,
      "outputs": []
    },
    {
      "cell_type": "code",
      "source": [
        "# Loading X and Y\n",
        "\n",
        "features = np.load(\"/content/drive/MyDrive/Thesis/imageset_500_500.npy\") # adjust for colab\n",
        "\n",
        "if target_var == 'hdi':\n",
        "    labels = np.load(\"/content/drive/MyDrive/Thesis/target_HDI.npy\") # adjust for colab\n",
        "    \n",
        "elif target_var == 'gdp':\n",
        "    labels = np.load(\"/content/drive/MyDrive/Thesis/target_logGDP.npy\") # adjust for colab"
      ],
      "metadata": {
        "id": "LnTDzGM_iGlC"
      },
      "id": "LnTDzGM_iGlC",
      "execution_count": 6,
      "outputs": []
    },
    {
      "cell_type": "code",
      "source": [
        "# Split 60% 20% 20%\n",
        "\n",
        "# Split the data into training and testing sets\n",
        "X_train, X_test, y_train, y_test = train_test_split(\n",
        "    features, labels, test_size=0.4, random_state=1945, stratify=labels)\n",
        "\n",
        "# Further split the training set into training and validation sets\n",
        "X_test, X_val, y_test, y_val = train_test_split(\n",
        "    X_test, y_test, test_size=0.5, random_state=1945, stratify=y_test)"
      ],
      "metadata": {
        "id": "vzG92ZsQiIhO"
      },
      "id": "vzG92ZsQiIhO",
      "execution_count": 7,
      "outputs": []
    },
    {
      "cell_type": "code",
      "source": [
        "# Float conversion to allow normalization\n",
        "X_train=X_train.astype('float32')\n",
        "X_test=X_test.astype('float32')\n",
        "X_val=X_val.astype('float32')\n",
        "\n",
        "# Normalization \n",
        "X_train=X_train/255.0\n",
        "X_test=X_test/255.0\n",
        "X_val=X_val/255.0"
      ],
      "metadata": {
        "id": "cXnReJGEiLCZ"
      },
      "id": "cXnReJGEiLCZ",
      "execution_count": 8,
      "outputs": []
    },
    {
      "cell_type": "code",
      "source": [
        "# Convert the numerical labels to one-hot encoded format\n",
        "num_classes = 4\n",
        "y_train_onehot = keras.utils.to_categorical((y_train-1), num_classes=num_classes)\n",
        "y_val_onehot = keras.utils.to_categorical((y_val-1), num_classes=num_classes)\n",
        "y_test_onehot = keras.utils.to_categorical((y_test-1), num_classes=num_classes)"
      ],
      "metadata": {
        "id": "Ly4sAn-riOF-"
      },
      "id": "Ly4sAn-riOF-",
      "execution_count": 9,
      "outputs": []
    },
    {
      "cell_type": "markdown",
      "id": "458b252b",
      "metadata": {
        "id": "458b252b"
      },
      "source": [
        "VGG16 from Deep Learning"
      ]
    },
    {
      "cell_type": "code",
      "execution_count": 10,
      "id": "4bd80315",
      "metadata": {
        "colab": {
          "base_uri": "https://localhost:8080/",
          "height": 1000
        },
        "id": "4bd80315",
        "outputId": "bfe17e42-5016-4545-8026-b3e9560220f1"
      },
      "outputs": [
        {
          "output_type": "stream",
          "name": "stdout",
          "text": [
            "Model: \"model\"\n",
            "_________________________________________________________________\n",
            " Layer (type)                Output Shape              Param #   \n",
            "=================================================================\n",
            " input_1 (InputLayer)        [(None, 500, 500, 3)]     0         \n",
            "                                                                 \n",
            " block1_conv1 (Conv2D)       (None, 500, 500, 64)      1792      \n",
            "                                                                 \n",
            " block1_conv2 (Conv2D)       (None, 500, 500, 64)      36928     \n",
            "                                                                 \n",
            " block1_pool (MaxPooling2D)  (None, 250, 250, 64)      0         \n",
            "                                                                 \n",
            " block2_conv1 (Conv2D)       (None, 250, 250, 128)     73856     \n",
            "                                                                 \n",
            " block2_conv2 (Conv2D)       (None, 250, 250, 128)     147584    \n",
            "                                                                 \n",
            " block2_pool (MaxPooling2D)  (None, 125, 125, 128)     0         \n",
            "                                                                 \n",
            " block3_conv1 (Conv2D)       (None, 125, 125, 256)     295168    \n",
            "                                                                 \n",
            " block3_conv2 (Conv2D)       (None, 125, 125, 256)     590080    \n",
            "                                                                 \n",
            " block3_conv3 (Conv2D)       (None, 125, 125, 256)     590080    \n",
            "                                                                 \n",
            " block3_pool (MaxPooling2D)  (None, 62, 62, 256)       0         \n",
            "                                                                 \n",
            " block4_conv1 (Conv2D)       (None, 62, 62, 512)       1180160   \n",
            "                                                                 \n",
            " block4_conv2 (Conv2D)       (None, 62, 62, 512)       2359808   \n",
            "                                                                 \n",
            " block4_conv3 (Conv2D)       (None, 62, 62, 512)       2359808   \n",
            "                                                                 \n",
            " block4_pool (MaxPooling2D)  (None, 31, 31, 512)       0         \n",
            "                                                                 \n",
            " block5_conv1 (Conv2D)       (None, 31, 31, 512)       2359808   \n",
            "                                                                 \n",
            " block5_conv2 (Conv2D)       (None, 31, 31, 512)       2359808   \n",
            "                                                                 \n",
            " block5_conv3 (Conv2D)       (None, 31, 31, 512)       2359808   \n",
            "                                                                 \n",
            " block5_pool (MaxPooling2D)  (None, 15, 15, 512)       0         \n",
            "                                                                 \n",
            " flatten (Flatten)           (None, 115200)            0         \n",
            "                                                                 \n",
            " dense (Dense)               (None, 256)               29491456  \n",
            "                                                                 \n",
            " dense_1 (Dense)             (None, 128)               32896     \n",
            "                                                                 \n",
            " dense_2 (Dense)             (None, 64)                8256      \n",
            "                                                                 \n",
            " dense_3 (Dense)             (None, 32)                2080      \n",
            "                                                                 \n",
            " dense_4 (Dense)             (None, 16)                528       \n",
            "                                                                 \n",
            " dense_5 (Dense)             (None, 4)                 68        \n",
            "                                                                 \n",
            "=================================================================\n",
            "Total params: 44,249,972\n",
            "Trainable params: 29,535,284\n",
            "Non-trainable params: 14,714,688\n",
            "_________________________________________________________________\n",
            "Epoch 1/100\n",
            "49/49 [==============================] - 28s 357ms/step - loss: 2.1008 - accuracy: 0.4302 - val_loss: 1.1110 - val_accuracy: 0.5185\n",
            "Epoch 2/100\n",
            "49/49 [==============================] - 13s 266ms/step - loss: 0.9446 - accuracy: 0.5831 - val_loss: 1.5203 - val_accuracy: 0.3879\n",
            "Epoch 3/100\n",
            "49/49 [==============================] - 13s 265ms/step - loss: 0.7301 - accuracy: 0.7054 - val_loss: 1.1012 - val_accuracy: 0.5361\n",
            "Epoch 4/100\n",
            "49/49 [==============================] - 13s 265ms/step - loss: 0.6487 - accuracy: 0.7337 - val_loss: 1.3614 - val_accuracy: 0.4756\n",
            "Epoch 5/100\n",
            "49/49 [==============================] - 13s 266ms/step - loss: 0.4830 - accuracy: 0.8267 - val_loss: 1.0999 - val_accuracy: 0.5692\n",
            "Epoch 6/100\n",
            "49/49 [==============================] - 13s 266ms/step - loss: 0.3755 - accuracy: 0.8667 - val_loss: 0.9106 - val_accuracy: 0.6413\n",
            "Epoch 7/100\n",
            "49/49 [==============================] - 13s 267ms/step - loss: 0.2824 - accuracy: 0.9060 - val_loss: 1.4857 - val_accuracy: 0.6101\n",
            "Epoch 8/100\n",
            "49/49 [==============================] - 13s 267ms/step - loss: 0.4586 - accuracy: 0.8452 - val_loss: 1.3813 - val_accuracy: 0.5712\n",
            "Epoch 9/100\n",
            "49/49 [==============================] - 13s 266ms/step - loss: 0.3348 - accuracy: 0.8712 - val_loss: 1.3316 - val_accuracy: 0.5858\n",
            "Epoch 10/100\n",
            "49/49 [==============================] - 13s 267ms/step - loss: 0.1972 - accuracy: 0.9379 - val_loss: 1.1220 - val_accuracy: 0.6491\n",
            "Epoch 11/100\n",
            "49/49 [==============================] - 13s 266ms/step - loss: 0.1019 - accuracy: 0.9766 - val_loss: 1.1210 - val_accuracy: 0.6452\n",
            "Epoch 12/100\n",
            "49/49 [==============================] - 13s 265ms/step - loss: 0.0629 - accuracy: 0.9906 - val_loss: 1.1916 - val_accuracy: 0.6598\n",
            "Epoch 13/100\n",
            "49/49 [==============================] - 13s 266ms/step - loss: 0.0436 - accuracy: 0.9948 - val_loss: 1.2233 - val_accuracy: 0.6715\n",
            "Epoch 14/100\n",
            "49/49 [==============================] - 13s 268ms/step - loss: 0.0317 - accuracy: 0.9974 - val_loss: 1.2752 - val_accuracy: 0.6706\n",
            "Epoch 15/100\n",
            "49/49 [==============================] - 13s 265ms/step - loss: 0.0240 - accuracy: 0.9977 - val_loss: 1.5654 - val_accuracy: 0.6374\n",
            "Epoch 16/100\n",
            "49/49 [==============================] - 13s 267ms/step - loss: 0.0235 - accuracy: 0.9974 - val_loss: 1.3087 - val_accuracy: 0.6715\n",
            "Epoch 17/100\n",
            "49/49 [==============================] - 13s 268ms/step - loss: 0.0188 - accuracy: 0.9980 - val_loss: 1.3706 - val_accuracy: 0.6569\n",
            "Epoch 18/100\n",
            "49/49 [==============================] - 13s 267ms/step - loss: 0.0149 - accuracy: 0.9984 - val_loss: 1.5210 - val_accuracy: 0.6598\n",
            "Epoch 19/100\n",
            "49/49 [==============================] - 13s 267ms/step - loss: 0.0159 - accuracy: 0.9984 - val_loss: 1.5163 - val_accuracy: 0.6618\n",
            "Epoch 20/100\n",
            "49/49 [==============================] - 13s 266ms/step - loss: 0.0130 - accuracy: 0.9977 - val_loss: 1.7615 - val_accuracy: 0.6433\n",
            "Epoch 21/100\n",
            "49/49 [==============================] - 13s 266ms/step - loss: 0.2628 - accuracy: 0.9180 - val_loss: 1.2938 - val_accuracy: 0.6374\n",
            "Epoch 22/100\n",
            "49/49 [==============================] - 13s 267ms/step - loss: 0.2651 - accuracy: 0.8953 - val_loss: 1.4157 - val_accuracy: 0.6150\n",
            "Epoch 23/100\n",
            "49/49 [==============================] - 13s 266ms/step - loss: 0.0649 - accuracy: 0.9860 - val_loss: 1.2605 - val_accuracy: 0.6530\n",
            "Epoch 24/100\n",
            "49/49 [==============================] - 13s 265ms/step - loss: 0.0211 - accuracy: 0.9977 - val_loss: 1.3149 - val_accuracy: 0.6647\n",
            "Epoch 25/100\n",
            "49/49 [==============================] - 13s 266ms/step - loss: 0.0180 - accuracy: 0.9984 - val_loss: 1.3431 - val_accuracy: 0.6667\n",
            "Epoch 26/100\n",
            "49/49 [==============================] - 13s 266ms/step - loss: 0.0143 - accuracy: 0.9987 - val_loss: 1.3993 - val_accuracy: 0.6550\n",
            "Epoch 27/100\n",
            "49/49 [==============================] - 13s 268ms/step - loss: 0.0114 - accuracy: 0.9987 - val_loss: 1.4207 - val_accuracy: 0.6589\n",
            "Epoch 28/100\n",
            "49/49 [==============================] - 13s 265ms/step - loss: 0.0104 - accuracy: 0.9987 - val_loss: 1.4660 - val_accuracy: 0.6608\n",
            "Epoch 29/100\n",
            "49/49 [==============================] - 13s 266ms/step - loss: 0.0072 - accuracy: 0.9990 - val_loss: 1.4827 - val_accuracy: 0.6608\n",
            "Epoch 30/100\n",
            "49/49 [==============================] - 13s 266ms/step - loss: 0.0068 - accuracy: 0.9987 - val_loss: 1.8357 - val_accuracy: 0.6374\n",
            "Epoch 31/100\n",
            "49/49 [==============================] - 13s 266ms/step - loss: 0.0081 - accuracy: 0.9987 - val_loss: 1.6090 - val_accuracy: 0.6706\n",
            "Epoch 32/100\n",
            "21/49 [===========>..................] - ETA: 5s - loss: 0.0025 - accuracy: 1.0000"
          ]
        },
        {
          "output_type": "error",
          "ename": "KeyboardInterrupt",
          "evalue": "ignored",
          "traceback": [
            "\u001b[0;31m---------------------------------------------------------------------------\u001b[0m",
            "\u001b[0;31mKeyboardInterrupt\u001b[0m                         Traceback (most recent call last)",
            "\u001b[0;32m<ipython-input-10-e1103d5a57f2>\u001b[0m in \u001b[0;36m<cell line: 36>\u001b[0;34m()\u001b[0m\n\u001b[1;32m     34\u001b[0m \u001b[0;34m\u001b[0m\u001b[0m\n\u001b[1;32m     35\u001b[0m \u001b[0;31m# fit model\u001b[0m\u001b[0;34m\u001b[0m\u001b[0;34m\u001b[0m\u001b[0m\n\u001b[0;32m---> 36\u001b[0;31m \u001b[0mtl_trained\u001b[0m \u001b[0;34m=\u001b[0m \u001b[0mtl_model\u001b[0m\u001b[0;34m.\u001b[0m\u001b[0mfit\u001b[0m\u001b[0;34m(\u001b[0m\u001b[0mX_train\u001b[0m\u001b[0;34m,\u001b[0m \u001b[0my_train_onehot\u001b[0m\u001b[0;34m,\u001b[0m \u001b[0mvalidation_data\u001b[0m\u001b[0;34m=\u001b[0m\u001b[0;34m(\u001b[0m\u001b[0mX_val\u001b[0m\u001b[0;34m,\u001b[0m \u001b[0my_val_onehot\u001b[0m\u001b[0;34m)\u001b[0m\u001b[0;34m,\u001b[0m \u001b[0mbatch_size\u001b[0m\u001b[0;34m=\u001b[0m\u001b[0;36m64\u001b[0m \u001b[0;34m,\u001b[0m\u001b[0mepochs\u001b[0m\u001b[0;34m=\u001b[0m\u001b[0;36m100\u001b[0m\u001b[0;34m,\u001b[0m \u001b[0mverbose\u001b[0m\u001b[0;34m=\u001b[0m\u001b[0;36m1\u001b[0m\u001b[0;34m)\u001b[0m\u001b[0;34m\u001b[0m\u001b[0;34m\u001b[0m\u001b[0m\n\u001b[0m",
            "\u001b[0;32m/usr/local/lib/python3.9/dist-packages/keras/utils/traceback_utils.py\u001b[0m in \u001b[0;36merror_handler\u001b[0;34m(*args, **kwargs)\u001b[0m\n\u001b[1;32m     63\u001b[0m         \u001b[0mfiltered_tb\u001b[0m \u001b[0;34m=\u001b[0m \u001b[0;32mNone\u001b[0m\u001b[0;34m\u001b[0m\u001b[0;34m\u001b[0m\u001b[0m\n\u001b[1;32m     64\u001b[0m         \u001b[0;32mtry\u001b[0m\u001b[0;34m:\u001b[0m\u001b[0;34m\u001b[0m\u001b[0;34m\u001b[0m\u001b[0m\n\u001b[0;32m---> 65\u001b[0;31m             \u001b[0;32mreturn\u001b[0m \u001b[0mfn\u001b[0m\u001b[0;34m(\u001b[0m\u001b[0;34m*\u001b[0m\u001b[0margs\u001b[0m\u001b[0;34m,\u001b[0m \u001b[0;34m**\u001b[0m\u001b[0mkwargs\u001b[0m\u001b[0;34m)\u001b[0m\u001b[0;34m\u001b[0m\u001b[0;34m\u001b[0m\u001b[0m\n\u001b[0m\u001b[1;32m     66\u001b[0m         \u001b[0;32mexcept\u001b[0m \u001b[0mException\u001b[0m \u001b[0;32mas\u001b[0m \u001b[0me\u001b[0m\u001b[0;34m:\u001b[0m\u001b[0;34m\u001b[0m\u001b[0;34m\u001b[0m\u001b[0m\n\u001b[1;32m     67\u001b[0m             \u001b[0mfiltered_tb\u001b[0m \u001b[0;34m=\u001b[0m \u001b[0m_process_traceback_frames\u001b[0m\u001b[0;34m(\u001b[0m\u001b[0me\u001b[0m\u001b[0;34m.\u001b[0m\u001b[0m__traceback__\u001b[0m\u001b[0;34m)\u001b[0m\u001b[0;34m\u001b[0m\u001b[0;34m\u001b[0m\u001b[0m\n",
            "\u001b[0;32m/usr/local/lib/python3.9/dist-packages/keras/engine/training.py\u001b[0m in \u001b[0;36mfit\u001b[0;34m(self, x, y, batch_size, epochs, verbose, callbacks, validation_split, validation_data, shuffle, class_weight, sample_weight, initial_epoch, steps_per_epoch, validation_steps, validation_batch_size, validation_freq, max_queue_size, workers, use_multiprocessing)\u001b[0m\n\u001b[1;32m   1683\u001b[0m                         ):\n\u001b[1;32m   1684\u001b[0m                             \u001b[0mcallbacks\u001b[0m\u001b[0;34m.\u001b[0m\u001b[0mon_train_batch_begin\u001b[0m\u001b[0;34m(\u001b[0m\u001b[0mstep\u001b[0m\u001b[0;34m)\u001b[0m\u001b[0;34m\u001b[0m\u001b[0;34m\u001b[0m\u001b[0m\n\u001b[0;32m-> 1685\u001b[0;31m                             \u001b[0mtmp_logs\u001b[0m \u001b[0;34m=\u001b[0m \u001b[0mself\u001b[0m\u001b[0;34m.\u001b[0m\u001b[0mtrain_function\u001b[0m\u001b[0;34m(\u001b[0m\u001b[0miterator\u001b[0m\u001b[0;34m)\u001b[0m\u001b[0;34m\u001b[0m\u001b[0;34m\u001b[0m\u001b[0m\n\u001b[0m\u001b[1;32m   1686\u001b[0m                             \u001b[0;32mif\u001b[0m \u001b[0mdata_handler\u001b[0m\u001b[0;34m.\u001b[0m\u001b[0mshould_sync\u001b[0m\u001b[0;34m:\u001b[0m\u001b[0;34m\u001b[0m\u001b[0;34m\u001b[0m\u001b[0m\n\u001b[1;32m   1687\u001b[0m                                 \u001b[0mcontext\u001b[0m\u001b[0;34m.\u001b[0m\u001b[0masync_wait\u001b[0m\u001b[0;34m(\u001b[0m\u001b[0;34m)\u001b[0m\u001b[0;34m\u001b[0m\u001b[0;34m\u001b[0m\u001b[0m\n",
            "\u001b[0;32m/usr/local/lib/python3.9/dist-packages/tensorflow/python/util/traceback_utils.py\u001b[0m in \u001b[0;36merror_handler\u001b[0;34m(*args, **kwargs)\u001b[0m\n\u001b[1;32m    148\u001b[0m     \u001b[0mfiltered_tb\u001b[0m \u001b[0;34m=\u001b[0m \u001b[0;32mNone\u001b[0m\u001b[0;34m\u001b[0m\u001b[0;34m\u001b[0m\u001b[0m\n\u001b[1;32m    149\u001b[0m     \u001b[0;32mtry\u001b[0m\u001b[0;34m:\u001b[0m\u001b[0;34m\u001b[0m\u001b[0;34m\u001b[0m\u001b[0m\n\u001b[0;32m--> 150\u001b[0;31m       \u001b[0;32mreturn\u001b[0m \u001b[0mfn\u001b[0m\u001b[0;34m(\u001b[0m\u001b[0;34m*\u001b[0m\u001b[0margs\u001b[0m\u001b[0;34m,\u001b[0m \u001b[0;34m**\u001b[0m\u001b[0mkwargs\u001b[0m\u001b[0;34m)\u001b[0m\u001b[0;34m\u001b[0m\u001b[0;34m\u001b[0m\u001b[0m\n\u001b[0m\u001b[1;32m    151\u001b[0m     \u001b[0;32mexcept\u001b[0m \u001b[0mException\u001b[0m \u001b[0;32mas\u001b[0m \u001b[0me\u001b[0m\u001b[0;34m:\u001b[0m\u001b[0;34m\u001b[0m\u001b[0;34m\u001b[0m\u001b[0m\n\u001b[1;32m    152\u001b[0m       \u001b[0mfiltered_tb\u001b[0m \u001b[0;34m=\u001b[0m \u001b[0m_process_traceback_frames\u001b[0m\u001b[0;34m(\u001b[0m\u001b[0me\u001b[0m\u001b[0;34m.\u001b[0m\u001b[0m__traceback__\u001b[0m\u001b[0;34m)\u001b[0m\u001b[0;34m\u001b[0m\u001b[0;34m\u001b[0m\u001b[0m\n",
            "\u001b[0;32m/usr/local/lib/python3.9/dist-packages/tensorflow/python/eager/polymorphic_function/polymorphic_function.py\u001b[0m in \u001b[0;36m__call__\u001b[0;34m(self, *args, **kwds)\u001b[0m\n\u001b[1;32m    892\u001b[0m \u001b[0;34m\u001b[0m\u001b[0m\n\u001b[1;32m    893\u001b[0m       \u001b[0;32mwith\u001b[0m \u001b[0mOptionalXlaContext\u001b[0m\u001b[0;34m(\u001b[0m\u001b[0mself\u001b[0m\u001b[0;34m.\u001b[0m\u001b[0m_jit_compile\u001b[0m\u001b[0;34m)\u001b[0m\u001b[0;34m:\u001b[0m\u001b[0;34m\u001b[0m\u001b[0;34m\u001b[0m\u001b[0m\n\u001b[0;32m--> 894\u001b[0;31m         \u001b[0mresult\u001b[0m \u001b[0;34m=\u001b[0m \u001b[0mself\u001b[0m\u001b[0;34m.\u001b[0m\u001b[0m_call\u001b[0m\u001b[0;34m(\u001b[0m\u001b[0;34m*\u001b[0m\u001b[0margs\u001b[0m\u001b[0;34m,\u001b[0m \u001b[0;34m**\u001b[0m\u001b[0mkwds\u001b[0m\u001b[0;34m)\u001b[0m\u001b[0;34m\u001b[0m\u001b[0;34m\u001b[0m\u001b[0m\n\u001b[0m\u001b[1;32m    895\u001b[0m \u001b[0;34m\u001b[0m\u001b[0m\n\u001b[1;32m    896\u001b[0m       \u001b[0mnew_tracing_count\u001b[0m \u001b[0;34m=\u001b[0m \u001b[0mself\u001b[0m\u001b[0;34m.\u001b[0m\u001b[0mexperimental_get_tracing_count\u001b[0m\u001b[0;34m(\u001b[0m\u001b[0;34m)\u001b[0m\u001b[0;34m\u001b[0m\u001b[0;34m\u001b[0m\u001b[0m\n",
            "\u001b[0;32m/usr/local/lib/python3.9/dist-packages/tensorflow/python/eager/polymorphic_function/polymorphic_function.py\u001b[0m in \u001b[0;36m_call\u001b[0;34m(self, *args, **kwds)\u001b[0m\n\u001b[1;32m    924\u001b[0m       \u001b[0;31m# In this case we have created variables on the first call, so we run the\u001b[0m\u001b[0;34m\u001b[0m\u001b[0;34m\u001b[0m\u001b[0m\n\u001b[1;32m    925\u001b[0m       \u001b[0;31m# defunned version which is guaranteed to never create variables.\u001b[0m\u001b[0;34m\u001b[0m\u001b[0;34m\u001b[0m\u001b[0m\n\u001b[0;32m--> 926\u001b[0;31m       \u001b[0;32mreturn\u001b[0m \u001b[0mself\u001b[0m\u001b[0;34m.\u001b[0m\u001b[0m_no_variable_creation_fn\u001b[0m\u001b[0;34m(\u001b[0m\u001b[0;34m*\u001b[0m\u001b[0margs\u001b[0m\u001b[0;34m,\u001b[0m \u001b[0;34m**\u001b[0m\u001b[0mkwds\u001b[0m\u001b[0;34m)\u001b[0m  \u001b[0;31m# pylint: disable=not-callable\u001b[0m\u001b[0;34m\u001b[0m\u001b[0;34m\u001b[0m\u001b[0m\n\u001b[0m\u001b[1;32m    927\u001b[0m     \u001b[0;32melif\u001b[0m \u001b[0mself\u001b[0m\u001b[0;34m.\u001b[0m\u001b[0m_variable_creation_fn\u001b[0m \u001b[0;32mis\u001b[0m \u001b[0;32mnot\u001b[0m \u001b[0;32mNone\u001b[0m\u001b[0;34m:\u001b[0m\u001b[0;34m\u001b[0m\u001b[0;34m\u001b[0m\u001b[0m\n\u001b[1;32m    928\u001b[0m       \u001b[0;31m# Release the lock early so that multiple threads can perform the call\u001b[0m\u001b[0;34m\u001b[0m\u001b[0;34m\u001b[0m\u001b[0m\n",
            "\u001b[0;32m/usr/local/lib/python3.9/dist-packages/tensorflow/python/eager/polymorphic_function/tracing_compiler.py\u001b[0m in \u001b[0;36m__call__\u001b[0;34m(self, *args, **kwargs)\u001b[0m\n\u001b[1;32m    141\u001b[0m       (concrete_function,\n\u001b[1;32m    142\u001b[0m        filtered_flat_args) = self._maybe_define_function(args, kwargs)\n\u001b[0;32m--> 143\u001b[0;31m     return concrete_function._call_flat(\n\u001b[0m\u001b[1;32m    144\u001b[0m         filtered_flat_args, captured_inputs=concrete_function.captured_inputs)  # pylint: disable=protected-access\n\u001b[1;32m    145\u001b[0m \u001b[0;34m\u001b[0m\u001b[0m\n",
            "\u001b[0;32m/usr/local/lib/python3.9/dist-packages/tensorflow/python/eager/polymorphic_function/monomorphic_function.py\u001b[0m in \u001b[0;36m_call_flat\u001b[0;34m(self, args, captured_inputs, cancellation_manager)\u001b[0m\n\u001b[1;32m   1755\u001b[0m         and executing_eagerly):\n\u001b[1;32m   1756\u001b[0m       \u001b[0;31m# No tape is watching; skip to running the function.\u001b[0m\u001b[0;34m\u001b[0m\u001b[0;34m\u001b[0m\u001b[0m\n\u001b[0;32m-> 1757\u001b[0;31m       return self._build_call_outputs(self._inference_function.call(\n\u001b[0m\u001b[1;32m   1758\u001b[0m           ctx, args, cancellation_manager=cancellation_manager))\n\u001b[1;32m   1759\u001b[0m     forward_backward = self._select_forward_and_backward_functions(\n",
            "\u001b[0;32m/usr/local/lib/python3.9/dist-packages/tensorflow/python/eager/polymorphic_function/monomorphic_function.py\u001b[0m in \u001b[0;36mcall\u001b[0;34m(self, ctx, args, cancellation_manager)\u001b[0m\n\u001b[1;32m    379\u001b[0m       \u001b[0;32mwith\u001b[0m \u001b[0m_InterpolateFunctionError\u001b[0m\u001b[0;34m(\u001b[0m\u001b[0mself\u001b[0m\u001b[0;34m)\u001b[0m\u001b[0;34m:\u001b[0m\u001b[0;34m\u001b[0m\u001b[0;34m\u001b[0m\u001b[0m\n\u001b[1;32m    380\u001b[0m         \u001b[0;32mif\u001b[0m \u001b[0mcancellation_manager\u001b[0m \u001b[0;32mis\u001b[0m \u001b[0;32mNone\u001b[0m\u001b[0;34m:\u001b[0m\u001b[0;34m\u001b[0m\u001b[0;34m\u001b[0m\u001b[0m\n\u001b[0;32m--> 381\u001b[0;31m           outputs = execute.execute(\n\u001b[0m\u001b[1;32m    382\u001b[0m               \u001b[0mstr\u001b[0m\u001b[0;34m(\u001b[0m\u001b[0mself\u001b[0m\u001b[0;34m.\u001b[0m\u001b[0msignature\u001b[0m\u001b[0;34m.\u001b[0m\u001b[0mname\u001b[0m\u001b[0;34m)\u001b[0m\u001b[0;34m,\u001b[0m\u001b[0;34m\u001b[0m\u001b[0;34m\u001b[0m\u001b[0m\n\u001b[1;32m    383\u001b[0m               \u001b[0mnum_outputs\u001b[0m\u001b[0;34m=\u001b[0m\u001b[0mself\u001b[0m\u001b[0;34m.\u001b[0m\u001b[0m_num_outputs\u001b[0m\u001b[0;34m,\u001b[0m\u001b[0;34m\u001b[0m\u001b[0;34m\u001b[0m\u001b[0m\n",
            "\u001b[0;32m/usr/local/lib/python3.9/dist-packages/tensorflow/python/eager/execute.py\u001b[0m in \u001b[0;36mquick_execute\u001b[0;34m(op_name, num_outputs, inputs, attrs, ctx, name)\u001b[0m\n\u001b[1;32m     50\u001b[0m   \u001b[0;32mtry\u001b[0m\u001b[0;34m:\u001b[0m\u001b[0;34m\u001b[0m\u001b[0;34m\u001b[0m\u001b[0m\n\u001b[1;32m     51\u001b[0m     \u001b[0mctx\u001b[0m\u001b[0;34m.\u001b[0m\u001b[0mensure_initialized\u001b[0m\u001b[0;34m(\u001b[0m\u001b[0;34m)\u001b[0m\u001b[0;34m\u001b[0m\u001b[0;34m\u001b[0m\u001b[0m\n\u001b[0;32m---> 52\u001b[0;31m     tensors = pywrap_tfe.TFE_Py_Execute(ctx._handle, device_name, op_name,\n\u001b[0m\u001b[1;32m     53\u001b[0m                                         inputs, attrs, num_outputs)\n\u001b[1;32m     54\u001b[0m   \u001b[0;32mexcept\u001b[0m \u001b[0mcore\u001b[0m\u001b[0;34m.\u001b[0m\u001b[0m_NotOkStatusException\u001b[0m \u001b[0;32mas\u001b[0m \u001b[0me\u001b[0m\u001b[0;34m:\u001b[0m\u001b[0;34m\u001b[0m\u001b[0;34m\u001b[0m\u001b[0m\n",
            "\u001b[0;31mKeyboardInterrupt\u001b[0m: "
          ]
        }
      ],
      "source": [
        "# Import VGG16\n",
        "vgg_model = VGG16(include_top=False, input_shape=(500, 500, 3))\n",
        "\n",
        "# Freezing VGG16 layers\n",
        "for layer in vgg_model.layers:\n",
        "    layer.trainable = False\n",
        "\n",
        "## adding \"custom\" layers\n",
        "\n",
        "## Flatten layer\n",
        "flat_1 = layers.Flatten()(vgg_model.layers[-1].output)\n",
        "\n",
        "## Dense layers\n",
        "dense_1 = layers.Dense(256, activation='relu')(flat_1)\n",
        "dense_2 = layers.Dense(128, activation='relu')(dense_1)\n",
        "dense_3 = layers.Dense(64, activation='relu')(dense_2)\n",
        "dense_4 = layers.Dense(32, activation='relu')(dense_3)\n",
        "dense_f = layers.Dense(16, activation='relu')(dense_4)\n",
        "\n",
        "#output layer with softmax \n",
        "output = layers.Dense(4, activation='softmax')(dense_f)\n",
        "\n",
        "# define new model\n",
        "tl_model = Model(inputs=vgg_model.inputs, outputs=output)\n",
        "\n",
        "# summarize\n",
        "tl_model.summary()\n",
        "\n",
        "# compile model\n",
        "tl_model.compile(loss='categorical_crossentropy', optimizer='adam', metrics=['accuracy'])\n",
        "\n",
        "# Early stopping\n",
        "es = EarlyStopping(monitor='val_accuracy', mode='max', patience=5,  restore_best_weights=True)\n",
        "\n",
        "# fit model\n",
        "tl_trained = tl_model.fit(X_train, y_train_onehot, validation_data=(X_val, y_val_onehot), batch_size=64 ,epochs=100, verbose=1)"
      ]
    }
  ],
  "metadata": {
    "kernelspec": {
      "display_name": "Python 3 (ipykernel)",
      "language": "python",
      "name": "python3"
    },
    "language_info": {
      "codemirror_mode": {
        "name": "ipython",
        "version": 3
      },
      "file_extension": ".py",
      "mimetype": "text/x-python",
      "name": "python",
      "nbconvert_exporter": "python",
      "pygments_lexer": "ipython3",
      "version": "3.9.7"
    },
    "colab": {
      "provenance": [],
      "machine_shape": "hm"
    },
    "accelerator": "GPU",
    "gpuClass": "premium"
  },
  "nbformat": 4,
  "nbformat_minor": 5
}