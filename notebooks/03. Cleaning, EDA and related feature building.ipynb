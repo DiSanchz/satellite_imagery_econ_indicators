{
 "cells": [
  {
   "cell_type": "markdown",
   "id": "d2000fc9",
   "metadata": {},
   "source": [
    "Note: At the end of the notebook all the notes elaborated thorugh it are collected. Jump directly there if you are interested more in the main conclusions than the feature building and EDA itself."
   ]
  },
  {
   "cell_type": "markdown",
   "id": "0e729925",
   "metadata": {},
   "source": [
    "## 0. Imports and useful functions"
   ]
  },
  {
   "cell_type": "code",
   "execution_count": 1,
   "id": "25245ffb",
   "metadata": {},
   "outputs": [],
   "source": [
    "import pandas as pd\n",
    "import numpy as np\n",
    "import seaborn as sns\n",
    "import matplotlib.pyplot as plt\n",
    "import warnings\n",
    "#from pywaffle import Waffle\n",
    "\n",
    "warnings.filterwarnings('ignore')\n",
    "sns.set(context='notebook', style='whitegrid', palette='colorblind', font_scale=1.2)"
   ]
  },
  {
   "cell_type": "code",
   "execution_count": 2,
   "id": "904c5f75",
   "metadata": {},
   "outputs": [],
   "source": [
    "def tukey_fences(data):\n",
    "    q1 = data.quantile(0.25)\n",
    "    q3 = data.quantile(0.75)\n",
    "    iqr = q3 - q1\n",
    "    lower_fence = q1 - 1.5 * iqr\n",
    "    upper_fence = q3 + 1.5 * iqr\n",
    "    return upper_fence, lower_fence"
   ]
  },
  {
   "cell_type": "markdown",
   "id": "3eac7e2b",
   "metadata": {},
   "source": [
    "## 1. Loading data"
   ]
  },
  {
   "cell_type": "markdown",
   "id": "9338e343",
   "metadata": {},
   "source": [
    "Note: SIEI stands for \"Satellite Imagery Economic Indicators\". An acronym that aims at referencing the body of this project."
   ]
  },
  {
   "cell_type": "code",
   "execution_count": 3,
   "id": "526fe5df",
   "metadata": {},
   "outputs": [],
   "source": [
    "siei = pd.read_csv(\"../data/siei_data_v1.csv\")\n",
    "siei.drop(\"Unnamed: 0\", axis=1, inplace=True)"
   ]
  },
  {
   "cell_type": "markdown",
   "id": "67e0ed27",
   "metadata": {},
   "source": [
    "## 2. Cleaning"
   ]
  },
  {
   "cell_type": "code",
   "execution_count": 4,
   "id": "c2488256",
   "metadata": {},
   "outputs": [
    {
     "data": {
      "text/html": [
       "<div>\n",
       "<style scoped>\n",
       "    .dataframe tbody tr th:only-of-type {\n",
       "        vertical-align: middle;\n",
       "    }\n",
       "\n",
       "    .dataframe tbody tr th {\n",
       "        vertical-align: top;\n",
       "    }\n",
       "\n",
       "    .dataframe thead th {\n",
       "        text-align: right;\n",
       "    }\n",
       "</style>\n",
       "<table border=\"1\" class=\"dataframe\">\n",
       "  <thead>\n",
       "    <tr style=\"text-align: right;\">\n",
       "      <th></th>\n",
       "      <th>cityname</th>\n",
       "      <th>country</th>\n",
       "      <th>latest_figure</th>\n",
       "      <th>figure_description</th>\n",
       "      <th>town_code</th>\n",
       "      <th>GDP_19</th>\n",
       "      <th>HDI_19</th>\n",
       "      <th>year_latest_figure</th>\n",
       "      <th>2019_figure_est</th>\n",
       "    </tr>\n",
       "  </thead>\n",
       "  <tbody>\n",
       "    <tr>\n",
       "      <th>0</th>\n",
       "      <td>Adrar</td>\n",
       "      <td>algeria</td>\n",
       "      <td>68276</td>\n",
       "      <td>(C)2008-04-14Area</td>\n",
       "      <td>0</td>\n",
       "      <td>3953,576</td>\n",
       "      <td>0.748</td>\n",
       "      <td>2008</td>\n",
       "      <td>84344</td>\n",
       "    </tr>\n",
       "    <tr>\n",
       "      <th>1</th>\n",
       "      <td>Aflou</td>\n",
       "      <td>algeria</td>\n",
       "      <td>93585</td>\n",
       "      <td>(C)2008-04-14Area</td>\n",
       "      <td>1</td>\n",
       "      <td>3953,576</td>\n",
       "      <td>0.748</td>\n",
       "      <td>2008</td>\n",
       "      <td>115609</td>\n",
       "    </tr>\n",
       "    <tr>\n",
       "      <th>2</th>\n",
       "      <td>Aïn Béïda</td>\n",
       "      <td>algeria</td>\n",
       "      <td>116064</td>\n",
       "      <td>(C)2008-04-14Area</td>\n",
       "      <td>2</td>\n",
       "      <td>3953,576</td>\n",
       "      <td>0.748</td>\n",
       "      <td>2008</td>\n",
       "      <td>143379</td>\n",
       "    </tr>\n",
       "    <tr>\n",
       "      <th>3</th>\n",
       "      <td>Aïn Defla</td>\n",
       "      <td>algeria</td>\n",
       "      <td>55259</td>\n",
       "      <td>(C)2008-04-14Area</td>\n",
       "      <td>3</td>\n",
       "      <td>3953,576</td>\n",
       "      <td>0.748</td>\n",
       "      <td>2008</td>\n",
       "      <td>68263</td>\n",
       "    </tr>\n",
       "    <tr>\n",
       "      <th>4</th>\n",
       "      <td>Aïn M'lila</td>\n",
       "      <td>algeria</td>\n",
       "      <td>65371</td>\n",
       "      <td>(C)2008-04-14Area</td>\n",
       "      <td>4</td>\n",
       "      <td>3953,576</td>\n",
       "      <td>0.748</td>\n",
       "      <td>2008</td>\n",
       "      <td>80755</td>\n",
       "    </tr>\n",
       "    <tr>\n",
       "      <th>...</th>\n",
       "      <td>...</td>\n",
       "      <td>...</td>\n",
       "      <td>...</td>\n",
       "      <td>...</td>\n",
       "      <td>...</td>\n",
       "      <td>...</td>\n",
       "      <td>...</td>\n",
       "      <td>...</td>\n",
       "      <td>...</td>\n",
       "    </tr>\n",
       "    <tr>\n",
       "      <th>5121</th>\n",
       "      <td>Tauranga</td>\n",
       "      <td>newzealand</td>\n",
       "      <td>158300</td>\n",
       "      <td>(Ep)2022-06-30Area</td>\n",
       "      <td>5488</td>\n",
       "      <td>42342,994</td>\n",
       "      <td>0.937</td>\n",
       "      <td>2022</td>\n",
       "      <td>151392</td>\n",
       "    </tr>\n",
       "    <tr>\n",
       "      <th>5122</th>\n",
       "      <td>Wellington</td>\n",
       "      <td>newzealand</td>\n",
       "      <td>212000</td>\n",
       "      <td>(Ep)2022-06-30Area</td>\n",
       "      <td>5489</td>\n",
       "      <td>42342,994</td>\n",
       "      <td>0.937</td>\n",
       "      <td>2022</td>\n",
       "      <td>202749</td>\n",
       "    </tr>\n",
       "    <tr>\n",
       "      <th>5123</th>\n",
       "      <td>Whangārei</td>\n",
       "      <td>newzealand</td>\n",
       "      <td>54900</td>\n",
       "      <td>(Ep)2022-06-30Area</td>\n",
       "      <td>5490</td>\n",
       "      <td>42342,994</td>\n",
       "      <td>0.937</td>\n",
       "      <td>2022</td>\n",
       "      <td>52504</td>\n",
       "    </tr>\n",
       "    <tr>\n",
       "      <th>5124</th>\n",
       "      <td>Lae</td>\n",
       "      <td>papuanewguinea</td>\n",
       "      <td>148934</td>\n",
       "      <td>(Cf)2011-07-10Area</td>\n",
       "      <td>5491</td>\n",
       "      <td>2877,577</td>\n",
       "      <td>0.560</td>\n",
       "      <td>2011</td>\n",
       "      <td>182050</td>\n",
       "    </tr>\n",
       "    <tr>\n",
       "      <th>5125</th>\n",
       "      <td>Port Moresby</td>\n",
       "      <td>papuanewguinea</td>\n",
       "      <td>364125</td>\n",
       "      <td>(Cf)2011-07-10Area</td>\n",
       "      <td>5492</td>\n",
       "      <td>2877,577</td>\n",
       "      <td>0.560</td>\n",
       "      <td>2011</td>\n",
       "      <td>445090</td>\n",
       "    </tr>\n",
       "  </tbody>\n",
       "</table>\n",
       "<p>5126 rows × 9 columns</p>\n",
       "</div>"
      ],
      "text/plain": [
       "          cityname         country  latest_figure   figure_description  \\\n",
       "0            Adrar         algeria          68276   (C)2008-04-14Area    \n",
       "1            Aflou         algeria          93585   (C)2008-04-14Area    \n",
       "2        Aïn Béïda         algeria         116064   (C)2008-04-14Area    \n",
       "3        Aïn Defla         algeria          55259   (C)2008-04-14Area    \n",
       "4       Aïn M'lila         algeria          65371   (C)2008-04-14Area    \n",
       "...            ...             ...            ...                  ...   \n",
       "5121      Tauranga      newzealand         158300  (Ep)2022-06-30Area    \n",
       "5122    Wellington      newzealand         212000  (Ep)2022-06-30Area    \n",
       "5123     Whangārei      newzealand          54900  (Ep)2022-06-30Area    \n",
       "5124           Lae  papuanewguinea         148934  (Cf)2011-07-10Area    \n",
       "5125  Port Moresby  papuanewguinea         364125  (Cf)2011-07-10Area    \n",
       "\n",
       "      town_code     GDP_19  HDI_19  year_latest_figure  2019_figure_est  \n",
       "0             0   3953,576   0.748                2008            84344  \n",
       "1             1   3953,576   0.748                2008           115609  \n",
       "2             2   3953,576   0.748                2008           143379  \n",
       "3             3   3953,576   0.748                2008            68263  \n",
       "4             4   3953,576   0.748                2008            80755  \n",
       "...         ...        ...     ...                 ...              ...  \n",
       "5121       5488  42342,994   0.937                2022           151392  \n",
       "5122       5489  42342,994   0.937                2022           202749  \n",
       "5123       5490  42342,994   0.937                2022            52504  \n",
       "5124       5491   2877,577   0.560                2011           182050  \n",
       "5125       5492   2877,577   0.560                2011           445090  \n",
       "\n",
       "[5126 rows x 9 columns]"
      ]
     },
     "execution_count": 4,
     "metadata": {},
     "output_type": "execute_result"
    }
   ],
   "source": [
    "siei"
   ]
  },
  {
   "cell_type": "code",
   "execution_count": 5,
   "id": "aeb8a42c",
   "metadata": {},
   "outputs": [],
   "source": [
    "# Correcting issue with Azerbaijan's country tag\n",
    "\n",
    "siei['country'] = siei['country'].apply(lambda x: x.replace('Azerbaijan.html', 'azerbaijan'))"
   ]
  },
  {
   "cell_type": "code",
   "execution_count": 6,
   "id": "35ba0cb1",
   "metadata": {},
   "outputs": [
    {
     "name": "stdout",
     "output_type": "stream",
     "text": [
      "cityname               object\n",
      "country                object\n",
      "latest_figure           int64\n",
      "figure_description     object\n",
      "town_code               int64\n",
      "GDP_19                 object\n",
      "HDI_19                float64\n",
      "year_latest_figure      int64\n",
      "2019_figure_est         int64\n",
      "dtype: object\n"
     ]
    }
   ],
   "source": [
    "# GDP_19 should be float but is it not considered as such so it should be converted\n",
    "\n",
    "print(siei.dtypes)\n",
    "\n",
    "# Fixing GDP_19 so it can be converted to float\n",
    "\n",
    "siei[\"GDP_19\"] = siei[\"GDP_19\"].apply(lambda x: float(x.replace(',','.')))"
   ]
  },
  {
   "cell_type": "code",
   "execution_count": 7,
   "id": "25444038",
   "metadata": {},
   "outputs": [
    {
     "data": {
      "text/html": [
       "<div>\n",
       "<style scoped>\n",
       "    .dataframe tbody tr th:only-of-type {\n",
       "        vertical-align: middle;\n",
       "    }\n",
       "\n",
       "    .dataframe tbody tr th {\n",
       "        vertical-align: top;\n",
       "    }\n",
       "\n",
       "    .dataframe thead th {\n",
       "        text-align: right;\n",
       "    }\n",
       "</style>\n",
       "<table border=\"1\" class=\"dataframe\">\n",
       "  <thead>\n",
       "    <tr style=\"text-align: right;\">\n",
       "      <th></th>\n",
       "      <th>latest_figure</th>\n",
       "      <th>town_code</th>\n",
       "      <th>GDP_19</th>\n",
       "      <th>HDI_19</th>\n",
       "      <th>year_latest_figure</th>\n",
       "      <th>2019_figure_est</th>\n",
       "    </tr>\n",
       "  </thead>\n",
       "  <tbody>\n",
       "    <tr>\n",
       "      <th>count</th>\n",
       "      <td>5126.000000</td>\n",
       "      <td>5126.000000</td>\n",
       "      <td>5126.000000</td>\n",
       "      <td>5126.000000</td>\n",
       "      <td>5126.000000</td>\n",
       "      <td>5126.000000</td>\n",
       "    </tr>\n",
       "    <tr>\n",
       "      <th>mean</th>\n",
       "      <td>143678.717519</td>\n",
       "      <td>2732.445962</td>\n",
       "      <td>17139.070863</td>\n",
       "      <td>0.776219</td>\n",
       "      <td>2017.000975</td>\n",
       "      <td>150725.362271</td>\n",
       "    </tr>\n",
       "    <tr>\n",
       "      <th>std</th>\n",
       "      <td>93631.115892</td>\n",
       "      <td>1597.765909</td>\n",
       "      <td>19795.194451</td>\n",
       "      <td>0.130695</td>\n",
       "      <td>5.838927</td>\n",
       "      <td>97194.872947</td>\n",
       "    </tr>\n",
       "    <tr>\n",
       "      <th>min</th>\n",
       "      <td>50005.000000</td>\n",
       "      <td>0.000000</td>\n",
       "      <td>397.572000</td>\n",
       "      <td>0.393000</td>\n",
       "      <td>1991.000000</td>\n",
       "      <td>50009.000000</td>\n",
       "    </tr>\n",
       "    <tr>\n",
       "      <th>25%</th>\n",
       "      <td>73548.750000</td>\n",
       "      <td>1346.250000</td>\n",
       "      <td>3398.214000</td>\n",
       "      <td>0.716000</td>\n",
       "      <td>2012.000000</td>\n",
       "      <td>77882.250000</td>\n",
       "    </tr>\n",
       "    <tr>\n",
       "      <th>50%</th>\n",
       "      <td>112505.000000</td>\n",
       "      <td>2693.500000</td>\n",
       "      <td>7842.602000</td>\n",
       "      <td>0.780000</td>\n",
       "      <td>2020.000000</td>\n",
       "      <td>116721.500000</td>\n",
       "    </tr>\n",
       "    <tr>\n",
       "      <th>75%</th>\n",
       "      <td>182321.500000</td>\n",
       "      <td>4169.750000</td>\n",
       "      <td>29576.250000</td>\n",
       "      <td>0.897000</td>\n",
       "      <td>2021.000000</td>\n",
       "      <td>191836.500000</td>\n",
       "    </tr>\n",
       "    <tr>\n",
       "      <th>max</th>\n",
       "      <td>498003.000000</td>\n",
       "      <td>5492.000000</td>\n",
       "      <td>84476.471000</td>\n",
       "      <td>0.962000</td>\n",
       "      <td>2022.000000</td>\n",
       "      <td>499242.000000</td>\n",
       "    </tr>\n",
       "  </tbody>\n",
       "</table>\n",
       "</div>"
      ],
      "text/plain": [
       "       latest_figure    town_code        GDP_19       HDI_19  \\\n",
       "count    5126.000000  5126.000000   5126.000000  5126.000000   \n",
       "mean   143678.717519  2732.445962  17139.070863     0.776219   \n",
       "std     93631.115892  1597.765909  19795.194451     0.130695   \n",
       "min     50005.000000     0.000000    397.572000     0.393000   \n",
       "25%     73548.750000  1346.250000   3398.214000     0.716000   \n",
       "50%    112505.000000  2693.500000   7842.602000     0.780000   \n",
       "75%    182321.500000  4169.750000  29576.250000     0.897000   \n",
       "max    498003.000000  5492.000000  84476.471000     0.962000   \n",
       "\n",
       "       year_latest_figure  2019_figure_est  \n",
       "count         5126.000000      5126.000000  \n",
       "mean          2017.000975    150725.362271  \n",
       "std              5.838927     97194.872947  \n",
       "min           1991.000000     50009.000000  \n",
       "25%           2012.000000     77882.250000  \n",
       "50%           2020.000000    116721.500000  \n",
       "75%           2021.000000    191836.500000  \n",
       "max           2022.000000    499242.000000  "
      ]
     },
     "execution_count": 7,
     "metadata": {},
     "output_type": "execute_result"
    }
   ],
   "source": [
    "siei.describe()"
   ]
  },
  {
   "cell_type": "markdown",
   "id": "8c24a78c",
   "metadata": {},
   "source": [
    "## 3. Reference indicators: EDA, target feature building and more"
   ]
  },
  {
   "cell_type": "markdown",
   "id": "009d6a38",
   "metadata": {},
   "source": [
    "The Dataframe `siei_c_mean` is defined as it will be useful for target feture building later in this section. It is equivalent to siei grouped by country with mean as aggregation function. Note that mast features lost most of its meaning under this transformation, with the notable exception of those to be employed to build the target labels."
   ]
  },
  {
   "cell_type": "code",
   "execution_count": 8,
   "id": "4df4bc10",
   "metadata": {},
   "outputs": [
    {
     "data": {
      "text/html": [
       "<div>\n",
       "<style scoped>\n",
       "    .dataframe tbody tr th:only-of-type {\n",
       "        vertical-align: middle;\n",
       "    }\n",
       "\n",
       "    .dataframe tbody tr th {\n",
       "        vertical-align: top;\n",
       "    }\n",
       "\n",
       "    .dataframe thead th {\n",
       "        text-align: right;\n",
       "    }\n",
       "</style>\n",
       "<table border=\"1\" class=\"dataframe\">\n",
       "  <thead>\n",
       "    <tr style=\"text-align: right;\">\n",
       "      <th></th>\n",
       "      <th>GDP_19</th>\n",
       "      <th>HDI_19</th>\n",
       "      <th>year_latest_figure</th>\n",
       "    </tr>\n",
       "    <tr>\n",
       "      <th>country</th>\n",
       "      <th></th>\n",
       "      <th></th>\n",
       "      <th></th>\n",
       "    </tr>\n",
       "  </thead>\n",
       "  <tbody>\n",
       "    <tr>\n",
       "      <th>afghanistan</th>\n",
       "      <td>586.204</td>\n",
       "      <td>0.488</td>\n",
       "      <td>2020.0</td>\n",
       "    </tr>\n",
       "    <tr>\n",
       "      <th>albania</th>\n",
       "      <td>5345.058</td>\n",
       "      <td>0.810</td>\n",
       "      <td>2011.0</td>\n",
       "    </tr>\n",
       "    <tr>\n",
       "      <th>algeria</th>\n",
       "      <td>3953.576</td>\n",
       "      <td>0.748</td>\n",
       "      <td>2008.0</td>\n",
       "    </tr>\n",
       "    <tr>\n",
       "      <th>argentina</th>\n",
       "      <td>10054.023</td>\n",
       "      <td>0.852</td>\n",
       "      <td>2019.0</td>\n",
       "    </tr>\n",
       "    <tr>\n",
       "      <th>azerbaijan</th>\n",
       "      <td>4826.352</td>\n",
       "      <td>0.761</td>\n",
       "      <td>2015.0</td>\n",
       "    </tr>\n",
       "    <tr>\n",
       "      <th>...</th>\n",
       "      <td>...</td>\n",
       "      <td>...</td>\n",
       "      <td>...</td>\n",
       "    </tr>\n",
       "    <tr>\n",
       "      <th>uzbekistan</th>\n",
       "      <td>1801.429</td>\n",
       "      <td>0.726</td>\n",
       "      <td>2022.0</td>\n",
       "    </tr>\n",
       "    <tr>\n",
       "      <th>venezuela</th>\n",
       "      <td>2675.272</td>\n",
       "      <td>0.721</td>\n",
       "      <td>2019.0</td>\n",
       "    </tr>\n",
       "    <tr>\n",
       "      <th>vietnam</th>\n",
       "      <td>3398.214</td>\n",
       "      <td>0.703</td>\n",
       "      <td>2019.0</td>\n",
       "    </tr>\n",
       "    <tr>\n",
       "      <th>zambia</th>\n",
       "      <td>1272.238</td>\n",
       "      <td>0.575</td>\n",
       "      <td>2010.0</td>\n",
       "    </tr>\n",
       "    <tr>\n",
       "      <th>zimbabwe</th>\n",
       "      <td>1542.748</td>\n",
       "      <td>0.601</td>\n",
       "      <td>2022.0</td>\n",
       "    </tr>\n",
       "  </tbody>\n",
       "</table>\n",
       "<p>126 rows × 3 columns</p>\n",
       "</div>"
      ],
      "text/plain": [
       "                GDP_19  HDI_19  year_latest_figure\n",
       "country                                           \n",
       "afghanistan    586.204   0.488              2020.0\n",
       "albania       5345.058   0.810              2011.0\n",
       "algeria       3953.576   0.748              2008.0\n",
       "argentina    10054.023   0.852              2019.0\n",
       "azerbaijan    4826.352   0.761              2015.0\n",
       "...                ...     ...                 ...\n",
       "uzbekistan    1801.429   0.726              2022.0\n",
       "venezuela     2675.272   0.721              2019.0\n",
       "vietnam       3398.214   0.703              2019.0\n",
       "zambia        1272.238   0.575              2010.0\n",
       "zimbabwe      1542.748   0.601              2022.0\n",
       "\n",
       "[126 rows x 3 columns]"
      ]
     },
     "execution_count": 8,
     "metadata": {},
     "output_type": "execute_result"
    }
   ],
   "source": [
    "siei_c_mean = siei.groupby(\"country\").mean()\n",
    "siei_c_mean[['GDP_19', 'HDI_19', 'year_latest_figure']]"
   ]
  },
  {
   "cell_type": "markdown",
   "id": "7dfb9e09",
   "metadata": {},
   "source": [
    "### 3.1 HDI (All values)"
   ]
  },
  {
   "cell_type": "code",
   "execution_count": 9,
   "id": "3f17be3b",
   "metadata": {},
   "outputs": [
    {
     "name": "stdout",
     "output_type": "stream",
     "text": [
      "Min val.: 0.393\n",
      "Q25: 0.716\n",
      "Q50 (Mean): 0.78\n",
      "Q75: 0.897\n",
      "Max val.: 0.962\n",
      "\n",
      "Outlier fences (Lo/Up): 0.4444999999999999, 1.1685\n"
     ]
    }
   ],
   "source": [
    "hdi = siei['HDI_19']\n",
    "\n",
    "print(f\"Min val.: {np.array(hdi).min()}\")\n",
    "print(f\"Q25: {hdi.quantile(0.25)}\")\n",
    "print(f\"Q50 (Mean): {hdi.quantile(0.50)}\")\n",
    "print(f\"Q75: {hdi.quantile(0.75)}\")\n",
    "print(f\"Max val.: {np.array(hdi).max()}\")\n",
    "print('')\n",
    "print(f\"Outlier fences (Lo/Up): {tukey_fences(hdi)[1]}, {tukey_fences(hdi)[0]}\")"
   ]
  },
  {
   "cell_type": "code",
   "execution_count": 10,
   "id": "988caf0c",
   "metadata": {},
   "outputs": [
    {
     "data": {
      "text/plain": [
       "<AxesSubplot:ylabel='HDI_19'>"
      ]
     },
     "execution_count": 10,
     "metadata": {},
     "output_type": "execute_result"
    },
    {
     "data": {
      "image/png": "[encoded data removed]",
      "text/plain": [
       "<Figure size 432x288 with 1 Axes>"
      ]
     },
     "metadata": {},
     "output_type": "display_data"
    }
   ],
   "source": [
    "sns.boxplot(y=hdi)"
   ]
  },
  {
   "cell_type": "code",
   "execution_count": 11,
   "id": "4edd6c67",
   "metadata": {},
   "outputs": [
    {
     "data": {
      "text/plain": [
       "<matplotlib.lines.Line2D at 0x7f634fd19160>"
      ]
     },
     "execution_count": 11,
     "metadata": {},
     "output_type": "execute_result"
    },
    {
     "data": {
      "image/png": "[encoded data removed]",
      "text/plain": [
       "<Figure size 432x288 with 1 Axes>"
      ]
     },
     "metadata": {},
     "output_type": "display_data"
    }
   ],
   "source": [
    "sns.histplot(data=siei, x=hdi, kde=True)\n",
    "plt.axvline(tukey_fences(hdi)[1], 0,1, color=\"red\")\n",
    "plt.axvline(tukey_fences(hdi)[0], 0,1, color=\"red\")"
   ]
  },
  {
   "cell_type": "markdown",
   "id": "4dc9b3d2",
   "metadata": {},
   "source": [
    "### 3.2 HDI (Country values)"
   ]
  },
  {
   "cell_type": "code",
   "execution_count": 12,
   "id": "79120056",
   "metadata": {},
   "outputs": [
    {
     "name": "stdout",
     "output_type": "stream",
     "text": [
      "Min val.: 0.393\n",
      "Q25: 0.59875\n",
      "Q50 (Mean): 0.747\n",
      "Q75: 0.85275\n",
      "Max val.: 0.962\n",
      "\n",
      "Outlier fences (Lo/Up): 0.21775, 1.2337500000000001\n"
     ]
    }
   ],
   "source": [
    "hdi = pd.Series(siei_c_mean['HDI_19'])\n",
    "\n",
    "print(f\"Min val.: {np.array(hdi).min()}\")\n",
    "print(f\"Q25: {hdi.quantile(0.25)}\")\n",
    "print(f\"Q50 (Mean): {hdi.quantile(0.50)}\")\n",
    "print(f\"Q75: {hdi.quantile(0.75)}\")\n",
    "print(f\"Max val.: {np.array(hdi).max()}\")\n",
    "print('')\n",
    "print(f\"Outlier fences (Lo/Up): {tukey_fences(hdi)[1]}, {tukey_fences(hdi)[0]}\")"
   ]
  },
  {
   "cell_type": "code",
   "execution_count": 13,
   "id": "fab7bcf9",
   "metadata": {},
   "outputs": [
    {
     "data": {
      "text/plain": [
       "<AxesSubplot:ylabel='HDI_19'>"
      ]
     },
     "execution_count": 13,
     "metadata": {},
     "output_type": "execute_result"
    },
    {
     "data": {
      "image/png": "[encoded data removed]",
      "text/plain": [
       "<Figure size 432x288 with 1 Axes>"
      ]
     },
     "metadata": {},
     "output_type": "display_data"
    }
   ],
   "source": [
    "sns.boxplot(y=hdi)"
   ]
  },
  {
   "cell_type": "code",
   "execution_count": 14,
   "id": "40d3b8ef",
   "metadata": {},
   "outputs": [
    {
     "data": {
      "text/plain": [
       "<matplotlib.lines.Line2D at 0x7f634fca5610>"
      ]
     },
     "execution_count": 14,
     "metadata": {},
     "output_type": "execute_result"
    },
    {
     "data": {
      "image/png": "[encoded data removed]",
      "text/plain": [
       "<Figure size 432x288 with 1 Axes>"
      ]
     },
     "metadata": {},
     "output_type": "display_data"
    }
   ],
   "source": [
    "sns.histplot(data=siei, x=hdi, kde=True)\n",
    "plt.axvline(tukey_fences(hdi)[1], 0,1, color=\"red\")\n",
    "plt.axvline(tukey_fences(hdi)[0], 0,1, color=\"red\")"
   ]
  },
  {
   "cell_type": "markdown",
   "id": "d8c33ed6",
   "metadata": {},
   "source": [
    "### 3.3 GDP (All values)"
   ]
  },
  {
   "cell_type": "code",
   "execution_count": 15,
   "id": "9c074f99",
   "metadata": {},
   "outputs": [
    {
     "name": "stdout",
     "output_type": "stream",
     "text": [
      "Min val.: <built-in method min of numpy.ndarray object at 0x7f634fc72b10>\n",
      "Q25: 3398.214\n",
      "Q50 (Mean): 7842.602\n",
      "Q75: 29576.25\n",
      "Max val.: 84476.471\n",
      "\n",
      "Outlier fences (Lo/Up): -35868.840000000004, 68843.304\n"
     ]
    }
   ],
   "source": [
    "gdp = siei['GDP_19']\n",
    "\n",
    "print(f\"Min val.: {np.array(gdp).min}\")\n",
    "print(f\"Q25: {gdp.quantile(0.25)}\")\n",
    "print(f\"Q50 (Mean): {gdp.quantile(0.50)}\")\n",
    "print(f\"Q75: {gdp.quantile(0.75)}\")\n",
    "print(f\"Max val.: {np.array(gdp).max()}\")\n",
    "print('')\n",
    "print(f\"Outlier fences (Lo/Up): {tukey_fences(gdp)[1]}, {tukey_fences(gdp)[0]}\")"
   ]
  },
  {
   "cell_type": "code",
   "execution_count": 16,
   "id": "03ada129",
   "metadata": {
    "scrolled": true
   },
   "outputs": [
    {
     "data": {
      "text/plain": [
       "<AxesSubplot:ylabel='GDP_19'>"
      ]
     },
     "execution_count": 16,
     "metadata": {},
     "output_type": "execute_result"
    },
    {
     "data": {
      "image/png": "[encoded data removed]",
      "text/plain": [
       "<Figure size 432x288 with 1 Axes>"
      ]
     },
     "metadata": {},
     "output_type": "display_data"
    }
   ],
   "source": [
    "sns.boxplot(y=gdp)"
   ]
  },
  {
   "cell_type": "code",
   "execution_count": 17,
   "id": "44366c01",
   "metadata": {},
   "outputs": [
    {
     "data": {
      "text/plain": [
       "<matplotlib.lines.Line2D at 0x7f634fb8f2e0>"
      ]
     },
     "execution_count": 17,
     "metadata": {},
     "output_type": "execute_result"
    },
    {
     "data": {
      "image/png": "[encoded data removed]",
      "text/plain": [
       "<Figure size 432x288 with 1 Axes>"
      ]
     },
     "metadata": {},
     "output_type": "display_data"
    }
   ],
   "source": [
    "sns.histplot(data=siei, x=gdp, kde=True)\n",
    "plt.axvline(tukey_fences(gdp)[1], 0,1, color=\"red\")\n",
    "plt.axvline(tukey_fences(gdp)[0], 0,1, color=\"red\")"
   ]
  },
  {
   "cell_type": "markdown",
   "id": "bb038000",
   "metadata": {},
   "source": [
    "### 3.4 GDP (Country values)"
   ]
  },
  {
   "cell_type": "code",
   "execution_count": 18,
   "id": "866655f6",
   "metadata": {},
   "outputs": [
    {
     "name": "stdout",
     "output_type": "stream",
     "text": [
      "Min val.: 397.572\n",
      "Q25: 1752.595\n",
      "Q50 (Mean): 5563.4215\n",
      "Q75: 15839.894\n",
      "Max val.: 84476.471\n",
      "\n",
      "Outlier fences (Lo/Up): -19378.3535, 36970.8425\n"
     ]
    }
   ],
   "source": [
    "gdp = pd.Series(siei_c_mean['GDP_19'])\n",
    "\n",
    "print(f\"Min val.: {np.array(gdp).min()}\")\n",
    "print(f\"Q25: {gdp.quantile(0.25)}\")\n",
    "print(f\"Q50 (Mean): {gdp.quantile(0.50)}\")\n",
    "print(f\"Q75: {gdp.quantile(0.75)}\")\n",
    "print(f\"Max val.: {np.array(gdp).max()}\")\n",
    "print('')\n",
    "print(f\"Outlier fences (Lo/Up): {tukey_fences(gdp)[1]}, {tukey_fences(gdp)[0]}\")"
   ]
  },
  {
   "cell_type": "code",
   "execution_count": 19,
   "id": "dd734824",
   "metadata": {},
   "outputs": [
    {
     "data": {
      "text/plain": [
       "<AxesSubplot:ylabel='GDP_19'>"
      ]
     },
     "execution_count": 19,
     "metadata": {},
     "output_type": "execute_result"
    },
    {
     "data": {
      "image/png": "[encoded data removed]",
      "text/plain": [
       "<Figure size 432x288 with 1 Axes>"
      ]
     },
     "metadata": {},
     "output_type": "display_data"
    }
   ],
   "source": [
    "sns.boxplot(y=gdp)"
   ]
  },
  {
   "cell_type": "code",
   "execution_count": 20,
   "id": "d1329d48",
   "metadata": {},
   "outputs": [
    {
     "data": {
      "text/plain": [
       "<matplotlib.lines.Line2D at 0x7f634fa01e20>"
      ]
     },
     "execution_count": 20,
     "metadata": {},
     "output_type": "execute_result"
    },
    {
     "data": {
      "image/png": "[encoded data removed]",
      "text/plain": [
       "<Figure size 432x288 with 1 Axes>"
      ]
     },
     "metadata": {},
     "output_type": "display_data"
    }
   ],
   "source": [
    "sns.histplot(data=siei, x=gdp, kde=True)\n",
    "plt.axvline(tukey_fences(gdp)[1], 0,1, color=\"red\")\n",
    "plt.axvline(tukey_fences(gdp)[0], 0,1, color=\"red\")"
   ]
  },
  {
   "cell_type": "markdown",
   "id": "2db46955",
   "metadata": {},
   "source": [
    "### 3.6 LogGDP (All values)"
   ]
  },
  {
   "cell_type": "code",
   "execution_count": 21,
   "id": "085fb9ef",
   "metadata": {},
   "outputs": [
    {
     "name": "stdout",
     "output_type": "stream",
     "text": [
      "Min val.: <built-in method min of numpy.ndarray object at 0x7f634fa696f0>\n",
      "Q25: 8.131005278471315\n",
      "Q50 (Mean): 8.967325946036997\n",
      "Q75: 10.29472695338031\n",
      "Max val.: 11.344228324866807\n",
      "\n",
      "Outlier fences (Lo/Up): 4.885422766107823, 13.540309465743803\n"
     ]
    }
   ],
   "source": [
    "gdp = np.log(siei['GDP_19'])\n",
    "\n",
    "print(f\"Min val.: {np.array(gdp).min}\")\n",
    "print(f\"Q25: {gdp.quantile(0.25)}\")\n",
    "print(f\"Q50 (Mean): {gdp.quantile(0.50)}\")\n",
    "print(f\"Q75: {gdp.quantile(0.75)}\")\n",
    "print(f\"Max val.: {np.array(gdp).max()}\")\n",
    "print('')\n",
    "print(f\"Outlier fences (Lo/Up): {tukey_fences(gdp)[1]}, {tukey_fences(gdp)[0]}\")"
   ]
  },
  {
   "cell_type": "code",
   "execution_count": 22,
   "id": "f98d7872",
   "metadata": {},
   "outputs": [
    {
     "data": {
      "text/plain": [
       "<AxesSubplot:ylabel='GDP_19'>"
      ]
     },
     "execution_count": 22,
     "metadata": {},
     "output_type": "execute_result"
    },
    {
     "data": {
      "image/png": "[encoded data removed]",
      "text/plain": [
       "<Figure size 432x288 with 1 Axes>"
      ]
     },
     "metadata": {},
     "output_type": "display_data"
    }
   ],
   "source": [
    "sns.boxplot(y=gdp)"
   ]
  },
  {
   "cell_type": "code",
   "execution_count": 23,
   "id": "9af32530",
   "metadata": {},
   "outputs": [
    {
     "data": {
      "text/plain": [
       "<matplotlib.lines.Line2D at 0x7f634f9441f0>"
      ]
     },
     "execution_count": 23,
     "metadata": {},
     "output_type": "execute_result"
    },
    {
     "data": {
      "image/png": "[encoded data removed]",
      "text/plain": [
       "<Figure size 432x288 with 1 Axes>"
      ]
     },
     "metadata": {},
     "output_type": "display_data"
    }
   ],
   "source": [
    "sns.histplot(data=siei, x=gdp, kde=True)\n",
    "plt.axvline(tukey_fences(gdp)[1], 0,1, color=\"red\")\n",
    "plt.axvline(tukey_fences(gdp)[0], 0,1, color=\"red\")"
   ]
  },
  {
   "cell_type": "markdown",
   "id": "90ab0524",
   "metadata": {},
   "source": [
    "### 3.7 LogGDP (Country values)"
   ]
  },
  {
   "cell_type": "code",
   "execution_count": 24,
   "id": "ca261da5",
   "metadata": {},
   "outputs": [
    {
     "name": "stdout",
     "output_type": "stream",
     "text": [
      "Min val.: 5.985376049767424\n",
      "Q25: 7.468724991130193\n",
      "Q50 (Mean): 8.6231977060914\n",
      "Q75: 9.67027846189581\n",
      "Max val.: 11.344228324866807\n",
      "\n",
      "Outlier fences (Lo/Up): 4.166394784981767, 12.972608668044236\n"
     ]
    }
   ],
   "source": [
    "gdp = np.log(pd.Series(siei_c_mean['GDP_19']))\n",
    "\n",
    "print(f\"Min val.: {np.array(gdp).min()}\")\n",
    "print(f\"Q25: {gdp.quantile(0.25)}\")\n",
    "print(f\"Q50 (Mean): {gdp.quantile(0.50)}\")\n",
    "print(f\"Q75: {gdp.quantile(0.75)}\")\n",
    "print(f\"Max val.: {np.array(gdp).max()}\")\n",
    "print('')\n",
    "print(f\"Outlier fences (Lo/Up): {tukey_fences(gdp)[1]}, {tukey_fences(gdp)[0]}\")"
   ]
  },
  {
   "cell_type": "code",
   "execution_count": 25,
   "id": "086f646c",
   "metadata": {},
   "outputs": [
    {
     "data": {
      "text/plain": [
       "<AxesSubplot:ylabel='GDP_19'>"
      ]
     },
     "execution_count": 25,
     "metadata": {},
     "output_type": "execute_result"
    },
    {
     "data": {
      "image/png": "[encoded data removed]",
      "text/plain": [
       "<Figure size 432x288 with 1 Axes>"
      ]
     },
     "metadata": {},
     "output_type": "display_data"
    }
   ],
   "source": [
    "sns.boxplot(y=gdp)"
   ]
  },
  {
   "cell_type": "code",
   "execution_count": 26,
   "id": "b975af0d",
   "metadata": {},
   "outputs": [
    {
     "data": {
      "text/plain": [
       "<matplotlib.lines.Line2D at 0x7f634f844040>"
      ]
     },
     "execution_count": 26,
     "metadata": {},
     "output_type": "execute_result"
    },
    {
     "data": {
      "image/png": "[encoded data removed]",
      "text/plain": [
       "<Figure size 432x288 with 1 Axes>"
      ]
     },
     "metadata": {},
     "output_type": "display_data"
    }
   ],
   "source": [
    "sns.histplot(data=siei, x=gdp, kde=True)\n",
    "plt.axvline(tukey_fences(gdp)[1], 0,1, color=\"red\")\n",
    "plt.axvline(tukey_fences(gdp)[0], 0,1, color=\"red\")"
   ]
  },
  {
   "cell_type": "markdown",
   "id": "97d0381c",
   "metadata": {},
   "source": [
    "### 3.8 Target features building (HDI & Log GDP unique values)"
   ]
  },
  {
   "cell_type": "code",
   "execution_count": 27,
   "id": "7852d5ec",
   "metadata": {},
   "outputs": [],
   "source": [
    "# Building new feature: Log GDP\n",
    "\n",
    "siei['LogGDP_19'] = np.log(siei['GDP_19'])\n",
    "siei_c_mean['LogGDP_19'] = np.log(siei_c_mean['GDP_19'])"
   ]
  },
  {
   "cell_type": "code",
   "execution_count": 28,
   "id": "917b804b",
   "metadata": {},
   "outputs": [],
   "source": [
    "# Defining relevant boundaries for target feature building\n",
    "\n",
    "gdp = pd.Series(siei_c_mean['LogGDP_19'])\n",
    "hdi = pd.Series(siei_c_mean['HDI_19'])\n",
    "\n",
    "boundaries_gdp = np.array([gdp.quantile(0.25), gdp.quantile(0.50), gdp.quantile(0.75)])\n",
    "boundaries_hdi = np.array([hdi.quantile(0.25), hdi.quantile(0.50), hdi.quantile(0.75)])\n",
    "\n",
    "# Building the features\n",
    "\n",
    "hdi_group = []\n",
    "gdp_group = []\n",
    "\n",
    "for i in range(siei.shape[0]):\n",
    "    hdi_i = siei.iloc[i][6]\n",
    "    loggdp_i = siei.iloc[i][9]\n",
    "    \n",
    "    if hdi_i < boundaries_hdi[0]:\n",
    "        hdi_group.append(1)\n",
    "    elif hdi_i < boundaries_hdi[1]:\n",
    "        hdi_group.append(2)\n",
    "    elif hdi_i < boundaries_hdi[2]:\n",
    "        hdi_group.append(3)\n",
    "    else:\n",
    "        hdi_group.append(4)\n",
    "        \n",
    "    if loggdp_i < boundaries_gdp[0]:\n",
    "        gdp_group.append(1)\n",
    "    elif loggdp_i < boundaries_gdp[1]:\n",
    "        gdp_group.append(2)\n",
    "    elif loggdp_i < boundaries_gdp[2]:\n",
    "        gdp_group.append(3)\n",
    "    else:\n",
    "        gdp_group.append(4)\n",
    "        \n",
    "siei['target_HDI'] = hdi_group\n",
    "siei['target_LogGDP'] = gdp_group\n",
    "\n",
    "# Siei_c_mean recomputed to incorporate in it all newly built features\n",
    "\n",
    "siei_c_mean = siei.groupby(\"country\").mean()"
   ]
  },
  {
   "cell_type": "markdown",
   "id": "6336bb5c",
   "metadata": {},
   "source": [
    "### 3.9 Traget features exploration"
   ]
  },
  {
   "cell_type": "code",
   "execution_count": 29,
   "id": "e06b9462",
   "metadata": {},
   "outputs": [],
   "source": [
    "# Target features in siei and siei_c_mean transformed into categorical for visualization clarity purposes\n",
    "\n",
    "siei['target_HDI'] = pd.Categorical(siei['target_HDI'], [1,2,3,4])\n",
    "siei['target_LogGDP'] = pd.Categorical(siei['target_LogGDP'], [1,2,3,4])\n",
    "\n",
    "siei_c_mean['target_HDI'] = pd.Categorical(siei_c_mean['target_HDI'], [1,2,3,4])\n",
    "siei_c_mean['target_LogGDP'] = pd.Categorical(siei_c_mean['target_LogGDP'], [1,2,3,4])"
   ]
  },
  {
   "cell_type": "markdown",
   "id": "b62e514f",
   "metadata": {},
   "source": [
    "#### 3.9.1 `target_HDI`"
   ]
  },
  {
   "cell_type": "code",
   "execution_count": 30,
   "id": "a3932ab9",
   "metadata": {},
   "outputs": [
    {
     "data": {
      "text/plain": [
       "<AxesSubplot:xlabel='target_HDI', ylabel='Count'>"
      ]
     },
     "execution_count": 30,
     "metadata": {},
     "output_type": "execute_result"
    },
    {
     "data": {
      "image/png": "[encoded data removed]",
      "text/plain": [
       "<Figure size 432x288 with 1 Axes>"
      ]
     },
     "metadata": {},
     "output_type": "display_data"
    }
   ],
   "source": [
    "sns.histplot(siei['target_HDI'].apply(lambda x: str(x)))"
   ]
  },
  {
   "cell_type": "code",
   "execution_count": 31,
   "id": "aa98bcb1",
   "metadata": {},
   "outputs": [
    {
     "name": "stdout",
     "output_type": "stream",
     "text": [
      "Countries included in target_HDI 1: \n",
      " \n",
      " Index(['afghanistan', 'benin', 'burkinafaso', 'cambodia', 'cameroon',\n",
      "       'centralafrica', 'chad', 'drcongo', 'eritrea', 'ethiopia', 'guinea',\n",
      "       'haiti', 'ivorycoast', 'kenya', 'madagascar', 'malawi', 'mali',\n",
      "       'mauritania', 'mozambique', 'niger', 'nigeria', 'pakistan',\n",
      "       'papuanewguinea', 'rwanda', 'senegal', 'sierraleone', 'southsudan',\n",
      "       'sudan', 'tanzania', 'togo', 'uganda', 'zambia'],\n",
      "      dtype='object', name='country')\n",
      "---\n",
      "Countries included in target_HDI 2: \n",
      " \n",
      " Index(['bangladesh', 'bolivia', 'botswana', 'egypt', 'elsalvador',\n",
      "       'equatorialguinea', 'gabon', 'ghana', 'guatemala', 'guyana', 'honduras',\n",
      "       'india', 'indonesia', 'jamaica', 'jordan', 'kyrgyzstan', 'laos',\n",
      "       'lebanon', 'mongolia', 'morocco', 'namibia', 'nepal', 'nicaragua',\n",
      "       'paraguay', 'philippines', 'tajikistan', 'tunisia', 'uzbekistan',\n",
      "       'venezuela', 'vietnam', 'zimbabwe'],\n",
      "      dtype='object', name='country')\n",
      "---\n",
      "Countries included in target_HDI 3: \n",
      " \n",
      " Index(['albania', 'algeria', 'argentina', 'azerbaijan', 'belarus', 'bosnia',\n",
      "       'brazil', 'bulgaria', 'colombia', 'costarica', 'domrep', 'ecuador',\n",
      "       'georgia', 'iran', 'kazakhstan', 'malaysia', 'mauritius', 'mexico',\n",
      "       'northmacedonia', 'oman', 'panama', 'peru', 'romania', 'russia',\n",
      "       'serbia', 'srilanka', 'suriname', 'thailand', 'turkey', 'ukraine',\n",
      "       'uruguay'],\n",
      "      dtype='object', name='country')\n",
      "---\n",
      "Countries included in target_HDI 4: \n",
      " \n",
      " Index(['belgium', 'canada', 'chile', 'croatia', 'czechrep', 'denmark',\n",
      "       'estonia', 'finland', 'france', 'germany', 'greece', 'hungary',\n",
      "       'iceland', 'ireland', 'italy', 'japan', 'latvia', 'lithuania',\n",
      "       'netherlands', 'newzealand', 'norway', 'poland', 'portugal', 'qatar',\n",
      "       'saudiarabia', 'slovakia', 'slovenia', 'spain', 'sweden', 'switzerland',\n",
      "       'uk', 'usa'],\n",
      "      dtype='object', name='country')\n"
     ]
    }
   ],
   "source": [
    "print(f\"Countries included in target_HDI 1: \\n \\n {siei_c_mean[siei_c_mean['target_HDI'] == 1].index}\")\n",
    "print(\"---\")\n",
    "print(f\"Countries included in target_HDI 2: \\n \\n {siei_c_mean[siei_c_mean['target_HDI'] == 2].index}\")\n",
    "print(\"---\")\n",
    "print(f\"Countries included in target_HDI 3: \\n \\n {siei_c_mean[siei_c_mean['target_HDI'] == 3].index}\")\n",
    "print(\"---\")\n",
    "print(f\"Countries included in target_HDI 4: \\n \\n {siei_c_mean[siei_c_mean['target_HDI'] == 4].index}\")"
   ]
  },
  {
   "cell_type": "markdown",
   "id": "43b1f386",
   "metadata": {},
   "source": [
    "#### 3.9.2 `target_GDP`"
   ]
  },
  {
   "cell_type": "code",
   "execution_count": 32,
   "id": "ebfbc4fc",
   "metadata": {},
   "outputs": [
    {
     "data": {
      "text/plain": [
       "<AxesSubplot:xlabel='target_LogGDP', ylabel='Count'>"
      ]
     },
     "execution_count": 32,
     "metadata": {},
     "output_type": "execute_result"
    },
    {
     "data": {
      "image/png": "[encoded data removed]",
      "text/plain": [
       "<Figure size 432x288 with 1 Axes>"
      ]
     },
     "metadata": {},
     "output_type": "display_data"
    }
   ],
   "source": [
    "sns.histplot(siei['target_LogGDP'].apply(lambda x: str(x)))"
   ]
  },
  {
   "cell_type": "code",
   "execution_count": 33,
   "id": "59d51ebf",
   "metadata": {},
   "outputs": [
    {
     "name": "stdout",
     "output_type": "stream",
     "text": [
      "Countries included in target_LogGDP 1: \n",
      " \n",
      " Index(['afghanistan', 'benin', 'burkinafaso', 'cambodia', 'cameroon',\n",
      "       'centralafrica', 'chad', 'drcongo', 'eritrea', 'ethiopia', 'guinea',\n",
      "       'haiti', 'ivorycoast', 'kyrgyzstan', 'madagascar', 'malawi', 'mali',\n",
      "       'mozambique', 'nepal', 'niger', 'pakistan', 'rwanda', 'senegal',\n",
      "       'sierraleone', 'southsudan', 'sudan', 'tajikistan', 'tanzania', 'togo',\n",
      "       'uganda', 'zambia', 'zimbabwe'],\n",
      "      dtype='object', name='country')\n",
      "---\n",
      "Countries included in target_LogGDP 2: \n",
      " \n",
      " Index(['albania', 'algeria', 'azerbaijan', 'bangladesh', 'bolivia', 'egypt',\n",
      "       'elsalvador', 'georgia', 'ghana', 'guatemala', 'honduras', 'india',\n",
      "       'indonesia', 'jordan', 'kenya', 'laos', 'mauritania', 'mongolia',\n",
      "       'morocco', 'namibia', 'nicaragua', 'nigeria', 'papuanewguinea',\n",
      "       'paraguay', 'philippines', 'srilanka', 'tunisia', 'ukraine',\n",
      "       'uzbekistan', 'venezuela', 'vietnam'],\n",
      "      dtype='object', name='country')\n",
      "---\n",
      "Countries included in target_LogGDP 3: \n",
      " \n",
      " Index(['argentina', 'belarus', 'bosnia', 'botswana', 'brazil', 'bulgaria',\n",
      "       'chile', 'colombia', 'costarica', 'croatia', 'domrep', 'ecuador',\n",
      "       'equatorialguinea', 'gabon', 'guyana', 'iran', 'jamaica', 'kazakhstan',\n",
      "       'lebanon', 'malaysia', 'mauritius', 'mexico', 'northmacedonia', 'peru',\n",
      "       'poland', 'romania', 'russia', 'serbia', 'suriname', 'thailand',\n",
      "       'turkey'],\n",
      "      dtype='object', name='country')\n",
      "---\n",
      "Countries included in target_LogGDP 4: \n",
      " \n",
      " Index(['belgium', 'canada', 'czechrep', 'denmark', 'estonia', 'finland',\n",
      "       'france', 'germany', 'greece', 'hungary', 'iceland', 'ireland', 'italy',\n",
      "       'japan', 'latvia', 'lithuania', 'netherlands', 'newzealand', 'norway',\n",
      "       'oman', 'panama', 'portugal', 'qatar', 'saudiarabia', 'slovakia',\n",
      "       'slovenia', 'spain', 'sweden', 'switzerland', 'uk', 'uruguay', 'usa'],\n",
      "      dtype='object', name='country')\n"
     ]
    }
   ],
   "source": [
    "print(f\"Countries included in target_LogGDP 1: \\n \\n {siei_c_mean[siei_c_mean['target_LogGDP'] == 1].index}\")\n",
    "print(\"---\")\n",
    "print(f\"Countries included in target_LogGDP 2: \\n \\n {siei_c_mean[siei_c_mean['target_LogGDP'] == 2].index}\")\n",
    "print(\"---\")\n",
    "print(f\"Countries included in target_LogGDP 3: \\n \\n {siei_c_mean[siei_c_mean['target_LogGDP'] == 3].index}\")\n",
    "print(\"---\")\n",
    "print(f\"Countries included in target_LogGDP 4: \\n \\n {siei_c_mean[siei_c_mean['target_LogGDP'] == 4].index}\")"
   ]
  },
  {
   "cell_type": "markdown",
   "id": "7aa9c726",
   "metadata": {},
   "source": [
    "#### 3.9.3 Instances in  `target_HDI` vs `target_LogGDP` "
   ]
  },
  {
   "cell_type": "code",
   "execution_count": 34,
   "id": "8782ee03",
   "metadata": {},
   "outputs": [
    {
     "data": {
      "text/html": [
       "<div>\n",
       "<style scoped>\n",
       "    .dataframe tbody tr th:only-of-type {\n",
       "        vertical-align: middle;\n",
       "    }\n",
       "\n",
       "    .dataframe tbody tr th {\n",
       "        vertical-align: top;\n",
       "    }\n",
       "\n",
       "    .dataframe thead th {\n",
       "        text-align: right;\n",
       "    }\n",
       "</style>\n",
       "<table border=\"1\" class=\"dataframe\">\n",
       "  <thead>\n",
       "    <tr style=\"text-align: right;\">\n",
       "      <th></th>\n",
       "      <th>target_HDI</th>\n",
       "      <th>target_LogGDP</th>\n",
       "      <th>target_diff</th>\n",
       "    </tr>\n",
       "  </thead>\n",
       "  <tbody>\n",
       "    <tr>\n",
       "      <th>0</th>\n",
       "      <td>3</td>\n",
       "      <td>2</td>\n",
       "      <td>1</td>\n",
       "    </tr>\n",
       "    <tr>\n",
       "      <th>1</th>\n",
       "      <td>3</td>\n",
       "      <td>2</td>\n",
       "      <td>1</td>\n",
       "    </tr>\n",
       "    <tr>\n",
       "      <th>2</th>\n",
       "      <td>3</td>\n",
       "      <td>2</td>\n",
       "      <td>1</td>\n",
       "    </tr>\n",
       "    <tr>\n",
       "      <th>3</th>\n",
       "      <td>3</td>\n",
       "      <td>2</td>\n",
       "      <td>1</td>\n",
       "    </tr>\n",
       "    <tr>\n",
       "      <th>4</th>\n",
       "      <td>3</td>\n",
       "      <td>2</td>\n",
       "      <td>1</td>\n",
       "    </tr>\n",
       "    <tr>\n",
       "      <th>...</th>\n",
       "      <td>...</td>\n",
       "      <td>...</td>\n",
       "      <td>...</td>\n",
       "    </tr>\n",
       "    <tr>\n",
       "      <th>5108</th>\n",
       "      <td>3</td>\n",
       "      <td>2</td>\n",
       "      <td>1</td>\n",
       "    </tr>\n",
       "    <tr>\n",
       "      <th>5109</th>\n",
       "      <td>3</td>\n",
       "      <td>2</td>\n",
       "      <td>1</td>\n",
       "    </tr>\n",
       "    <tr>\n",
       "      <th>5110</th>\n",
       "      <td>3</td>\n",
       "      <td>2</td>\n",
       "      <td>1</td>\n",
       "    </tr>\n",
       "    <tr>\n",
       "      <th>5124</th>\n",
       "      <td>1</td>\n",
       "      <td>2</td>\n",
       "      <td>-1</td>\n",
       "    </tr>\n",
       "    <tr>\n",
       "      <th>5125</th>\n",
       "      <td>1</td>\n",
       "      <td>2</td>\n",
       "      <td>-1</td>\n",
       "    </tr>\n",
       "  </tbody>\n",
       "</table>\n",
       "<p>646 rows × 3 columns</p>\n",
       "</div>"
      ],
      "text/plain": [
       "     target_HDI target_LogGDP  target_diff\n",
       "0             3             2            1\n",
       "1             3             2            1\n",
       "2             3             2            1\n",
       "3             3             2            1\n",
       "4             3             2            1\n",
       "...         ...           ...          ...\n",
       "5108          3             2            1\n",
       "5109          3             2            1\n",
       "5110          3             2            1\n",
       "5124          1             2           -1\n",
       "5125          1             2           -1\n",
       "\n",
       "[646 rows x 3 columns]"
      ]
     },
     "execution_count": 34,
     "metadata": {},
     "output_type": "execute_result"
    }
   ],
   "source": [
    "target_diferences = siei[siei['target_HDI'] != siei['target_LogGDP']]\n",
    "target_diferences[\"target_diff\"] = siei['target_HDI'].cat.codes - siei['target_LogGDP'].cat.codes\n",
    "target_diferences[['target_HDI', 'target_LogGDP', 'target_diff']]"
   ]
  },
  {
   "cell_type": "markdown",
   "id": "8b64ac69",
   "metadata": {},
   "source": [
    "Instances whose GDP class is higher than their HDI class"
   ]
  },
  {
   "cell_type": "code",
   "execution_count": 35,
   "id": "43918052",
   "metadata": {},
   "outputs": [
    {
     "data": {
      "text/html": [
       "<div>\n",
       "<style scoped>\n",
       "    .dataframe tbody tr th:only-of-type {\n",
       "        vertical-align: middle;\n",
       "    }\n",
       "\n",
       "    .dataframe tbody tr th {\n",
       "        vertical-align: top;\n",
       "    }\n",
       "\n",
       "    .dataframe thead th {\n",
       "        text-align: right;\n",
       "    }\n",
       "</style>\n",
       "<table border=\"1\" class=\"dataframe\">\n",
       "  <thead>\n",
       "    <tr style=\"text-align: right;\">\n",
       "      <th></th>\n",
       "      <th>target_HDI</th>\n",
       "      <th>target_LogGDP</th>\n",
       "      <th>target_diff</th>\n",
       "    </tr>\n",
       "  </thead>\n",
       "  <tbody>\n",
       "    <tr>\n",
       "      <th>177</th>\n",
       "      <td>2</td>\n",
       "      <td>3</td>\n",
       "      <td>-1</td>\n",
       "    </tr>\n",
       "    <tr>\n",
       "      <th>178</th>\n",
       "      <td>2</td>\n",
       "      <td>3</td>\n",
       "      <td>-1</td>\n",
       "    </tr>\n",
       "    <tr>\n",
       "      <th>179</th>\n",
       "      <td>2</td>\n",
       "      <td>3</td>\n",
       "      <td>-1</td>\n",
       "    </tr>\n",
       "    <tr>\n",
       "      <th>180</th>\n",
       "      <td>2</td>\n",
       "      <td>3</td>\n",
       "      <td>-1</td>\n",
       "    </tr>\n",
       "    <tr>\n",
       "      <th>181</th>\n",
       "      <td>2</td>\n",
       "      <td>3</td>\n",
       "      <td>-1</td>\n",
       "    </tr>\n",
       "    <tr>\n",
       "      <th>...</th>\n",
       "      <td>...</td>\n",
       "      <td>...</td>\n",
       "      <td>...</td>\n",
       "    </tr>\n",
       "    <tr>\n",
       "      <th>3318</th>\n",
       "      <td>3</td>\n",
       "      <td>4</td>\n",
       "      <td>-1</td>\n",
       "    </tr>\n",
       "    <tr>\n",
       "      <th>3319</th>\n",
       "      <td>3</td>\n",
       "      <td>4</td>\n",
       "      <td>-1</td>\n",
       "    </tr>\n",
       "    <tr>\n",
       "      <th>3320</th>\n",
       "      <td>3</td>\n",
       "      <td>4</td>\n",
       "      <td>-1</td>\n",
       "    </tr>\n",
       "    <tr>\n",
       "      <th>5124</th>\n",
       "      <td>1</td>\n",
       "      <td>2</td>\n",
       "      <td>-1</td>\n",
       "    </tr>\n",
       "    <tr>\n",
       "      <th>5125</th>\n",
       "      <td>1</td>\n",
       "      <td>2</td>\n",
       "      <td>-1</td>\n",
       "    </tr>\n",
       "  </tbody>\n",
       "</table>\n",
       "<p>186 rows × 3 columns</p>\n",
       "</div>"
      ],
      "text/plain": [
       "     target_HDI target_LogGDP  target_diff\n",
       "177           2             3           -1\n",
       "178           2             3           -1\n",
       "179           2             3           -1\n",
       "180           2             3           -1\n",
       "181           2             3           -1\n",
       "...         ...           ...          ...\n",
       "3318          3             4           -1\n",
       "3319          3             4           -1\n",
       "3320          3             4           -1\n",
       "5124          1             2           -1\n",
       "5125          1             2           -1\n",
       "\n",
       "[186 rows x 3 columns]"
      ]
     },
     "execution_count": 35,
     "metadata": {},
     "output_type": "execute_result"
    }
   ],
   "source": [
    "target_diferences[target_diferences[\"target_diff\"] == -1][['target_HDI', 'target_LogGDP', 'target_diff']]"
   ]
  },
  {
   "cell_type": "markdown",
   "id": "bc1b4e78",
   "metadata": {},
   "source": [
    "Instances whose HDI class is higher than their GDP class"
   ]
  },
  {
   "cell_type": "code",
   "execution_count": 36,
   "id": "128e8a3e",
   "metadata": {},
   "outputs": [
    {
     "data": {
      "text/html": [
       "<div>\n",
       "<style scoped>\n",
       "    .dataframe tbody tr th:only-of-type {\n",
       "        vertical-align: middle;\n",
       "    }\n",
       "\n",
       "    .dataframe tbody tr th {\n",
       "        vertical-align: top;\n",
       "    }\n",
       "\n",
       "    .dataframe thead th {\n",
       "        text-align: right;\n",
       "    }\n",
       "</style>\n",
       "<table border=\"1\" class=\"dataframe\">\n",
       "  <thead>\n",
       "    <tr style=\"text-align: right;\">\n",
       "      <th></th>\n",
       "      <th>target_HDI</th>\n",
       "      <th>target_LogGDP</th>\n",
       "      <th>target_diff</th>\n",
       "    </tr>\n",
       "  </thead>\n",
       "  <tbody>\n",
       "    <tr>\n",
       "      <th>0</th>\n",
       "      <td>3</td>\n",
       "      <td>2</td>\n",
       "      <td>1</td>\n",
       "    </tr>\n",
       "    <tr>\n",
       "      <th>1</th>\n",
       "      <td>3</td>\n",
       "      <td>2</td>\n",
       "      <td>1</td>\n",
       "    </tr>\n",
       "    <tr>\n",
       "      <th>2</th>\n",
       "      <td>3</td>\n",
       "      <td>2</td>\n",
       "      <td>1</td>\n",
       "    </tr>\n",
       "    <tr>\n",
       "      <th>3</th>\n",
       "      <td>3</td>\n",
       "      <td>2</td>\n",
       "      <td>1</td>\n",
       "    </tr>\n",
       "    <tr>\n",
       "      <th>4</th>\n",
       "      <td>3</td>\n",
       "      <td>2</td>\n",
       "      <td>1</td>\n",
       "    </tr>\n",
       "    <tr>\n",
       "      <th>...</th>\n",
       "      <td>...</td>\n",
       "      <td>...</td>\n",
       "      <td>...</td>\n",
       "    </tr>\n",
       "    <tr>\n",
       "      <th>5106</th>\n",
       "      <td>3</td>\n",
       "      <td>2</td>\n",
       "      <td>1</td>\n",
       "    </tr>\n",
       "    <tr>\n",
       "      <th>5107</th>\n",
       "      <td>3</td>\n",
       "      <td>2</td>\n",
       "      <td>1</td>\n",
       "    </tr>\n",
       "    <tr>\n",
       "      <th>5108</th>\n",
       "      <td>3</td>\n",
       "      <td>2</td>\n",
       "      <td>1</td>\n",
       "    </tr>\n",
       "    <tr>\n",
       "      <th>5109</th>\n",
       "      <td>3</td>\n",
       "      <td>2</td>\n",
       "      <td>1</td>\n",
       "    </tr>\n",
       "    <tr>\n",
       "      <th>5110</th>\n",
       "      <td>3</td>\n",
       "      <td>2</td>\n",
       "      <td>1</td>\n",
       "    </tr>\n",
       "  </tbody>\n",
       "</table>\n",
       "<p>460 rows × 3 columns</p>\n",
       "</div>"
      ],
      "text/plain": [
       "     target_HDI target_LogGDP  target_diff\n",
       "0             3             2            1\n",
       "1             3             2            1\n",
       "2             3             2            1\n",
       "3             3             2            1\n",
       "4             3             2            1\n",
       "...         ...           ...          ...\n",
       "5106          3             2            1\n",
       "5107          3             2            1\n",
       "5108          3             2            1\n",
       "5109          3             2            1\n",
       "5110          3             2            1\n",
       "\n",
       "[460 rows x 3 columns]"
      ]
     },
     "execution_count": 36,
     "metadata": {},
     "output_type": "execute_result"
    }
   ],
   "source": [
    "target_diferences[target_diferences[\"target_diff\"] == 1][['target_HDI', 'target_LogGDP', 'target_diff']]"
   ]
  },
  {
   "cell_type": "markdown",
   "id": "9047c738",
   "metadata": {},
   "source": [
    "#### 3.9.4 Countries in  `target_HDI` vs `target_LogGDP` "
   ]
  },
  {
   "cell_type": "markdown",
   "id": "b3508df8",
   "metadata": {},
   "source": [
    "Observing which countries are assigned different labels for the HDI and GDP inicators. This difference is never larger than 1 class up/down.\n",
    "\n",
    "The results show that 26 out of 126 countries have non-coincident class labels for the reference indicators. That slightly above 20% of the countries listed."
   ]
  },
  {
   "cell_type": "code",
   "execution_count": 37,
   "id": "b8a2eb20",
   "metadata": {},
   "outputs": [
    {
     "data": {
      "text/html": [
       "<div>\n",
       "<style scoped>\n",
       "    .dataframe tbody tr th:only-of-type {\n",
       "        vertical-align: middle;\n",
       "    }\n",
       "\n",
       "    .dataframe tbody tr th {\n",
       "        vertical-align: top;\n",
       "    }\n",
       "\n",
       "    .dataframe thead th {\n",
       "        text-align: right;\n",
       "    }\n",
       "</style>\n",
       "<table border=\"1\" class=\"dataframe\">\n",
       "  <thead>\n",
       "    <tr style=\"text-align: right;\">\n",
       "      <th></th>\n",
       "      <th>target_HDI</th>\n",
       "      <th>target_LogGDP</th>\n",
       "      <th>target_diff</th>\n",
       "    </tr>\n",
       "    <tr>\n",
       "      <th>country</th>\n",
       "      <th></th>\n",
       "      <th></th>\n",
       "      <th></th>\n",
       "    </tr>\n",
       "  </thead>\n",
       "  <tbody>\n",
       "    <tr>\n",
       "      <th>albania</th>\n",
       "      <td>3</td>\n",
       "      <td>2</td>\n",
       "      <td>1</td>\n",
       "    </tr>\n",
       "    <tr>\n",
       "      <th>algeria</th>\n",
       "      <td>3</td>\n",
       "      <td>2</td>\n",
       "      <td>1</td>\n",
       "    </tr>\n",
       "    <tr>\n",
       "      <th>azerbaijan</th>\n",
       "      <td>3</td>\n",
       "      <td>2</td>\n",
       "      <td>1</td>\n",
       "    </tr>\n",
       "    <tr>\n",
       "      <th>botswana</th>\n",
       "      <td>2</td>\n",
       "      <td>3</td>\n",
       "      <td>-1</td>\n",
       "    </tr>\n",
       "    <tr>\n",
       "      <th>chile</th>\n",
       "      <td>4</td>\n",
       "      <td>3</td>\n",
       "      <td>1</td>\n",
       "    </tr>\n",
       "    <tr>\n",
       "      <th>croatia</th>\n",
       "      <td>4</td>\n",
       "      <td>3</td>\n",
       "      <td>1</td>\n",
       "    </tr>\n",
       "    <tr>\n",
       "      <th>equatorialguinea</th>\n",
       "      <td>2</td>\n",
       "      <td>3</td>\n",
       "      <td>-1</td>\n",
       "    </tr>\n",
       "    <tr>\n",
       "      <th>gabon</th>\n",
       "      <td>2</td>\n",
       "      <td>3</td>\n",
       "      <td>-1</td>\n",
       "    </tr>\n",
       "    <tr>\n",
       "      <th>georgia</th>\n",
       "      <td>3</td>\n",
       "      <td>2</td>\n",
       "      <td>1</td>\n",
       "    </tr>\n",
       "    <tr>\n",
       "      <th>guyana</th>\n",
       "      <td>2</td>\n",
       "      <td>3</td>\n",
       "      <td>-1</td>\n",
       "    </tr>\n",
       "    <tr>\n",
       "      <th>jamaica</th>\n",
       "      <td>2</td>\n",
       "      <td>3</td>\n",
       "      <td>-1</td>\n",
       "    </tr>\n",
       "    <tr>\n",
       "      <th>kenya</th>\n",
       "      <td>1</td>\n",
       "      <td>2</td>\n",
       "      <td>-1</td>\n",
       "    </tr>\n",
       "    <tr>\n",
       "      <th>kyrgyzstan</th>\n",
       "      <td>2</td>\n",
       "      <td>1</td>\n",
       "      <td>1</td>\n",
       "    </tr>\n",
       "    <tr>\n",
       "      <th>lebanon</th>\n",
       "      <td>2</td>\n",
       "      <td>3</td>\n",
       "      <td>-1</td>\n",
       "    </tr>\n",
       "    <tr>\n",
       "      <th>mauritania</th>\n",
       "      <td>1</td>\n",
       "      <td>2</td>\n",
       "      <td>-1</td>\n",
       "    </tr>\n",
       "    <tr>\n",
       "      <th>nepal</th>\n",
       "      <td>2</td>\n",
       "      <td>1</td>\n",
       "      <td>1</td>\n",
       "    </tr>\n",
       "    <tr>\n",
       "      <th>nigeria</th>\n",
       "      <td>1</td>\n",
       "      <td>2</td>\n",
       "      <td>-1</td>\n",
       "    </tr>\n",
       "    <tr>\n",
       "      <th>oman</th>\n",
       "      <td>3</td>\n",
       "      <td>4</td>\n",
       "      <td>-1</td>\n",
       "    </tr>\n",
       "    <tr>\n",
       "      <th>panama</th>\n",
       "      <td>3</td>\n",
       "      <td>4</td>\n",
       "      <td>-1</td>\n",
       "    </tr>\n",
       "    <tr>\n",
       "      <th>papuanewguinea</th>\n",
       "      <td>1</td>\n",
       "      <td>2</td>\n",
       "      <td>-1</td>\n",
       "    </tr>\n",
       "    <tr>\n",
       "      <th>poland</th>\n",
       "      <td>4</td>\n",
       "      <td>3</td>\n",
       "      <td>1</td>\n",
       "    </tr>\n",
       "    <tr>\n",
       "      <th>srilanka</th>\n",
       "      <td>3</td>\n",
       "      <td>2</td>\n",
       "      <td>1</td>\n",
       "    </tr>\n",
       "    <tr>\n",
       "      <th>tajikistan</th>\n",
       "      <td>2</td>\n",
       "      <td>1</td>\n",
       "      <td>1</td>\n",
       "    </tr>\n",
       "    <tr>\n",
       "      <th>ukraine</th>\n",
       "      <td>3</td>\n",
       "      <td>2</td>\n",
       "      <td>1</td>\n",
       "    </tr>\n",
       "    <tr>\n",
       "      <th>uruguay</th>\n",
       "      <td>3</td>\n",
       "      <td>4</td>\n",
       "      <td>-1</td>\n",
       "    </tr>\n",
       "    <tr>\n",
       "      <th>zimbabwe</th>\n",
       "      <td>2</td>\n",
       "      <td>1</td>\n",
       "      <td>1</td>\n",
       "    </tr>\n",
       "  </tbody>\n",
       "</table>\n",
       "</div>"
      ],
      "text/plain": [
       "                 target_HDI target_LogGDP  target_diff\n",
       "country                                               \n",
       "albania                   3             2            1\n",
       "algeria                   3             2            1\n",
       "azerbaijan                3             2            1\n",
       "botswana                  2             3           -1\n",
       "chile                     4             3            1\n",
       "croatia                   4             3            1\n",
       "equatorialguinea          2             3           -1\n",
       "gabon                     2             3           -1\n",
       "georgia                   3             2            1\n",
       "guyana                    2             3           -1\n",
       "jamaica                   2             3           -1\n",
       "kenya                     1             2           -1\n",
       "kyrgyzstan                2             1            1\n",
       "lebanon                   2             3           -1\n",
       "mauritania                1             2           -1\n",
       "nepal                     2             1            1\n",
       "nigeria                   1             2           -1\n",
       "oman                      3             4           -1\n",
       "panama                    3             4           -1\n",
       "papuanewguinea            1             2           -1\n",
       "poland                    4             3            1\n",
       "srilanka                  3             2            1\n",
       "tajikistan                2             1            1\n",
       "ukraine                   3             2            1\n",
       "uruguay                   3             4           -1\n",
       "zimbabwe                  2             1            1"
      ]
     },
     "execution_count": 37,
     "metadata": {},
     "output_type": "execute_result"
    }
   ],
   "source": [
    "target_diferences = siei_c_mean[siei_c_mean['target_HDI'] != siei_c_mean['target_LogGDP']]\n",
    "target_diferences[\"target_diff\"] = siei_c_mean['target_HDI'].cat.codes - siei_c_mean['target_LogGDP'].cat.codes\n",
    "target_diferences[['target_HDI', 'target_LogGDP', 'target_diff']]"
   ]
  },
  {
   "cell_type": "markdown",
   "id": "0047e24d",
   "metadata": {},
   "source": [
    "Countries whose GDP class is higher than their HDI class"
   ]
  },
  {
   "cell_type": "code",
   "execution_count": 38,
   "id": "8d375ff0",
   "metadata": {},
   "outputs": [
    {
     "data": {
      "text/html": [
       "<div>\n",
       "<style scoped>\n",
       "    .dataframe tbody tr th:only-of-type {\n",
       "        vertical-align: middle;\n",
       "    }\n",
       "\n",
       "    .dataframe tbody tr th {\n",
       "        vertical-align: top;\n",
       "    }\n",
       "\n",
       "    .dataframe thead th {\n",
       "        text-align: right;\n",
       "    }\n",
       "</style>\n",
       "<table border=\"1\" class=\"dataframe\">\n",
       "  <thead>\n",
       "    <tr style=\"text-align: right;\">\n",
       "      <th></th>\n",
       "      <th>target_HDI</th>\n",
       "      <th>target_LogGDP</th>\n",
       "      <th>target_diff</th>\n",
       "    </tr>\n",
       "    <tr>\n",
       "      <th>country</th>\n",
       "      <th></th>\n",
       "      <th></th>\n",
       "      <th></th>\n",
       "    </tr>\n",
       "  </thead>\n",
       "  <tbody>\n",
       "    <tr>\n",
       "      <th>botswana</th>\n",
       "      <td>2</td>\n",
       "      <td>3</td>\n",
       "      <td>-1</td>\n",
       "    </tr>\n",
       "    <tr>\n",
       "      <th>equatorialguinea</th>\n",
       "      <td>2</td>\n",
       "      <td>3</td>\n",
       "      <td>-1</td>\n",
       "    </tr>\n",
       "    <tr>\n",
       "      <th>gabon</th>\n",
       "      <td>2</td>\n",
       "      <td>3</td>\n",
       "      <td>-1</td>\n",
       "    </tr>\n",
       "    <tr>\n",
       "      <th>guyana</th>\n",
       "      <td>2</td>\n",
       "      <td>3</td>\n",
       "      <td>-1</td>\n",
       "    </tr>\n",
       "    <tr>\n",
       "      <th>jamaica</th>\n",
       "      <td>2</td>\n",
       "      <td>3</td>\n",
       "      <td>-1</td>\n",
       "    </tr>\n",
       "    <tr>\n",
       "      <th>kenya</th>\n",
       "      <td>1</td>\n",
       "      <td>2</td>\n",
       "      <td>-1</td>\n",
       "    </tr>\n",
       "    <tr>\n",
       "      <th>lebanon</th>\n",
       "      <td>2</td>\n",
       "      <td>3</td>\n",
       "      <td>-1</td>\n",
       "    </tr>\n",
       "    <tr>\n",
       "      <th>mauritania</th>\n",
       "      <td>1</td>\n",
       "      <td>2</td>\n",
       "      <td>-1</td>\n",
       "    </tr>\n",
       "    <tr>\n",
       "      <th>nigeria</th>\n",
       "      <td>1</td>\n",
       "      <td>2</td>\n",
       "      <td>-1</td>\n",
       "    </tr>\n",
       "    <tr>\n",
       "      <th>oman</th>\n",
       "      <td>3</td>\n",
       "      <td>4</td>\n",
       "      <td>-1</td>\n",
       "    </tr>\n",
       "    <tr>\n",
       "      <th>panama</th>\n",
       "      <td>3</td>\n",
       "      <td>4</td>\n",
       "      <td>-1</td>\n",
       "    </tr>\n",
       "    <tr>\n",
       "      <th>papuanewguinea</th>\n",
       "      <td>1</td>\n",
       "      <td>2</td>\n",
       "      <td>-1</td>\n",
       "    </tr>\n",
       "    <tr>\n",
       "      <th>uruguay</th>\n",
       "      <td>3</td>\n",
       "      <td>4</td>\n",
       "      <td>-1</td>\n",
       "    </tr>\n",
       "  </tbody>\n",
       "</table>\n",
       "</div>"
      ],
      "text/plain": [
       "                 target_HDI target_LogGDP  target_diff\n",
       "country                                               \n",
       "botswana                  2             3           -1\n",
       "equatorialguinea          2             3           -1\n",
       "gabon                     2             3           -1\n",
       "guyana                    2             3           -1\n",
       "jamaica                   2             3           -1\n",
       "kenya                     1             2           -1\n",
       "lebanon                   2             3           -1\n",
       "mauritania                1             2           -1\n",
       "nigeria                   1             2           -1\n",
       "oman                      3             4           -1\n",
       "panama                    3             4           -1\n",
       "papuanewguinea            1             2           -1\n",
       "uruguay                   3             4           -1"
      ]
     },
     "execution_count": 38,
     "metadata": {},
     "output_type": "execute_result"
    }
   ],
   "source": [
    "target_diferences[target_diferences[\"target_diff\"] == -1][['target_HDI', 'target_LogGDP', 'target_diff']]"
   ]
  },
  {
   "cell_type": "markdown",
   "id": "c21e7073",
   "metadata": {},
   "source": [
    "Countries whose HDI class is higher than their GDP class"
   ]
  },
  {
   "cell_type": "code",
   "execution_count": 39,
   "id": "19a0b637",
   "metadata": {},
   "outputs": [
    {
     "data": {
      "text/html": [
       "<div>\n",
       "<style scoped>\n",
       "    .dataframe tbody tr th:only-of-type {\n",
       "        vertical-align: middle;\n",
       "    }\n",
       "\n",
       "    .dataframe tbody tr th {\n",
       "        vertical-align: top;\n",
       "    }\n",
       "\n",
       "    .dataframe thead th {\n",
       "        text-align: right;\n",
       "    }\n",
       "</style>\n",
       "<table border=\"1\" class=\"dataframe\">\n",
       "  <thead>\n",
       "    <tr style=\"text-align: right;\">\n",
       "      <th></th>\n",
       "      <th>target_HDI</th>\n",
       "      <th>target_LogGDP</th>\n",
       "      <th>target_diff</th>\n",
       "    </tr>\n",
       "    <tr>\n",
       "      <th>country</th>\n",
       "      <th></th>\n",
       "      <th></th>\n",
       "      <th></th>\n",
       "    </tr>\n",
       "  </thead>\n",
       "  <tbody>\n",
       "    <tr>\n",
       "      <th>albania</th>\n",
       "      <td>3</td>\n",
       "      <td>2</td>\n",
       "      <td>1</td>\n",
       "    </tr>\n",
       "    <tr>\n",
       "      <th>algeria</th>\n",
       "      <td>3</td>\n",
       "      <td>2</td>\n",
       "      <td>1</td>\n",
       "    </tr>\n",
       "    <tr>\n",
       "      <th>azerbaijan</th>\n",
       "      <td>3</td>\n",
       "      <td>2</td>\n",
       "      <td>1</td>\n",
       "    </tr>\n",
       "    <tr>\n",
       "      <th>chile</th>\n",
       "      <td>4</td>\n",
       "      <td>3</td>\n",
       "      <td>1</td>\n",
       "    </tr>\n",
       "    <tr>\n",
       "      <th>croatia</th>\n",
       "      <td>4</td>\n",
       "      <td>3</td>\n",
       "      <td>1</td>\n",
       "    </tr>\n",
       "    <tr>\n",
       "      <th>georgia</th>\n",
       "      <td>3</td>\n",
       "      <td>2</td>\n",
       "      <td>1</td>\n",
       "    </tr>\n",
       "    <tr>\n",
       "      <th>kyrgyzstan</th>\n",
       "      <td>2</td>\n",
       "      <td>1</td>\n",
       "      <td>1</td>\n",
       "    </tr>\n",
       "    <tr>\n",
       "      <th>nepal</th>\n",
       "      <td>2</td>\n",
       "      <td>1</td>\n",
       "      <td>1</td>\n",
       "    </tr>\n",
       "    <tr>\n",
       "      <th>poland</th>\n",
       "      <td>4</td>\n",
       "      <td>3</td>\n",
       "      <td>1</td>\n",
       "    </tr>\n",
       "    <tr>\n",
       "      <th>srilanka</th>\n",
       "      <td>3</td>\n",
       "      <td>2</td>\n",
       "      <td>1</td>\n",
       "    </tr>\n",
       "    <tr>\n",
       "      <th>tajikistan</th>\n",
       "      <td>2</td>\n",
       "      <td>1</td>\n",
       "      <td>1</td>\n",
       "    </tr>\n",
       "    <tr>\n",
       "      <th>ukraine</th>\n",
       "      <td>3</td>\n",
       "      <td>2</td>\n",
       "      <td>1</td>\n",
       "    </tr>\n",
       "    <tr>\n",
       "      <th>zimbabwe</th>\n",
       "      <td>2</td>\n",
       "      <td>1</td>\n",
       "      <td>1</td>\n",
       "    </tr>\n",
       "  </tbody>\n",
       "</table>\n",
       "</div>"
      ],
      "text/plain": [
       "           target_HDI target_LogGDP  target_diff\n",
       "country                                         \n",
       "albania             3             2            1\n",
       "algeria             3             2            1\n",
       "azerbaijan          3             2            1\n",
       "chile               4             3            1\n",
       "croatia             4             3            1\n",
       "georgia             3             2            1\n",
       "kyrgyzstan          2             1            1\n",
       "nepal               2             1            1\n",
       "poland              4             3            1\n",
       "srilanka            3             2            1\n",
       "tajikistan          2             1            1\n",
       "ukraine             3             2            1\n",
       "zimbabwe            2             1            1"
      ]
     },
     "execution_count": 39,
     "metadata": {},
     "output_type": "execute_result"
    }
   ],
   "source": [
    "target_diferences[target_diferences[\"target_diff\"] == 1][['target_HDI', 'target_LogGDP', 'target_diff']]"
   ]
  },
  {
   "cell_type": "markdown",
   "id": "c2c347ef",
   "metadata": {},
   "source": [
    "### 3.X Key takeaways"
   ]
  },
  {
   "cell_type": "markdown",
   "id": "6fe99382",
   "metadata": {},
   "source": [
    "HDI reference indicators is employed as baseline for the target feature target_HDI, while reference indicator GDP is transformed into LogGDP to build the target feature target_LogGDP. The reason behind this is the common practice in economics of taking the natural logarithm of GDP which among other reasons, in this case allows to improve the comparison capacity accorss intances in such a wide and uneven distribution as GDP per capita. \n",
    "\n",
    "In total two target features (class label features) are built, one for each reference indicator. 12% of instances (from/correspnding to 20% of the countries in the sample) where asisgned different labels for each target indicator, which implies that the instances  whose show this difference in assignation tend to come from countries which relatively low number of instances. This difference was never larger than one class accross (i.e. nevar larger/smaller than +/-1).\n",
    "\n",
    "When observing the distributon of the baseline features for the construction of the target class labels (HDI and LogGdp), no outliers are observed and the distributions are approximately bell shaped.\n",
    "\n",
    "Figures under section 3.9.1 and 3.9.2 signal the existence of a problem of class imbalance regarding class 1 of both the GDP target indicator and the HDI target indicator."
   ]
  },
  {
   "cell_type": "markdown",
   "id": "bbc04212",
   "metadata": {},
   "source": [
    "## 4. Population"
   ]
  },
  {
   "cell_type": "code",
   "execution_count": 40,
   "id": "9630b255",
   "metadata": {},
   "outputs": [
    {
     "data": {
      "text/html": [
       "<div>\n",
       "<style scoped>\n",
       "    .dataframe tbody tr th:only-of-type {\n",
       "        vertical-align: middle;\n",
       "    }\n",
       "\n",
       "    .dataframe tbody tr th {\n",
       "        vertical-align: top;\n",
       "    }\n",
       "\n",
       "    .dataframe thead th {\n",
       "        text-align: right;\n",
       "    }\n",
       "</style>\n",
       "<table border=\"1\" class=\"dataframe\">\n",
       "  <thead>\n",
       "    <tr style=\"text-align: right;\">\n",
       "      <th></th>\n",
       "      <th>cityname</th>\n",
       "      <th>country</th>\n",
       "      <th>latest_figure</th>\n",
       "      <th>figure_description</th>\n",
       "      <th>town_code</th>\n",
       "      <th>GDP_19</th>\n",
       "      <th>HDI_19</th>\n",
       "      <th>year_latest_figure</th>\n",
       "      <th>2019_figure_est</th>\n",
       "      <th>LogGDP_19</th>\n",
       "      <th>target_HDI</th>\n",
       "      <th>target_LogGDP</th>\n",
       "    </tr>\n",
       "  </thead>\n",
       "  <tbody>\n",
       "    <tr>\n",
       "      <th>0</th>\n",
       "      <td>Adrar</td>\n",
       "      <td>algeria</td>\n",
       "      <td>68276</td>\n",
       "      <td>(C)2008-04-14Area</td>\n",
       "      <td>0</td>\n",
       "      <td>3953.576</td>\n",
       "      <td>0.748</td>\n",
       "      <td>2008</td>\n",
       "      <td>84344</td>\n",
       "      <td>8.282376</td>\n",
       "      <td>3</td>\n",
       "      <td>2</td>\n",
       "    </tr>\n",
       "    <tr>\n",
       "      <th>1</th>\n",
       "      <td>Aflou</td>\n",
       "      <td>algeria</td>\n",
       "      <td>93585</td>\n",
       "      <td>(C)2008-04-14Area</td>\n",
       "      <td>1</td>\n",
       "      <td>3953.576</td>\n",
       "      <td>0.748</td>\n",
       "      <td>2008</td>\n",
       "      <td>115609</td>\n",
       "      <td>8.282376</td>\n",
       "      <td>3</td>\n",
       "      <td>2</td>\n",
       "    </tr>\n",
       "    <tr>\n",
       "      <th>2</th>\n",
       "      <td>Aïn Béïda</td>\n",
       "      <td>algeria</td>\n",
       "      <td>116064</td>\n",
       "      <td>(C)2008-04-14Area</td>\n",
       "      <td>2</td>\n",
       "      <td>3953.576</td>\n",
       "      <td>0.748</td>\n",
       "      <td>2008</td>\n",
       "      <td>143379</td>\n",
       "      <td>8.282376</td>\n",
       "      <td>3</td>\n",
       "      <td>2</td>\n",
       "    </tr>\n",
       "    <tr>\n",
       "      <th>3</th>\n",
       "      <td>Aïn Defla</td>\n",
       "      <td>algeria</td>\n",
       "      <td>55259</td>\n",
       "      <td>(C)2008-04-14Area</td>\n",
       "      <td>3</td>\n",
       "      <td>3953.576</td>\n",
       "      <td>0.748</td>\n",
       "      <td>2008</td>\n",
       "      <td>68263</td>\n",
       "      <td>8.282376</td>\n",
       "      <td>3</td>\n",
       "      <td>2</td>\n",
       "    </tr>\n",
       "    <tr>\n",
       "      <th>4</th>\n",
       "      <td>Aïn M'lila</td>\n",
       "      <td>algeria</td>\n",
       "      <td>65371</td>\n",
       "      <td>(C)2008-04-14Area</td>\n",
       "      <td>4</td>\n",
       "      <td>3953.576</td>\n",
       "      <td>0.748</td>\n",
       "      <td>2008</td>\n",
       "      <td>80755</td>\n",
       "      <td>8.282376</td>\n",
       "      <td>3</td>\n",
       "      <td>2</td>\n",
       "    </tr>\n",
       "    <tr>\n",
       "      <th>...</th>\n",
       "      <td>...</td>\n",
       "      <td>...</td>\n",
       "      <td>...</td>\n",
       "      <td>...</td>\n",
       "      <td>...</td>\n",
       "      <td>...</td>\n",
       "      <td>...</td>\n",
       "      <td>...</td>\n",
       "      <td>...</td>\n",
       "      <td>...</td>\n",
       "      <td>...</td>\n",
       "      <td>...</td>\n",
       "    </tr>\n",
       "    <tr>\n",
       "      <th>5121</th>\n",
       "      <td>Tauranga</td>\n",
       "      <td>newzealand</td>\n",
       "      <td>158300</td>\n",
       "      <td>(Ep)2022-06-30Area</td>\n",
       "      <td>5488</td>\n",
       "      <td>42342.994</td>\n",
       "      <td>0.937</td>\n",
       "      <td>2022</td>\n",
       "      <td>151392</td>\n",
       "      <td>10.653558</td>\n",
       "      <td>4</td>\n",
       "      <td>4</td>\n",
       "    </tr>\n",
       "    <tr>\n",
       "      <th>5122</th>\n",
       "      <td>Wellington</td>\n",
       "      <td>newzealand</td>\n",
       "      <td>212000</td>\n",
       "      <td>(Ep)2022-06-30Area</td>\n",
       "      <td>5489</td>\n",
       "      <td>42342.994</td>\n",
       "      <td>0.937</td>\n",
       "      <td>2022</td>\n",
       "      <td>202749</td>\n",
       "      <td>10.653558</td>\n",
       "      <td>4</td>\n",
       "      <td>4</td>\n",
       "    </tr>\n",
       "    <tr>\n",
       "      <th>5123</th>\n",
       "      <td>Whangārei</td>\n",
       "      <td>newzealand</td>\n",
       "      <td>54900</td>\n",
       "      <td>(Ep)2022-06-30Area</td>\n",
       "      <td>5490</td>\n",
       "      <td>42342.994</td>\n",
       "      <td>0.937</td>\n",
       "      <td>2022</td>\n",
       "      <td>52504</td>\n",
       "      <td>10.653558</td>\n",
       "      <td>4</td>\n",
       "      <td>4</td>\n",
       "    </tr>\n",
       "    <tr>\n",
       "      <th>5124</th>\n",
       "      <td>Lae</td>\n",
       "      <td>papuanewguinea</td>\n",
       "      <td>148934</td>\n",
       "      <td>(Cf)2011-07-10Area</td>\n",
       "      <td>5491</td>\n",
       "      <td>2877.577</td>\n",
       "      <td>0.560</td>\n",
       "      <td>2011</td>\n",
       "      <td>182050</td>\n",
       "      <td>7.964704</td>\n",
       "      <td>1</td>\n",
       "      <td>2</td>\n",
       "    </tr>\n",
       "    <tr>\n",
       "      <th>5125</th>\n",
       "      <td>Port Moresby</td>\n",
       "      <td>papuanewguinea</td>\n",
       "      <td>364125</td>\n",
       "      <td>(Cf)2011-07-10Area</td>\n",
       "      <td>5492</td>\n",
       "      <td>2877.577</td>\n",
       "      <td>0.560</td>\n",
       "      <td>2011</td>\n",
       "      <td>445090</td>\n",
       "      <td>7.964704</td>\n",
       "      <td>1</td>\n",
       "      <td>2</td>\n",
       "    </tr>\n",
       "  </tbody>\n",
       "</table>\n",
       "<p>5126 rows × 12 columns</p>\n",
       "</div>"
      ],
      "text/plain": [
       "          cityname         country  latest_figure   figure_description  \\\n",
       "0            Adrar         algeria          68276   (C)2008-04-14Area    \n",
       "1            Aflou         algeria          93585   (C)2008-04-14Area    \n",
       "2        Aïn Béïda         algeria         116064   (C)2008-04-14Area    \n",
       "3        Aïn Defla         algeria          55259   (C)2008-04-14Area    \n",
       "4       Aïn M'lila         algeria          65371   (C)2008-04-14Area    \n",
       "...            ...             ...            ...                  ...   \n",
       "5121      Tauranga      newzealand         158300  (Ep)2022-06-30Area    \n",
       "5122    Wellington      newzealand         212000  (Ep)2022-06-30Area    \n",
       "5123     Whangārei      newzealand          54900  (Ep)2022-06-30Area    \n",
       "5124           Lae  papuanewguinea         148934  (Cf)2011-07-10Area    \n",
       "5125  Port Moresby  papuanewguinea         364125  (Cf)2011-07-10Area    \n",
       "\n",
       "      town_code     GDP_19  HDI_19  year_latest_figure  2019_figure_est  \\\n",
       "0             0   3953.576   0.748                2008            84344   \n",
       "1             1   3953.576   0.748                2008           115609   \n",
       "2             2   3953.576   0.748                2008           143379   \n",
       "3             3   3953.576   0.748                2008            68263   \n",
       "4             4   3953.576   0.748                2008            80755   \n",
       "...         ...        ...     ...                 ...              ...   \n",
       "5121       5488  42342.994   0.937                2022           151392   \n",
       "5122       5489  42342.994   0.937                2022           202749   \n",
       "5123       5490  42342.994   0.937                2022            52504   \n",
       "5124       5491   2877.577   0.560                2011           182050   \n",
       "5125       5492   2877.577   0.560                2011           445090   \n",
       "\n",
       "      LogGDP_19 target_HDI target_LogGDP  \n",
       "0      8.282376          3             2  \n",
       "1      8.282376          3             2  \n",
       "2      8.282376          3             2  \n",
       "3      8.282376          3             2  \n",
       "4      8.282376          3             2  \n",
       "...         ...        ...           ...  \n",
       "5121  10.653558          4             4  \n",
       "5122  10.653558          4             4  \n",
       "5123  10.653558          4             4  \n",
       "5124   7.964704          1             2  \n",
       "5125   7.964704          1             2  \n",
       "\n",
       "[5126 rows x 12 columns]"
      ]
     },
     "execution_count": 40,
     "metadata": {},
     "output_type": "execute_result"
    }
   ],
   "source": [
    "siei"
   ]
  },
  {
   "cell_type": "markdown",
   "id": "d63cc2ab",
   "metadata": {},
   "source": [
    "### 4.1 Instances distribution by population"
   ]
  },
  {
   "cell_type": "markdown",
   "id": "87408348",
   "metadata": {},
   "source": [
    "#### 4.1.1 `latest_figure`"
   ]
  },
  {
   "cell_type": "markdown",
   "id": "eaedfcd6",
   "metadata": {},
   "source": [
    "Total population measured by 'latest_figure': 736.497.106"
   ]
  },
  {
   "cell_type": "code",
   "execution_count": 41,
   "id": "f17d5d7d",
   "metadata": {},
   "outputs": [
    {
     "data": {
      "text/plain": [
       "736497106"
      ]
     },
     "execution_count": 41,
     "metadata": {},
     "output_type": "execute_result"
    }
   ],
   "source": [
    "siei['latest_figure'].sum()"
   ]
  },
  {
   "cell_type": "code",
   "execution_count": 42,
   "id": "d46f051e",
   "metadata": {},
   "outputs": [
    {
     "name": "stdout",
     "output_type": "stream",
     "text": [
      "Min val.: <built-in method min of numpy.ndarray object at 0x7f635178df30>\n",
      "Q25: 73548.75\n",
      "Q50 (Mean): 112505.0\n",
      "Q75: 182321.5\n",
      "Max val.: 498003\n",
      "\n",
      "Outlier fences (Lo/Up): -89610.375, 345480.625\n"
     ]
    }
   ],
   "source": [
    "lf = siei['latest_figure']\n",
    "\n",
    "print(f\"Min val.: {np.array(lf).min}\")\n",
    "print(f\"Q25: {lf.quantile(0.25)}\")\n",
    "print(f\"Q50 (Mean): {lf.quantile(0.50)}\")\n",
    "print(f\"Q75: {lf.quantile(0.75)}\")\n",
    "print(f\"Max val.: {np.array(lf).max()}\")\n",
    "print('')\n",
    "print(f\"Outlier fences (Lo/Up): {tukey_fences(lf)[1]}, {tukey_fences(lf)[0]}\")"
   ]
  },
  {
   "cell_type": "code",
   "execution_count": 43,
   "id": "ca4aebb8",
   "metadata": {},
   "outputs": [
    {
     "data": {
      "text/plain": [
       "<AxesSubplot:ylabel='latest_figure'>"
      ]
     },
     "execution_count": 43,
     "metadata": {},
     "output_type": "execute_result"
    },
    {
     "data": {
      "image/png": "[encoded data removed]",
      "text/plain": [
       "<Figure size 432x288 with 1 Axes>"
      ]
     },
     "metadata": {},
     "output_type": "display_data"
    }
   ],
   "source": [
    "sns.boxplot(y=lf)"
   ]
  },
  {
   "cell_type": "code",
   "execution_count": 44,
   "id": "0f71b66d",
   "metadata": {},
   "outputs": [
    {
     "data": {
      "text/plain": [
       "<matplotlib.lines.Line2D at 0x7f634f647880>"
      ]
     },
     "execution_count": 44,
     "metadata": {},
     "output_type": "execute_result"
    },
    {
     "data": {
      "image/png": "[encoded data removed]",
      "text/plain": [
       "<Figure size 432x288 with 1 Axes>"
      ]
     },
     "metadata": {},
     "output_type": "display_data"
    }
   ],
   "source": [
    "sns.histplot(data=siei, x=lf, kde=True)\n",
    "plt.axvline(tukey_fences(lf)[1], 0,1, color=\"red\")\n",
    "plt.axvline(tukey_fences(lf)[0], 0,1, color=\"red\")"
   ]
  },
  {
   "cell_type": "markdown",
   "id": "782109b8",
   "metadata": {},
   "source": [
    "#### 4.1.2 `2019_figure_est`"
   ]
  },
  {
   "cell_type": "markdown",
   "id": "2be9cc0b",
   "metadata": {},
   "source": [
    "Total population measured by '2019_figure_est': 772.618.207"
   ]
  },
  {
   "cell_type": "code",
   "execution_count": 45,
   "id": "c01737b2",
   "metadata": {},
   "outputs": [
    {
     "data": {
      "text/plain": [
       "772618207"
      ]
     },
     "execution_count": 45,
     "metadata": {},
     "output_type": "execute_result"
    }
   ],
   "source": [
    "siei['2019_figure_est'].sum()"
   ]
  },
  {
   "cell_type": "code",
   "execution_count": 46,
   "id": "4c3b9009",
   "metadata": {},
   "outputs": [
    {
     "name": "stdout",
     "output_type": "stream",
     "text": [
      "Min val.: <built-in method min of numpy.ndarray object at 0x7f634f729d50>\n",
      "Q25: 77882.25\n",
      "Q50 (Mean): 116721.5\n",
      "Q75: 191836.5\n",
      "Max val.: 499242\n",
      "\n",
      "Outlier fences (Lo/Up): -93049.125, 362767.875\n"
     ]
    }
   ],
   "source": [
    "fe = siei['2019_figure_est']\n",
    "\n",
    "print(f\"Min val.: {np.array(fe).min}\")\n",
    "print(f\"Q25: {fe.quantile(0.25)}\")\n",
    "print(f\"Q50 (Mean): {fe.quantile(0.50)}\")\n",
    "print(f\"Q75: {fe.quantile(0.75)}\")\n",
    "print(f\"Max val.: {np.array(fe).max()}\")\n",
    "print('')\n",
    "print(f\"Outlier fences (Lo/Up): {tukey_fences(fe)[1]}, {tukey_fences(fe)[0]}\")"
   ]
  },
  {
   "cell_type": "code",
   "execution_count": 47,
   "id": "66758f0f",
   "metadata": {},
   "outputs": [
    {
     "data": {
      "text/plain": [
       "<AxesSubplot:ylabel='2019_figure_est'>"
      ]
     },
     "execution_count": 47,
     "metadata": {},
     "output_type": "execute_result"
    },
    {
     "data": {
      "image/png": "[encoded data removed]",
      "text/plain": [
       "<Figure size 432x288 with 1 Axes>"
      ]
     },
     "metadata": {},
     "output_type": "display_data"
    }
   ],
   "source": [
    "sns.boxplot(y=fe)"
   ]
  },
  {
   "cell_type": "code",
   "execution_count": 48,
   "id": "8ab50431",
   "metadata": {},
   "outputs": [
    {
     "data": {
      "text/plain": [
       "<matplotlib.lines.Line2D at 0x7f634f5cc700>"
      ]
     },
     "execution_count": 48,
     "metadata": {},
     "output_type": "execute_result"
    },
    {
     "data": {
      "image/png": "[encoded data removed]",
      "text/plain": [
       "<Figure size 432x288 with 1 Axes>"
      ]
     },
     "metadata": {},
     "output_type": "display_data"
    }
   ],
   "source": [
    "sns.histplot(data=siei, x=fe, kde=True)\n",
    "plt.axvline(tukey_fences(fe)[1], 0,1, color=\"red\")\n",
    "plt.axvline(tukey_fences(fe)[0], 0,1, color=\"red\")"
   ]
  },
  {
   "cell_type": "code",
   "execution_count": 49,
   "id": "bef5e828",
   "metadata": {},
   "outputs": [],
   "source": [
    "# New feature to account for population outliers\n",
    "\n",
    "siei[\"2019_figure_est_outlier\"] = (siei['2019_figure_est'] > 362768).astype(int)"
   ]
  },
  {
   "cell_type": "markdown",
   "id": "7ff55c44",
   "metadata": {},
   "source": [
    "### 4.2 Population (`2019_figure_est`) and target features"
   ]
  },
  {
   "cell_type": "markdown",
   "id": "2991d560",
   "metadata": {},
   "source": [
    "The main point in this section will be to check the lack of correlation between target features and population (pandas pairwise correlation method employed).\n",
    "\n",
    "As expected, in both cases population is very close to 0."
   ]
  },
  {
   "cell_type": "code",
   "execution_count": 50,
   "id": "597fee4c",
   "metadata": {},
   "outputs": [
    {
     "data": {
      "text/plain": [
       "-0.0014505178944415368"
      ]
     },
     "execution_count": 50,
     "metadata": {},
     "output_type": "execute_result"
    }
   ],
   "source": [
    "corr_pop_LogGDP = siei['2019_figure_est'].corr(siei['target_LogGDP'].cat.codes)\n",
    "corr_pop_LogGDP"
   ]
  },
  {
   "cell_type": "code",
   "execution_count": 51,
   "id": "b9b50849",
   "metadata": {},
   "outputs": [
    {
     "data": {
      "text/plain": [
       "-0.02278463010906255"
      ]
     },
     "execution_count": 51,
     "metadata": {},
     "output_type": "execute_result"
    }
   ],
   "source": [
    "corr_pop_HDI = siei['2019_figure_est'].corr(siei['target_HDI'].cat.codes)\n",
    "corr_pop_HDI"
   ]
  },
  {
   "cell_type": "markdown",
   "id": "ec321796",
   "metadata": {},
   "source": [
    "### 4.3 Other exploratory excercises related to population figures"
   ]
  },
  {
   "cell_type": "markdown",
   "id": "b6cf8fdc",
   "metadata": {},
   "source": [
    "Top 10 countries by total population of the instances included in the sample (Number of instances included as well)\n",
    "\n",
    "The notiof of India having a total population in the sample slightly larger than that of the US despite having only 2/3 the number of instances suggests that india is contributing to the sampel instances which are larger in terms of population than the US. This may happen for other countries, however given that the overall correlation between instance population and the target features is close to 0 this should not be a source of concern.\n",
    "\n",
    "Such differences in terms of the average sizes of the instances by country may be derived from the way in which different national statistics bureaus elaborate the population tables from which this project's sample was built."
   ]
  },
  {
   "cell_type": "code",
   "execution_count": 52,
   "id": "af08e08a",
   "metadata": {},
   "outputs": [
    {
     "data": {
      "text/html": [
       "<div>\n",
       "<style scoped>\n",
       "    .dataframe tbody tr th:only-of-type {\n",
       "        vertical-align: middle;\n",
       "    }\n",
       "\n",
       "    .dataframe tbody tr th {\n",
       "        vertical-align: top;\n",
       "    }\n",
       "\n",
       "    .dataframe thead th {\n",
       "        text-align: right;\n",
       "    }\n",
       "</style>\n",
       "<table border=\"1\" class=\"dataframe\">\n",
       "  <thead>\n",
       "    <tr style=\"text-align: right;\">\n",
       "      <th></th>\n",
       "      <th>2019_figure_est</th>\n",
       "      <th>total_instances</th>\n",
       "    </tr>\n",
       "    <tr>\n",
       "      <th>country</th>\n",
       "      <th></th>\n",
       "      <th></th>\n",
       "    </tr>\n",
       "  </thead>\n",
       "  <tbody>\n",
       "    <tr>\n",
       "      <th>india</th>\n",
       "      <td>54210646</td>\n",
       "      <td>206</td>\n",
       "    </tr>\n",
       "    <tr>\n",
       "      <th>usa</th>\n",
       "      <td>54188417</td>\n",
       "      <td>307</td>\n",
       "    </tr>\n",
       "    <tr>\n",
       "      <th>brazil</th>\n",
       "      <td>47305370</td>\n",
       "      <td>238</td>\n",
       "    </tr>\n",
       "    <tr>\n",
       "      <th>japan</th>\n",
       "      <td>47052753</td>\n",
       "      <td>231</td>\n",
       "    </tr>\n",
       "    <tr>\n",
       "      <th>indonesia</th>\n",
       "      <td>38773855</td>\n",
       "      <td>259</td>\n",
       "    </tr>\n",
       "    <tr>\n",
       "      <th>russia</th>\n",
       "      <td>27654743</td>\n",
       "      <td>130</td>\n",
       "    </tr>\n",
       "    <tr>\n",
       "      <th>algeria</th>\n",
       "      <td>22584176</td>\n",
       "      <td>164</td>\n",
       "    </tr>\n",
       "    <tr>\n",
       "      <th>iran</th>\n",
       "      <td>22025359</td>\n",
       "      <td>165</td>\n",
       "    </tr>\n",
       "    <tr>\n",
       "      <th>turkey</th>\n",
       "      <td>21388990</td>\n",
       "      <td>164</td>\n",
       "    </tr>\n",
       "    <tr>\n",
       "      <th>mexico</th>\n",
       "      <td>20259086</td>\n",
       "      <td>92</td>\n",
       "    </tr>\n",
       "    <tr>\n",
       "      <th>germany</th>\n",
       "      <td>19588943</td>\n",
       "      <td>172</td>\n",
       "    </tr>\n",
       "    <tr>\n",
       "      <th>uk</th>\n",
       "      <td>18938923</td>\n",
       "      <td>139</td>\n",
       "    </tr>\n",
       "    <tr>\n",
       "      <th>spain</th>\n",
       "      <td>17281584</td>\n",
       "      <td>143</td>\n",
       "    </tr>\n",
       "    <tr>\n",
       "      <th>nigeria</th>\n",
       "      <td>16893592</td>\n",
       "      <td>83</td>\n",
       "    </tr>\n",
       "    <tr>\n",
       "      <th>egypt</th>\n",
       "      <td>14967375</td>\n",
       "      <td>126</td>\n",
       "    </tr>\n",
       "  </tbody>\n",
       "</table>\n",
       "</div>"
      ],
      "text/plain": [
       "           2019_figure_est  total_instances\n",
       "country                                    \n",
       "india             54210646              206\n",
       "usa               54188417              307\n",
       "brazil            47305370              238\n",
       "japan             47052753              231\n",
       "indonesia         38773855              259\n",
       "russia            27654743              130\n",
       "algeria           22584176              164\n",
       "iran              22025359              165\n",
       "turkey            21388990              164\n",
       "mexico            20259086               92\n",
       "germany           19588943              172\n",
       "uk                18938923              139\n",
       "spain             17281584              143\n",
       "nigeria           16893592               83\n",
       "egypt             14967375              126"
      ]
     },
     "execution_count": 52,
     "metadata": {},
     "output_type": "execute_result"
    }
   ],
   "source": [
    "siei_for_c_sum = siei.copy()\n",
    "siei_for_c_sum['total_instances'] = 1\n",
    "siei_c_sum = siei_for_c_sum.groupby(\"country\").sum()\n",
    "siei_c_sum[['2019_figure_est', 'total_instances']].sort_values('2019_figure_est', ascending=False).head(15)"
   ]
  },
  {
   "cell_type": "markdown",
   "id": "702fa1a9",
   "metadata": {},
   "source": [
    "Barplot with the top 30 countries by total population included in the sample"
   ]
  },
  {
   "cell_type": "code",
   "execution_count": 53,
   "id": "97409184",
   "metadata": {},
   "outputs": [
    {
     "data": {
      "image/png": "[encoded data removed]",
      "text/plain": [
       "<Figure size 1080x432 with 1 Axes>"
      ]
     },
     "metadata": {},
     "output_type": "display_data"
    }
   ],
   "source": [
    "# Top 30 countries in the sample in terms of population\n",
    "\n",
    "fig, ax = plt.subplots(figsize=(15,6))\n",
    "\n",
    "ax = sns.barplot(x=siei_c_sum[['2019_figure_est']].sort_values('2019_figure_est', ascending=False).index[:30], \n",
    "            y=siei_c_sum[['2019_figure_est']].sort_values('2019_figure_est', ascending=False)['2019_figure_est'][:30])\n",
    "\n",
    "ax.set_xticklabels(ax.get_xticklabels(), rotation=60);"
   ]
  },
  {
   "cell_type": "code",
   "execution_count": 54,
   "id": "cb66d374",
   "metadata": {},
   "outputs": [
    {
     "data": {
      "image/png": "[encoded data removed]",
      "text/plain": [
       "<Figure size 1080x432 with 1 Axes>"
      ]
     },
     "metadata": {},
     "output_type": "display_data"
    }
   ],
   "source": [
    "# Top 30 countries in the sample in terms of number of instances in the sample\n",
    "\n",
    "fig, ax = plt.subplots(figsize=(15,6))\n",
    "\n",
    "ax = sns.barplot(x=siei_c_sum[['total_instances']].sort_values('total_instances', ascending=False).index[:30], \n",
    "            y=siei_c_sum[['total_instances']].sort_values('total_instances', ascending=False)['total_instances'][:30])\n",
    "\n",
    "ax.set_xticklabels(ax.get_xticklabels(), rotation=60);"
   ]
  },
  {
   "cell_type": "markdown",
   "id": "739f2822",
   "metadata": {},
   "source": [
    "### 4.X Key takeaways"
   ]
  },
  {
   "cell_type": "markdown",
   "id": "65f3e459",
   "metadata": {},
   "source": [
    "Population distributions are (unsurprisingly) heavily left-skewed. Moreover, the mean of `2019_figure_est` increases with respect to `lastest_figure` as expected given that the population projection for 2019 would have pushed some instances out of the sample as they get populations over 500k while no new instances that have newly reached 50k inhabitants are allowed to \"enter\" in the sample. \n",
    "\n",
    "Considering that `2019_figure_est` is the reference feature por demographics in this project, the analysis of this is deemed of higher relevance thant hat of `latest_figure`beyond the transformation that leads for one to the other. For `2019_figure_est`, instances with over 362k inhabitants are considered outliers in term of population. A new feature is added to siei to account for this fact and signal which instances are outliers in terms of population."
   ]
  },
  {
   "cell_type": "markdown",
   "id": "66ed2c62",
   "metadata": {},
   "source": [
    "### X.X Saving resulting processed DF "
   ]
  },
  {
   "cell_type": "code",
   "execution_count": 55,
   "id": "d8e72f24",
   "metadata": {},
   "outputs": [],
   "source": [
    "siei.to_csv(\"../data/siei_processed_v1.csv\")"
   ]
  },
  {
   "cell_type": "markdown",
   "id": "4caae133",
   "metadata": {},
   "source": [
    "### X.X Collection of notes (Unordered - Last update 20/04/23)\n",
    "\n",
    "HDI reference indicators is employed as baseline for the target feature target_HDI, while reference indicator GDP is transformed into LogGDP to build the target feature target_LogGDP. The reason behind this is the common practice in economics of taking the natural logarithm of GDP which among other reasons, in this case allows to improve the comparison capacity accorss intances in such a wide and uneven distribution as GDP per capita. \n",
    "\n",
    "In total two target features (class label features) are built, one for each reference indicator. 12% of instances (from/correspnding to 20% of the countries in the sample) where asisgned different labels for each target indicator, which implies that the instances  whose show this difference in assignation tend to come from countries which relatively low number of instances. This difference was never larger than one class accross (i.e. nevar larger/smaller than +/-1).\n",
    "\n",
    "When observing the distributon of the baseline features for the construction of the target class labels (HDI and LogGdp), no outliers are observed and the distributions are approximately bell shaped.\n",
    "\n",
    "Figures under section 3.9.1 and 3.9.2 signal the existence of a problem of class imbalance regarding class 1 of both the GDP target indicator and the HDI target indicator.\n",
    "\n",
    "The notion of India having a total population in the sample slightly larger than that of the US despite having only 2/3 the number of instances suggests that india is contributing to the sampel instances which are larger in terms of population than the US. This may happen for other countries, however given that the overall correlation between instance population and the target features is close to 0 this should not be a source of concern.\n",
    "\n",
    "Such differences in terms of the average sizes of the instances by country may be derived from the way in which different national statistics bureaus elaborate the population tables from which this project's sample was built.\n",
    "\n",
    "Population distributions are (unsurprisingly) heavily left-skewed. Moreover, the mean of 2019_figure_est increases with respect to lastest_figure as expected given that the population projection for 2019 would have pushed some instances out of the sample as they get populations over 500k while no new instances that have newly reached 50k inhabitants are allowed to \"enter\" in the sample.\n",
    "\n",
    "Considering that 2019_figure_est is the reference feature por demographics in this project, the analysis of this is deemed of higher relevance thant hat of latest_figurebeyond the transformation that leads for one to the other. For 2019_figure_est, instances with over 362k inhabitants are considered outliers in term of population. A new feature is added to siei to account for this fact and signal which instances are outliers in terms of population."
   ]
  }
 ],
 "metadata": {
  "kernelspec": {
   "display_name": "Python 3 (ipykernel)",
   "language": "python",
   "name": "python3"
  },
  "language_info": {
   "codemirror_mode": {
    "name": "ipython",
    "version": 3
   },
   "file_extension": ".py",
   "mimetype": "text/x-python",
   "name": "python",
   "nbconvert_exporter": "python",
   "pygments_lexer": "ipython3",
   "version": "3.9.7"
  }
 },
 "nbformat": 4,
 "nbformat_minor": 5
}
