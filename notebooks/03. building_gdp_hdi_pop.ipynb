{
 "cells": [
  {
   "cell_type": "markdown",
   "id": "d292c18f",
   "metadata": {},
   "source": [
    "### Imports"
   ]
  },
  {
   "cell_type": "code",
   "execution_count": 1,
   "id": "6d8c6910",
   "metadata": {},
   "outputs": [],
   "source": [
    "import pandas as pd\n",
    "import numpy as np\n",
    "import json\n",
    "import time \n",
    "from selenium import webdriver\n",
    "from selenium.webdriver.chrome.options import Options\n",
    "from webdriver_manager.chrome import ChromeDriverManager\n",
    "from selenium.webdriver.common.action_chains import ActionChains\n",
    "import warnings\n",
    "from PIL import Image\n",
    "import cv2\n",
    "import matplotlib.pyplot as plt\n",
    "import re\n",
    "import requests as req\n",
    "from bs4 import BeautifulSoup as bs\n",
    "import random\n",
    "import http.client, urllib.parse\n",
    "import csv\n",
    "import seaborn as sns\n",
    "import os\n",
    "#from sample_building_functions import *\n",
    "\n",
    "\n",
    "warnings.simplefilter('ignore')"
   ]
  },
  {
   "cell_type": "markdown",
   "id": "69761faa",
   "metadata": {},
   "source": [
    "### Defining some useful functions"
   ]
  },
  {
   "cell_type": "code",
   "execution_count": 2,
   "id": "2a526250",
   "metadata": {},
   "outputs": [],
   "source": [
    "def outliers_border_tukey(data):\n",
    "    \"\"\"\n",
    "    Detecta outliers utilizando el método de Tukey.\n",
    "\n",
    "    Parámetros:\n",
    "    data (list or np.array): un arreglo unidimensional de valores numéricos.\n",
    "    \n",
    "    - Written by chatGPT, modified by DiSanchz\n",
    "    \"\"\"\n",
    "    # Calculamos el rango intercuartil (IQR)\n",
    "    q1, q3 = np.percentile(data, [25, 75])\n",
    "    iqr = q3 - q1\n",
    "\n",
    "    # Establecemos los límites inferior y superior\n",
    "    lower_bound = q1 - (1.5 * iqr)\n",
    "    upper_bound = q3 + (1.5 * iqr)\n",
    "    \n",
    "    print(f'The upper and lower bounds for outliers are: {(lower_bound, upper_bound)}')\n",
    "\n",
    "    return (lower_bound, upper_bound)"
   ]
  },
  {
   "cell_type": "markdown",
   "id": "8de79c96",
   "metadata": {},
   "source": [
    "## 1. Loading data on all cities _vanilla_ sample DataFrame \"all_cities_filter\""
   ]
  },
  {
   "cell_type": "code",
   "execution_count": 3,
   "id": "6fe19143",
   "metadata": {},
   "outputs": [],
   "source": [
    "all_cities_filter = pd.read_csv(\"../data/all_cities_filtered.csv\")"
   ]
  },
  {
   "cell_type": "markdown",
   "id": "2da153fd",
   "metadata": {},
   "source": [
    "## 2. complete data with GDP and HDI figures"
   ]
  },
  {
   "cell_type": "markdown",
   "id": "5c3246c3",
   "metadata": {},
   "source": [
    "### Loading reference indicators' data"
   ]
  },
  {
   "cell_type": "code",
   "execution_count": 4,
   "id": "19a1854c",
   "metadata": {},
   "outputs": [],
   "source": [
    "GDP_raw = pd.read_csv('../data/ignore/GDP_per_capita_2019.csv', encoding= 'unicode_escape', sep=';')\n",
    "HDI_raw = pd.read_csv('../data/ignore/HDI_index_historical.csv', encoding= 'unicode_escape')"
   ]
  },
  {
   "cell_type": "markdown",
   "id": "edf54f10",
   "metadata": {},
   "source": [
    "### 2.1 GDP"
   ]
  },
  {
   "cell_type": "code",
   "execution_count": 5,
   "id": "9b12583a",
   "metadata": {},
   "outputs": [],
   "source": [
    "GDP_raw['country'] =  [i.lower() for i in GDP_raw['GDP per capita, current prices\\n (U.S. dollars per capita)']]\n",
    "GDP_raw.drop(['GDP per capita, current prices\\n (U.S. dollars per capita)'], inplace=True, axis=1)"
   ]
  },
  {
   "cell_type": "markdown",
   "id": "a76a4918",
   "metadata": {},
   "source": [
    "\"Cleaning\" country names. A dictionary of alternative country names is created to map each contry name as referred in \"all_cities_filter\" compared to GDP data source for those cases where it may diverge."
   ]
  },
  {
   "cell_type": "code",
   "execution_count": 6,
   "id": "8c457b77",
   "metadata": {},
   "outputs": [],
   "source": [
    "fixed_names = {}\n",
    "fixed_names ['burkinafaso'] = 'burkina faso'\n",
    "fixed_names ['centralafrica'] = 'central african republic'\n",
    "fixed_names ['drcongo'] = 'congo, dem. rep. of the'\n",
    "fixed_names ['equatorialguinea'] = 'equatorial guinea'\n",
    "fixed_names ['guineabissau'] = 'guinea-bissau'\n",
    "fixed_names ['ivorycoast'] = \"cote divoire\"\n",
    "fixed_names ['sierraleone'] = \"sierra leone\"\n",
    "fixed_names ['ivorycoast'] = 'south sudan'\n",
    "fixed_names['costarica'] = 'costa rica'\n",
    "fixed_names['southsudan'] = 'south sudan'\n",
    "fixed_names['turkey'] = 'türkiye, republic of'\n",
    "fixed_names['domrep'] = 'dominican republic'\n",
    "fixed_names['elsalvador'] = 'el salvador'\n",
    "fixed_names['puertorico'] = 'puerto rico'  \n",
    "fixed_names['usa'] = 'united states'  \n",
    "fixed_names['Azerbaijan.html'] = 'azerbaijan'\n",
    "fixed_names['kyrgyzstan'] = 'kyrgyz republic'\n",
    "fixed_names['laos'] = 'lao p.d.r.'\n",
    "fixed_names['saudiarabia'] = 'saudi arabia'\n",
    "fixed_names['srilanka'] = 'sri lanka'\n",
    "fixed_names['taiwan'] = 'taiwan province of china'\n",
    "fixed_names['bosnia'] = 'bosnia and herzegovina'\n",
    "fixed_names['czechrep'] = 'czech republic'\n",
    "fixed_names['uk'] = 'united kingdom'\n",
    "fixed_names['northmacedonia'] = 'north macedonia '\n",
    "fixed_names['russia'] = 'russian federation'\n",
    "fixed_names['slovakia'] = 'slovak republic'\n",
    "fixed_names['newzealand'] = 'new zealand'\n",
    "fixed_names['papuanewguinea'] = 'papua new guinea'"
   ]
  },
  {
   "cell_type": "markdown",
   "id": "e5941d59",
   "metadata": {},
   "source": [
    "Retrieving GDP data and inserting it into the cities DF"
   ]
  },
  {
   "cell_type": "code",
   "execution_count": 7,
   "id": "bfbd8524",
   "metadata": {},
   "outputs": [],
   "source": [
    "GDP_column = []\n",
    "\n",
    "for i in all_cities_filter['country']:\n",
    "    try:\n",
    "        try:\n",
    "            GDP_column.append(GDP_raw[GDP_raw.eq(i).any(1)].iloc[0][0])\n",
    "        except:\n",
    "            GDP_column.append(GDP_raw[GDP_raw.eq(fixed_names.get(i)).any(1)].iloc[0][0])\n",
    "    except:\n",
    "        GDP_column.append(np.nan)\n",
    "        pass\n",
    "        \n",
    "all_cities_GDP = all_cities_filter.copy()\n",
    "all_cities_GDP['GDP_19'] = GDP_column\n",
    "all_cities_GDP_valid = all_cities_GDP[all_cities_GDP.GDP_19.notnull()]"
   ]
  },
  {
   "cell_type": "markdown",
   "id": "dde0355c",
   "metadata": {},
   "source": [
    "GDP figures are not available for 'cuba' & 'northkorea' thus in principle these should be discarded from the sample until alternative estimates can be found"
   ]
  },
  {
   "cell_type": "code",
   "execution_count": 8,
   "id": "b97f5578",
   "metadata": {},
   "outputs": [
    {
     "data": {
      "text/plain": [
       "array(['cuba', 'northkorea'], dtype=object)"
      ]
     },
     "execution_count": 8,
     "metadata": {},
     "output_type": "execute_result"
    }
   ],
   "source": [
    "all_cities_GDP_null = all_cities_GDP[all_cities_GDP.GDP_19.isnull()]\n",
    "all_cities_GDP_null.country.unique()"
   ]
  },
  {
   "cell_type": "code",
   "execution_count": 9,
   "id": "0b342b4c",
   "metadata": {},
   "outputs": [
    {
     "data": {
      "text/html": [
       "<div>\n",
       "<style scoped>\n",
       "    .dataframe tbody tr th:only-of-type {\n",
       "        vertical-align: middle;\n",
       "    }\n",
       "\n",
       "    .dataframe tbody tr th {\n",
       "        vertical-align: top;\n",
       "    }\n",
       "\n",
       "    .dataframe thead th {\n",
       "        text-align: right;\n",
       "    }\n",
       "</style>\n",
       "<table border=\"1\" class=\"dataframe\">\n",
       "  <thead>\n",
       "    <tr style=\"text-align: right;\">\n",
       "      <th></th>\n",
       "      <th>cityname</th>\n",
       "      <th>country</th>\n",
       "      <th>latest_figure</th>\n",
       "      <th>figure_description</th>\n",
       "      <th>town_code</th>\n",
       "      <th>GDP_19</th>\n",
       "    </tr>\n",
       "  </thead>\n",
       "  <tbody>\n",
       "    <tr>\n",
       "      <th>0</th>\n",
       "      <td>Adrar</td>\n",
       "      <td>algeria</td>\n",
       "      <td>68276</td>\n",
       "      <td>(C)2008-04-14Area</td>\n",
       "      <td>0</td>\n",
       "      <td>3953,576</td>\n",
       "    </tr>\n",
       "    <tr>\n",
       "      <th>1</th>\n",
       "      <td>Aflou</td>\n",
       "      <td>algeria</td>\n",
       "      <td>93585</td>\n",
       "      <td>(C)2008-04-14Area</td>\n",
       "      <td>1</td>\n",
       "      <td>3953,576</td>\n",
       "    </tr>\n",
       "    <tr>\n",
       "      <th>2</th>\n",
       "      <td>Aïn Béïda</td>\n",
       "      <td>algeria</td>\n",
       "      <td>116064</td>\n",
       "      <td>(C)2008-04-14Area</td>\n",
       "      <td>2</td>\n",
       "      <td>3953,576</td>\n",
       "    </tr>\n",
       "    <tr>\n",
       "      <th>3</th>\n",
       "      <td>Aïn Defla</td>\n",
       "      <td>algeria</td>\n",
       "      <td>55259</td>\n",
       "      <td>(C)2008-04-14Area</td>\n",
       "      <td>3</td>\n",
       "      <td>3953,576</td>\n",
       "    </tr>\n",
       "    <tr>\n",
       "      <th>4</th>\n",
       "      <td>Aïn M'lila</td>\n",
       "      <td>algeria</td>\n",
       "      <td>65371</td>\n",
       "      <td>(C)2008-04-14Area</td>\n",
       "      <td>4</td>\n",
       "      <td>3953,576</td>\n",
       "    </tr>\n",
       "    <tr>\n",
       "      <th>...</th>\n",
       "      <td>...</td>\n",
       "      <td>...</td>\n",
       "      <td>...</td>\n",
       "      <td>...</td>\n",
       "      <td>...</td>\n",
       "      <td>...</td>\n",
       "    </tr>\n",
       "    <tr>\n",
       "      <th>5488</th>\n",
       "      <td>Tauranga</td>\n",
       "      <td>newzealand</td>\n",
       "      <td>158300</td>\n",
       "      <td>(Ep)2022-06-30Area</td>\n",
       "      <td>5488</td>\n",
       "      <td>42342,994</td>\n",
       "    </tr>\n",
       "    <tr>\n",
       "      <th>5489</th>\n",
       "      <td>Wellington</td>\n",
       "      <td>newzealand</td>\n",
       "      <td>212000</td>\n",
       "      <td>(Ep)2022-06-30Area</td>\n",
       "      <td>5489</td>\n",
       "      <td>42342,994</td>\n",
       "    </tr>\n",
       "    <tr>\n",
       "      <th>5490</th>\n",
       "      <td>Whangārei</td>\n",
       "      <td>newzealand</td>\n",
       "      <td>54900</td>\n",
       "      <td>(Ep)2022-06-30Area</td>\n",
       "      <td>5490</td>\n",
       "      <td>42342,994</td>\n",
       "    </tr>\n",
       "    <tr>\n",
       "      <th>5491</th>\n",
       "      <td>Lae</td>\n",
       "      <td>papuanewguinea</td>\n",
       "      <td>148934</td>\n",
       "      <td>(Cf)2011-07-10Area</td>\n",
       "      <td>5491</td>\n",
       "      <td>2877,577</td>\n",
       "    </tr>\n",
       "    <tr>\n",
       "      <th>5492</th>\n",
       "      <td>Port Moresby</td>\n",
       "      <td>papuanewguinea</td>\n",
       "      <td>364125</td>\n",
       "      <td>(Cf)2011-07-10Area</td>\n",
       "      <td>5492</td>\n",
       "      <td>2877,577</td>\n",
       "    </tr>\n",
       "  </tbody>\n",
       "</table>\n",
       "<p>5448 rows × 6 columns</p>\n",
       "</div>"
      ],
      "text/plain": [
       "          cityname         country  latest_figure   figure_description  \\\n",
       "0            Adrar         algeria          68276   (C)2008-04-14Area    \n",
       "1            Aflou         algeria          93585   (C)2008-04-14Area    \n",
       "2        Aïn Béïda         algeria         116064   (C)2008-04-14Area    \n",
       "3        Aïn Defla         algeria          55259   (C)2008-04-14Area    \n",
       "4       Aïn M'lila         algeria          65371   (C)2008-04-14Area    \n",
       "...            ...             ...            ...                  ...   \n",
       "5488      Tauranga      newzealand         158300  (Ep)2022-06-30Area    \n",
       "5489    Wellington      newzealand         212000  (Ep)2022-06-30Area    \n",
       "5490     Whangārei      newzealand          54900  (Ep)2022-06-30Area    \n",
       "5491           Lae  papuanewguinea         148934  (Cf)2011-07-10Area    \n",
       "5492  Port Moresby  papuanewguinea         364125  (Cf)2011-07-10Area    \n",
       "\n",
       "      town_code     GDP_19  \n",
       "0             0   3953,576  \n",
       "1             1   3953,576  \n",
       "2             2   3953,576  \n",
       "3             3   3953,576  \n",
       "4             4   3953,576  \n",
       "...         ...        ...  \n",
       "5488       5488  42342,994  \n",
       "5489       5489  42342,994  \n",
       "5490       5490  42342,994  \n",
       "5491       5491   2877,577  \n",
       "5492       5492   2877,577  \n",
       "\n",
       "[5448 rows x 6 columns]"
      ]
     },
     "execution_count": 9,
     "metadata": {},
     "output_type": "execute_result"
    }
   ],
   "source": [
    "all_cities_GDP_valid"
   ]
  },
  {
   "cell_type": "markdown",
   "id": "c88ce3a5",
   "metadata": {},
   "source": [
    "### 2.2 HDI"
   ]
  },
  {
   "cell_type": "code",
   "execution_count": 10,
   "id": "329e46da",
   "metadata": {},
   "outputs": [],
   "source": [
    "HDI_raw['country_format']= [i.lower().replace(\" \", \"\") for i in HDI_raw['country']]\n",
    "HDI_short=HDI_raw[['country', 'country_format', 'hdi_2019']]"
   ]
  },
  {
   "cell_type": "markdown",
   "id": "149d912d",
   "metadata": {},
   "source": [
    "\"Cleaning\" country names. A dictionary of alternative country names is created to map each contry name as referred in \"all_cities_filter\" compared to GDP data source for those cases where it may diverges."
   ]
  },
  {
   "cell_type": "code",
   "execution_count": 11,
   "id": "3f5a1ebe",
   "metadata": {},
   "outputs": [],
   "source": [
    "fixed_names = {}\n",
    "fixed_names ['burkinafaso'] = 'burkina faso'\n",
    "fixed_names ['centralafrica'] = 'centralafricanrepublic'\n",
    "fixed_names ['drcongo'] = 'congo(democraticrepublicofthe)'\n",
    "fixed_names ['equatorialguinea'] = 'equatorial guinea'\n",
    "fixed_names ['guineabissau'] = 'guinea-bissau'\n",
    "fixed_names ['ivorycoast'] = \"cote\"\n",
    "fixed_names ['sierraleone'] = \"sierra leone\"\n",
    "fixed_names ['ivorycoast'] = 'cote'\n",
    "fixed_names['costarica'] = 'costa rica'\n",
    "fixed_names['southsudan'] = 'south sudan'\n",
    "fixed_names['turkey'] = 'türkiye, republic of'\n",
    "fixed_names['domrep'] = 'dominican republic'\n",
    "fixed_names['elsalvador'] = 'el salvador'\n",
    "fixed_names['puertorico'] = 'puerto rico'  \n",
    "fixed_names['usa'] = 'unitedstates'  \n",
    "fixed_names['Azerbaijan.html'] = 'azerbaijan'\n",
    "fixed_names['kyrgyzstan'] = 'kyrgyz republic'\n",
    "fixed_names['laos'] = 'lao p.d.r.'\n",
    "fixed_names['saudiarabia'] = 'saudi arabia'\n",
    "fixed_names['srilanka'] = 'sri lanka'\n",
    "fixed_names['taiwan'] = 'taiwan province of china'\n",
    "fixed_names['bosnia'] = 'bosniaandherzegovina'\n",
    "fixed_names['czechrep'] = 'czechia'\n",
    "fixed_names['uk'] = 'unitedkingdom'\n",
    "fixed_names['northmacedonia'] = 'north macedonia '\n",
    "fixed_names['russia'] = 'russianfederation'\n",
    "fixed_names['slovakia'] = 'slovak republic'\n",
    "fixed_names['newzealand'] = 'new zealand'\n",
    "fixed_names['papuanewguinea'] = 'papua new guinea'"
   ]
  },
  {
   "cell_type": "code",
   "execution_count": 12,
   "id": "2decb2b3",
   "metadata": {
    "scrolled": true
   },
   "outputs": [],
   "source": [
    "HDI_column = []\n",
    "\n",
    "for i in all_cities_GDP_valid['country']:\n",
    "    try:\n",
    "        try:\n",
    "            HDI_column.append(HDI_short[HDI_short.eq(i).any(1)].iloc[0][2])\n",
    "        except:\n",
    "            try:\n",
    "                #print(f\"{i} not found in first attempt, moving to look in alternative dictionary\")\n",
    "                #print(f\"{i} found as {fixed_names.get(i)} in alternative source, proceeding with second attempt\")\n",
    "                #HDI_column.append(HDI_short[HDI_short.eq(fixed_names.get(i)).any(1)].iloc[0][2])\n",
    "                HDI_column.append(HDI_short[HDI_short['country_format']== fixed_names.get(i)].iloc[0][2])\n",
    "            except:\n",
    "                HDI_column.append(np.nan)\n",
    "                #print(f\"{i} not found in second attempt\")\n",
    "    except:\n",
    "        \n",
    "        pass\n",
    "        \n",
    "all_cities_GDP_HDI = all_cities_GDP_valid.copy()\n",
    "all_cities_GDP_HDI['HDI_19'] = HDI_column\n",
    "all_cities_GDP_HDI_valid = all_cities_GDP_HDI[all_cities_GDP_HDI.HDI_19.notnull()]"
   ]
  },
  {
   "cell_type": "markdown",
   "id": "1cef9383",
   "metadata": {},
   "source": [
    "HDI are not available for 'puertorico' & 'taiwan' thus in principle these should be  discarded from the sample until alternative estimates can be found"
   ]
  },
  {
   "cell_type": "code",
   "execution_count": 13,
   "id": "1944e7e0",
   "metadata": {},
   "outputs": [
    {
     "data": {
      "text/plain": [
       "array(['puertorico', 'taiwan'], dtype=object)"
      ]
     },
     "execution_count": 13,
     "metadata": {},
     "output_type": "execute_result"
    }
   ],
   "source": [
    "all_cities_GDP_HDI_null = all_cities_GDP_HDI[all_cities_GDP_HDI.HDI_19.isnull()]\n",
    "all_cities_GDP_HDI_null.country.unique()"
   ]
  },
  {
   "cell_type": "markdown",
   "id": "30cc6620",
   "metadata": {},
   "source": [
    "### 2.3 Notes"
   ]
  },
  {
   "cell_type": "markdown",
   "id": "3a48cd4c",
   "metadata": {},
   "source": [
    "A total of 78 instances had to be discarded due to the inexistence of oficial figures for the selected reference indicators (HDI and GDP per capita). These 78 instances corresponds to all dose associated to the values 'puertorico', 'taiwan', 'cuba' and 'northkorea' of the feature 'country' in the dataframe 'all_cities_filter'."
   ]
  },
  {
   "cell_type": "code",
   "execution_count": 14,
   "id": "c7b03b4a",
   "metadata": {},
   "outputs": [
    {
     "data": {
      "text/plain": [
       "78"
      ]
     },
     "execution_count": 14,
     "metadata": {},
     "output_type": "execute_result"
    }
   ],
   "source": [
    "all_cities_GDP_HDI_null.shape[0] + all_cities_GDP_null.shape[0]"
   ]
  },
  {
   "cell_type": "markdown",
   "id": "94e5d475",
   "metadata": {},
   "source": [
    "## 3. Population figures adjustment"
   ]
  },
  {
   "cell_type": "markdown",
   "id": "abe5d830",
   "metadata": {},
   "source": [
    "Extracting the year in which the population figure for a given city was made/estimated"
   ]
  },
  {
   "cell_type": "code",
   "execution_count": 15,
   "id": "8a208145",
   "metadata": {},
   "outputs": [],
   "source": [
    "# Creating new column with year of estimate for latest_figure\n",
    "all_cities_GDP_HDI_valid['year_latest_figure'] = [int(re.findall(r\"\\)(\\d{4})\", i)[0]) for i in all_cities_GDP_HDI_valid['figure_description']]"
   ]
  },
  {
   "cell_type": "code",
   "execution_count": 16,
   "id": "9933f68a",
   "metadata": {},
   "outputs": [],
   "source": [
    "pop_raw = pd.read_csv('../data/ignore/WPP2022.csv', sep=',', encoding='utf8', quotechar='\"')\n",
    "pop_raw['location_fixed'] = [i.lower().replace(\" \", \"\") for i in pop_raw['Location']]"
   ]
  },
  {
   "cell_type": "markdown",
   "id": "dfac5488",
   "metadata": {},
   "source": [
    "\"Cleaning\" country names. A dictionary of alternative country names is created to map each contry name as referred in \"all_cities_filter\" compared to population data source for those cases where it may diverges."
   ]
  },
  {
   "cell_type": "code",
   "execution_count": 17,
   "id": "23ea79b8",
   "metadata": {},
   "outputs": [],
   "source": [
    "fixed_names = {}\n",
    "fixed_names ['burkinafaso'] = 'burkina faso'\n",
    "fixed_names ['centralafrica'] = 'centralafricanrepublic'\n",
    "fixed_names ['drcongo'] = 'democraticrepublicofthecongo'\n",
    "fixed_names ['equatorialguinea'] = 'equatorial guinea'\n",
    "fixed_names ['guineabissau'] = 'guinea-bissau'\n",
    "fixed_names ['ivorycoast'] = \"côted'ivoire\"\n",
    "fixed_names ['laos'] = \"laopeople'sdemocraticrepublic\"\n",
    "fixed_names['tanzania'] = 'unitedrepublicoftanzania'\n",
    "fixed_names['bolivia'] = 'bolivia(plurinationalstateof)'\n",
    "fixed_names['turkey'] = 'türkiye'\n",
    "fixed_names['domrep'] = 'dominicanrepublic'\n",
    "fixed_names['elsalvador'] = 'el salvador'\n",
    "fixed_names['puertorico'] = 'puerto rico'  \n",
    "fixed_names['usa'] = 'unitedstatesofamerica'  \n",
    "fixed_names['Azerbaijan.html'] = 'azerbaijan'\n",
    "fixed_names['kyrgyzstan'] = 'kyrgyz republic'\n",
    "fixed_names['saudiarabia'] = 'saudi arabia'\n",
    "fixed_names['srilanka'] = 'sri lanka'\n",
    "fixed_names['taiwan'] = 'taiwan province of china'\n",
    "fixed_names['bosnia'] = 'bosniaandherzegovina'\n",
    "fixed_names['czechrep'] = 'czechia'\n",
    "fixed_names['uk'] = 'unitedkingdom'\n",
    "fixed_names['iran'] = 'iran(islamicrepublicof)'\n",
    "fixed_names['russia'] = 'russianfederation'\n",
    "fixed_names['newzealand'] = 'new zealand'\n",
    "fixed_names['venezuela'] = 'venezuela(bolivarianrepublicof)'"
   ]
  },
  {
   "cell_type": "markdown",
   "id": "ea7f2cc3",
   "metadata": {},
   "source": [
    "Defining auxiliary functions for population estimation alignment to baseline year 2019"
   ]
  },
  {
   "cell_type": "code",
   "execution_count": 18,
   "id": "b65a23dc",
   "metadata": {},
   "outputs": [],
   "source": [
    "def lookfor_pop(year, country):\n",
    "\n",
    "    tmp = pop_raw[pop_raw['location_fixed'] == country] # Locate population data for a given country\n",
    "    return int(str(tmp[tmp['Time'] == year].iloc[0][-3]).replace(\".\",\"\")) # Find row corresponding to year 'year', retrieve corresponding popn and return it as 'int'\n",
    "    \n",
    "    \n",
    "def pop_2019(country):\n",
    "\n",
    "    return lookfor_pop(2019, country)"
   ]
  },
  {
   "cell_type": "markdown",
   "id": "aa7647a3",
   "metadata": {},
   "source": [
    "Computing rates of population change for each country for the year of last estimate compared to 2019"
   ]
  },
  {
   "cell_type": "code",
   "execution_count": 19,
   "id": "c28ec906",
   "metadata": {
    "scrolled": true
   },
   "outputs": [],
   "source": [
    "pop_adjust = {}\n",
    "\n",
    "for i in list(all_cities_GDP_HDI_valid['country'].unique()):\n",
    "    \n",
    "    try:\n",
    "        a = pop_2019(i) # pop of country i in 2019\n",
    "        b = lookfor_pop(all_cities_GDP_HDI_valid[all_cities_GDP_HDI_valid['country'] == i ].iloc[0][-1], i) # pop of country i in estimates year\n",
    "        year = all_cities_GDP_HDI_valid[all_cities_GDP_HDI_valid['country'] == i ].iloc[0][-1]\n",
    "        c = a/b \n",
    "        pop_adjust[i] = (a, b, c, year)\n",
    "        \n",
    "        # if figure c cannot be compute using \"original name\" the corrected name is retrieved from \"fixed_names\" and the process repated\n",
    "    except:\n",
    "        a = pop_2019(fixed_names.get(i))\n",
    "        b = lookfor_pop(all_cities_GDP_HDI_valid[all_cities_GDP_HDI_valid['country'] == i ].iloc[0][-1], fixed_names.get(i))\n",
    "        year = all_cities_GDP_HDI_valid[all_cities_GDP_HDI_valid['country'] == i ].iloc[0][-1]\n",
    "        c = a/b\n",
    "        pop_adjust[i] = (a, b, c, year)  \n",
    "        \n",
    "        # a = population in 2019\n",
    "        # b = population year of last estimates\n",
    "        # c = ratio a/b\n",
    "        # year = year of last population estimate for settlements"
   ]
  },
  {
   "cell_type": "markdown",
   "id": "4d34cb3f",
   "metadata": {},
   "source": [
    "Visual inspection of results as stored in \"pop_adjust\""
   ]
  },
  {
   "cell_type": "code",
   "execution_count": 20,
   "id": "f4d5c35e",
   "metadata": {},
   "outputs": [
    {
     "data": {
      "text/plain": [
       "{'algeria': (42705368, 34569592, 1.2353448660892499, 2008),\n",
       " 'benin': (12290444, 1030873, 11.92236483058534, 2013),\n",
       " 'botswana': (2499702, 2630296, 0.9503500746684024, 2022),\n",
       " 'burkinafaso': (20951639, 20951639, 1.0, 2019),\n",
       " 'burundi': (11874838, 8278109, 1.434486789193039, 2008),\n",
       " 'cameroon': (25782341, 17275171, 1.4924506970148081, 2005),\n",
       " 'centralafrica': (5209324, 5457154, 0.9545862183841615, 2021),\n",
       " 'chad': (16126866, 11496128, 1.4028084934336151, 2009),\n",
       " 'drcongo': (8990689, 54815607, 0.16401695597387073, 2004),\n",
       " 'djibouti': (1073994, 901103, 1.19186596870724, 2009),\n",
       " 'egypt': (105618671, 109262178, 0.9666535386105886, 2021),\n",
       " 'equatorialguinea': (1553031, 71927, 21.591766652300247, 2001),\n",
       " 'eritrea': (3498818, 2291561, 1.5268273460754482, 1997),\n",
       " 'ethiopia': (114120594, 123379924, 0.924952701381142, 2022),\n",
       " 'gabon': (2242785, 1902226, 1.1790318290255732, 2013),\n",
       " 'ghana': (3152229, 25574719, 0.12325566509645718, 2010),\n",
       " 'guinea': (12877539, 11333365, 1.13625026635955, 2014),\n",
       " 'guineabissau': (1970457, 1527196, 1.2902449980225197, 2009),\n",
       " 'ivorycoast': (26147551, 22995555, 1.1370697945755168, 2014),\n",
       " 'kenya': (5095145, 5095145, 1.0, 2019),\n",
       " 'madagascar': (27533134, 26846541, 1.0255747286028394, 2018),\n",
       " 'malawi': (18867337, 18367883, 1.0271917019506276, 2018),\n",
       " 'mali': (20567424, 15032635, 1.3681848857502361, 2009),\n",
       " 'mauritania': (4383849, 3742959, 1.1712254929856298, 2013),\n",
       " 'mauritius': (1296279, 1297828, 0.9988064674209526, 2020),\n",
       " 'morocco': (36304408, 34248603, 1.060025952007444, 2014),\n",
       " 'mozambique': (30285595, 28569441, 1.0600695687395494, 2017),\n",
       " 'namibia': (2446644, 213234, 11.473986324882523, 2011),\n",
       " 'niger': (23443393, 17954407, 1.3057180334610885, 2012),\n",
       " 'nigeria': (203304492, 9768536, 20.812176154134047, 1991),\n",
       " 'rwanda': (12835028, 10840334, 1.1840066920447285, 2012),\n",
       " 'senegal': (16000781, 13595566, 1.1769117225424819, 2013),\n",
       " 'sierraleone': (8046828, 8420641, 0.9556075362908834, 2021),\n",
       " 'southsudan': (10447666, 8823888, 1.1840206947322993, 2008),\n",
       " 'sudan': (43232093, 32065241, 1.3482541110481596, 2008),\n",
       " 'tanzania': (59872579, 47786137, 1.2529277894967739, 2012),\n",
       " 'togo': (8243094, 844258, 9.76371440957622, 2020),\n",
       " 'tunisia': (12049314, 12356117, 0.9751699502359843, 2022),\n",
       " 'uganda': (4294908, 44404611, 0.0967221174395605, 2020),\n",
       " 'zambia': (18380477, 13792086, 1.3326828878532224, 2010),\n",
       " 'zimbabwe': (15354608, 16320537, 0.9408151214632214, 2022),\n",
       " 'argentina': (4474552, 4474552, 1.0, 2019),\n",
       " 'bolivia': (11777315, 10569697, 1.1142528494430823, 2012),\n",
       " 'brazil': (211782878, 214326223, 0.9881332999555542, 2021),\n",
       " 'canada': (37522584, 38155012, 0.983424772609166, 2021),\n",
       " 'chile': (19039485, 18368577, 1.0365247672696694, 2017),\n",
       " 'colombia': (50187406, 50930662, 0.9854065120928528, 2020),\n",
       " 'costarica': (5084532, 5123105, 0.9924707769994954, 2020),\n",
       " 'domrep': (10881882, 9775755, 1.1131500329130588, 2010),\n",
       " 'ecuador': (1734374, 14989585, 0.11570527136008102, 2010),\n",
       " 'elsalvador': (6280217, 6044131, 1.039060371126966, 2007),\n",
       " 'guatemala': (17106338, 16850176, 1.0152023337916471, 2018),\n",
       " 'guyana': (798753, 743966, 1.0736418062115742, 2012),\n",
       " 'haiti': (11160438, 9730638, 1.1469379500090333, 2009),\n",
       " 'honduras': (9958829, 10121763, 0.9839026066901586, 2020),\n",
       " 'jamaica': (2813773, 2746169, 1.0246175672363937, 2011),\n",
       " 'mexico': (125085311, 125998302, 0.9927539420332823, 2020),\n",
       " 'nicaragua': (6663924, 685054, 9.72758935791923, 2021),\n",
       " 'panama': (4232532, 3623617, 1.168040662133995, 2010),\n",
       " 'paraguay': (6530026, 6618695, 0.9866032503386242, 2020),\n",
       " 'peru': (32824861, 33304756, 0.9855907967018284, 2020),\n",
       " 'suriname': (600301, 558111, 1.0755942814243045, 2012),\n",
       " 'usa': (334319671, 336997624, 0.9920534959023924, 2021),\n",
       " 'uruguay': (3428409, 3361637, 1.0198629417750935, 2011),\n",
       " 'venezuela': (28971683, 28971683, 1.0, 2019),\n",
       " 'afghanistan': (37769499, 3897223, 9.691387688105094, 2020),\n",
       " 'Azerbaijan.html': (10232753, 986348, 10.37438409161878, 2015),\n",
       " 'bangladesh': (165516222, 150211005, 1.101891449298272, 2011),\n",
       " 'cambodia': (16207746, 16207746, 1.0, 2019),\n",
       " 'georgia': (3770811, 3765912, 1.001300880105536, 2020),\n",
       " 'india': (138311205, 1257621191, 0.10997843069901006, 2011),\n",
       " 'indonesia': (269582878, 244016173, 1.1047746331141748, 2010),\n",
       " 'iran': (86564202, 83306231, 1.0391083711373283, 2016),\n",
       " 'japan': (125791677, 125244761, 1.0043667774654463, 2020),\n",
       " 'jordan': (10698683, 9494246, 1.1268596790097918, 2015),\n",
       " 'kazakhstan': (18754258, 19397998, 0.9668141011252811, 2022),\n",
       " 'kyrgyzstan': (6323643, 6527743, 0.9687334504437445, 2021),\n",
       " 'laos': (7212053, 6787419, 1.0625619252325516, 2015),\n",
       " 'lebanon': (5781907, 6109252, 0.946418153973678, 2017),\n",
       " 'malaysia': (3280402, 28717731, 0.11422914992831432, 2010),\n",
       " 'mongolia': (323243, 3347782, 0.09655437540437221, 2021),\n",
       " 'nepal': (28832496, 30034989, 0.9599635944597815, 2021),\n",
       " 'oman': (4602768, 4543399, 1.0130670891990776, 2020),\n",
       " 'pakistan': (22329328, 216379655, 0.10319513634495812, 2017),\n",
       " 'philippines': (110380804, 103031365, 1.0713320550494503, 2015),\n",
       " 'qatar': (2807235, 2760385, 1.0169722701724577, 2020),\n",
       " 'saudiarabia': (35827362, 29411929, 1.2181235035621092, 2010),\n",
       " 'srilanka': (21649664, 21017147, 1.0300952836272212, 2012),\n",
       " 'tajikistan': (9337003, 9543207, 0.9783925885711167, 2020),\n",
       " 'thailand': (71307763, 68270489, 1.044488827376057, 2010),\n",
       " 'turkmenistan': (615842, 4501079, 0.13682097114936217, 1999),\n",
       " 'uzbekistan': (32976948, 34627652, 0.9523298894190111, 2022),\n",
       " 'vietnam': (95776716, 95776716, 1.0, 2019),\n",
       " 'albania': (2873883, 2900654, 0.9907707020554675, 2011),\n",
       " 'austria': (887994, 8939617, 0.09933244343689444, 2022),\n",
       " 'belarus': (9673971, 9578167, 1.0100023313437738, 2021),\n",
       " 'belgium': (11510568, 1165593, 9.875289230460375, 2022),\n",
       " 'bosnia': (3360711, 3617559, 0.9289996376009347, 2013),\n",
       " 'bulgaria': (7052532, 6885868, 1.0242037750360593, 2021),\n",
       " 'croatia': (4129752, 4060135, 1.017146474193592, 2021),\n",
       " 'czechrep': (10536871, 10510751, 1.0024850745679352, 2021),\n",
       " 'denmark': (5795878, 5882261, 0.9853146604681431, 2022),\n",
       " 'estonia': (1327039, 1328701, 0.9987491542491501, 2021),\n",
       " 'finland': (5521537, 5535992, 0.9973889051862792, 2021),\n",
       " 'france': (64399759, 64480053, 0.9987547466811171, 2020),\n",
       " 'germany': (83148141, 83408554, 0.9968778621914486, 2021),\n",
       " 'uk': (66778659, 67281039, 0.9925331117434141, 2021),\n",
       " 'greece': (10574024, 11004725, 0.9608621751111455, 2011),\n",
       " 'hungary': (9771796, 9771796, 1.0, 2019),\n",
       " 'iceland': (360774, 372899, 0.967484493120121, 2022),\n",
       " 'ireland': (4896019, 5023109, 0.97469893645549, 2022),\n",
       " 'italy': (59727932, 59037474, 1.011695249698522, 2022),\n",
       " 'latvia': (1916555, 1873919, 1.0227523174694317, 2021),\n",
       " 'lithuania': (2849083, 2786651, 1.0224039537064382, 2021),\n",
       " 'netherlands': (17363262, 17286042, 1.0044671880352947, 2018),\n",
       " 'northmacedonia': (2114176, 210333, 10.051565850342076, 2021),\n",
       " 'norway': (5348279, 5434319, 0.9841672894064555, 2022),\n",
       " 'poland': (38493601, 38307726, 1.0048521543669806, 2021),\n",
       " 'portugal': (10289923, 10290103, 0.9999825074637251, 2021),\n",
       " 'romania': (19524211, 1932856, 10.101223784906894, 2021),\n",
       " 'russia': (145742286, 145102755, 1.0044074352688892, 2021),\n",
       " 'serbia': (7401056, 7620918, 0.9711501947665623, 2011),\n",
       " 'slovakia': (5453924, 5643453, 0.9664161285652596, 2022),\n",
       " 'slovenia': (2112901, 2119844, 0.9967247589916994, 2022),\n",
       " 'spain': (47131372, 47486935, 0.9925124036748213, 2021),\n",
       " 'sweden': (10267922, 10368969, 0.9902548652619175, 2020),\n",
       " 'switzerland': (8575588, 8691406, 0.986674422987489, 2021),\n",
       " 'turkey': (83481684, 84775404, 0.984739441642767, 2021),\n",
       " 'ukraine': (44211094, 39701739, 1.1135807930226935, 2022),\n",
       " 'australia': (2535717, 25921089, 0.09782447797621466, 2021),\n",
       " 'newzealand': (4959034, 5185288, 0.9563661651966101, 2022),\n",
       " 'papuanewguinea': (9542486, 7806637, 1.2223555418293435, 2011)}"
      ]
     },
     "execution_count": 20,
     "metadata": {},
     "output_type": "execute_result"
    }
   ],
   "source": [
    "pop_adjust"
   ]
  },
  {
   "cell_type": "markdown",
   "id": "635095c1",
   "metadata": {},
   "source": [
    "Manually correcting wrong data for some countries for which population variation figure were abnormal"
   ]
  },
  {
   "cell_type": "code",
   "execution_count": 21,
   "id": "06ddcaa0",
   "metadata": {},
   "outputs": [],
   "source": [
    "pop_adjust['benin'] = (12290444, 10308730, c, 2013)\n",
    "pop_adjust['drcongo'] = (89906890, 54815607, c, 2004)\n",
    "pop_adjust['equatorialguinea'] = (1553031, 719270, c, 2001)\n",
    "pop_adjust['ghana'] = (31522290, 25574719, c, 2010)\n",
    "pop_adjust['namibia'] = (2446644, 2132340, c, 2011)\n",
    "pop_adjust['nigeria'] = (203304492, 97685360, c, 1991)\n",
    "pop_adjust['togo'] = (8243094, 8442580, c, 2020)\n",
    "pop_adjust['ecuador'] = (17343740, 14989585, c, 2010)\n",
    "pop_adjust['nicaragua'] = (6663924, 6850540, c, 2021)\n",
    "pop_adjust['afghanistan'] = (37769499, 38972230, c, 2020)\n",
    "pop_adjust['Azerbaijan.html'] = (10232753, 9863480, c, 2015)\n",
    "pop_adjust['india'] = (1383112050, 1257621191, c, 2011)\n",
    "pop_adjust['malaysia'] = (32804020, 28717731, c, 2010)\n",
    "pop_adjust['mongolia'] = (3232430, 3347782, c, 2021)\n",
    "pop_adjust['belgium'] = (11510568, 11655930,c, 2022)\n",
    "pop_adjust['northmacedonia'] = (2114176, 2103330, c, 2021)\n",
    "pop_adjust['romania'] = (19524211, 19328560, c, 2021)\n",
    "pop_adjust['uganda']=(42949080, 44404611, c, 2020)"
   ]
  },
  {
   "cell_type": "markdown",
   "id": "6feaf648",
   "metadata": {},
   "source": [
    "Recomputing incorrect rates of change"
   ]
  },
  {
   "cell_type": "code",
   "execution_count": 22,
   "id": "4e98673b",
   "metadata": {},
   "outputs": [],
   "source": [
    "for i in pop_adjust.keys():\n",
    "    pop_adjust[i] = (pop_adjust.get(i)[0], pop_adjust.get(i)[1], pop_adjust.get(i)[0]/pop_adjust.get(i)[1], pop_adjust.get(i)[3])"
   ]
  },
  {
   "cell_type": "markdown",
   "id": "efb4db21",
   "metadata": {},
   "source": [
    "Computing estimates for population figures in baseline year (2019) for each instance and adding it to the dataset as a new column."
   ]
  },
  {
   "cell_type": "code",
   "execution_count": 23,
   "id": "31783951",
   "metadata": {},
   "outputs": [],
   "source": [
    "all_cities_GDP_HDI_valid.reset_index(inplace=True, drop=True)\n",
    "\n",
    "figure_est_2019 = []\n",
    "adjust_factor_col = []\n",
    "\n",
    "for i in range(all_cities_GDP_HDI_valid.shape[0]):\n",
    "\n",
    "    country = all_cities_GDP_HDI_valid.iloc[i][1]\n",
    "    adjust_factor = pop_adjust.get(country)[2]\n",
    "    figure_est = all_cities_GDP_HDI_valid.iloc[i][2] * adjust_factor\n",
    "    \n",
    "    adjust_factor_col.append(adjust_factor)\n",
    "    figure_est_2019.append(int(figure_est))\n",
    "    \n",
    "all_cities_GDP_HDI_valid['2019_figure_est'] = figure_est_2019"
   ]
  },
  {
   "cell_type": "code",
   "execution_count": 24,
   "id": "3abbec11",
   "metadata": {},
   "outputs": [
    {
     "data": {
      "text/html": [
       "<div>\n",
       "<style scoped>\n",
       "    .dataframe tbody tr th:only-of-type {\n",
       "        vertical-align: middle;\n",
       "    }\n",
       "\n",
       "    .dataframe tbody tr th {\n",
       "        vertical-align: top;\n",
       "    }\n",
       "\n",
       "    .dataframe thead th {\n",
       "        text-align: right;\n",
       "    }\n",
       "</style>\n",
       "<table border=\"1\" class=\"dataframe\">\n",
       "  <thead>\n",
       "    <tr style=\"text-align: right;\">\n",
       "      <th></th>\n",
       "      <th>cityname</th>\n",
       "      <th>country</th>\n",
       "      <th>latest_figure</th>\n",
       "      <th>figure_description</th>\n",
       "      <th>town_code</th>\n",
       "      <th>GDP_19</th>\n",
       "      <th>HDI_19</th>\n",
       "      <th>year_latest_figure</th>\n",
       "      <th>2019_figure_est</th>\n",
       "    </tr>\n",
       "  </thead>\n",
       "  <tbody>\n",
       "    <tr>\n",
       "      <th>0</th>\n",
       "      <td>Adrar</td>\n",
       "      <td>algeria</td>\n",
       "      <td>68276</td>\n",
       "      <td>(C)2008-04-14Area</td>\n",
       "      <td>0</td>\n",
       "      <td>3953,576</td>\n",
       "      <td>0.748</td>\n",
       "      <td>2008</td>\n",
       "      <td>84344</td>\n",
       "    </tr>\n",
       "    <tr>\n",
       "      <th>1</th>\n",
       "      <td>Aflou</td>\n",
       "      <td>algeria</td>\n",
       "      <td>93585</td>\n",
       "      <td>(C)2008-04-14Area</td>\n",
       "      <td>1</td>\n",
       "      <td>3953,576</td>\n",
       "      <td>0.748</td>\n",
       "      <td>2008</td>\n",
       "      <td>115609</td>\n",
       "    </tr>\n",
       "    <tr>\n",
       "      <th>2</th>\n",
       "      <td>Aïn Béïda</td>\n",
       "      <td>algeria</td>\n",
       "      <td>116064</td>\n",
       "      <td>(C)2008-04-14Area</td>\n",
       "      <td>2</td>\n",
       "      <td>3953,576</td>\n",
       "      <td>0.748</td>\n",
       "      <td>2008</td>\n",
       "      <td>143379</td>\n",
       "    </tr>\n",
       "    <tr>\n",
       "      <th>3</th>\n",
       "      <td>Aïn Defla</td>\n",
       "      <td>algeria</td>\n",
       "      <td>55259</td>\n",
       "      <td>(C)2008-04-14Area</td>\n",
       "      <td>3</td>\n",
       "      <td>3953,576</td>\n",
       "      <td>0.748</td>\n",
       "      <td>2008</td>\n",
       "      <td>68263</td>\n",
       "    </tr>\n",
       "    <tr>\n",
       "      <th>4</th>\n",
       "      <td>Aïn M'lila</td>\n",
       "      <td>algeria</td>\n",
       "      <td>65371</td>\n",
       "      <td>(C)2008-04-14Area</td>\n",
       "      <td>4</td>\n",
       "      <td>3953,576</td>\n",
       "      <td>0.748</td>\n",
       "      <td>2008</td>\n",
       "      <td>80755</td>\n",
       "    </tr>\n",
       "    <tr>\n",
       "      <th>...</th>\n",
       "      <td>...</td>\n",
       "      <td>...</td>\n",
       "      <td>...</td>\n",
       "      <td>...</td>\n",
       "      <td>...</td>\n",
       "      <td>...</td>\n",
       "      <td>...</td>\n",
       "      <td>...</td>\n",
       "      <td>...</td>\n",
       "    </tr>\n",
       "    <tr>\n",
       "      <th>5410</th>\n",
       "      <td>Tauranga</td>\n",
       "      <td>newzealand</td>\n",
       "      <td>158300</td>\n",
       "      <td>(Ep)2022-06-30Area</td>\n",
       "      <td>5488</td>\n",
       "      <td>42342,994</td>\n",
       "      <td>0.937</td>\n",
       "      <td>2022</td>\n",
       "      <td>151392</td>\n",
       "    </tr>\n",
       "    <tr>\n",
       "      <th>5411</th>\n",
       "      <td>Wellington</td>\n",
       "      <td>newzealand</td>\n",
       "      <td>212000</td>\n",
       "      <td>(Ep)2022-06-30Area</td>\n",
       "      <td>5489</td>\n",
       "      <td>42342,994</td>\n",
       "      <td>0.937</td>\n",
       "      <td>2022</td>\n",
       "      <td>202749</td>\n",
       "    </tr>\n",
       "    <tr>\n",
       "      <th>5412</th>\n",
       "      <td>Whangārei</td>\n",
       "      <td>newzealand</td>\n",
       "      <td>54900</td>\n",
       "      <td>(Ep)2022-06-30Area</td>\n",
       "      <td>5490</td>\n",
       "      <td>42342,994</td>\n",
       "      <td>0.937</td>\n",
       "      <td>2022</td>\n",
       "      <td>52504</td>\n",
       "    </tr>\n",
       "    <tr>\n",
       "      <th>5413</th>\n",
       "      <td>Lae</td>\n",
       "      <td>papuanewguinea</td>\n",
       "      <td>148934</td>\n",
       "      <td>(Cf)2011-07-10Area</td>\n",
       "      <td>5491</td>\n",
       "      <td>2877,577</td>\n",
       "      <td>0.560</td>\n",
       "      <td>2011</td>\n",
       "      <td>182050</td>\n",
       "    </tr>\n",
       "    <tr>\n",
       "      <th>5414</th>\n",
       "      <td>Port Moresby</td>\n",
       "      <td>papuanewguinea</td>\n",
       "      <td>364125</td>\n",
       "      <td>(Cf)2011-07-10Area</td>\n",
       "      <td>5492</td>\n",
       "      <td>2877,577</td>\n",
       "      <td>0.560</td>\n",
       "      <td>2011</td>\n",
       "      <td>445090</td>\n",
       "    </tr>\n",
       "  </tbody>\n",
       "</table>\n",
       "<p>5415 rows × 9 columns</p>\n",
       "</div>"
      ],
      "text/plain": [
       "          cityname         country  latest_figure   figure_description  \\\n",
       "0            Adrar         algeria          68276   (C)2008-04-14Area    \n",
       "1            Aflou         algeria          93585   (C)2008-04-14Area    \n",
       "2        Aïn Béïda         algeria         116064   (C)2008-04-14Area    \n",
       "3        Aïn Defla         algeria          55259   (C)2008-04-14Area    \n",
       "4       Aïn M'lila         algeria          65371   (C)2008-04-14Area    \n",
       "...            ...             ...            ...                  ...   \n",
       "5410      Tauranga      newzealand         158300  (Ep)2022-06-30Area    \n",
       "5411    Wellington      newzealand         212000  (Ep)2022-06-30Area    \n",
       "5412     Whangārei      newzealand          54900  (Ep)2022-06-30Area    \n",
       "5413           Lae  papuanewguinea         148934  (Cf)2011-07-10Area    \n",
       "5414  Port Moresby  papuanewguinea         364125  (Cf)2011-07-10Area    \n",
       "\n",
       "      town_code     GDP_19  HDI_19  year_latest_figure  2019_figure_est  \n",
       "0             0   3953,576   0.748                2008            84344  \n",
       "1             1   3953,576   0.748                2008           115609  \n",
       "2             2   3953,576   0.748                2008           143379  \n",
       "3             3   3953,576   0.748                2008            68263  \n",
       "4             4   3953,576   0.748                2008            80755  \n",
       "...         ...        ...     ...                 ...              ...  \n",
       "5410       5488  42342,994   0.937                2022           151392  \n",
       "5411       5489  42342,994   0.937                2022           202749  \n",
       "5412       5490  42342,994   0.937                2022            52504  \n",
       "5413       5491   2877,577   0.560                2011           182050  \n",
       "5414       5492   2877,577   0.560                2011           445090  \n",
       "\n",
       "[5415 rows x 9 columns]"
      ]
     },
     "execution_count": 24,
     "metadata": {},
     "output_type": "execute_result"
    }
   ],
   "source": [
    "all_cities_GDP_HDI_valid"
   ]
  },
  {
   "cell_type": "markdown",
   "id": "e81f5c48",
   "metadata": {},
   "source": [
    "Re-filtering data to eliminate discard any settlement whose population estimate for 2019 is out of the defined population bounds (50k < x < 500k)"
   ]
  },
  {
   "cell_type": "code",
   "execution_count": 25,
   "id": "b355e3af",
   "metadata": {},
   "outputs": [],
   "source": [
    "all_cities_50 = all_cities_GDP_HDI_valid[all_cities_GDP_HDI_valid['2019_figure_est']>50000]\n",
    "all_cities_filter = all_cities_50[all_cities_50['2019_figure_est']<500000]\n",
    "all_cities_filter.reset_index(inplace=True, drop=True)\n",
    "siei_data_1 = all_cities_filter.copy()"
   ]
  },
  {
   "cell_type": "markdown",
   "id": "5c36fc5d",
   "metadata": {},
   "source": [
    "199 instances were discarded after re-applying the population range filter"
   ]
  },
  {
   "cell_type": "code",
   "execution_count": 26,
   "id": "a762247f",
   "metadata": {},
   "outputs": [
    {
     "data": {
      "text/plain": [
       "-199"
      ]
     },
     "execution_count": 26,
     "metadata": {},
     "output_type": "execute_result"
    }
   ],
   "source": [
    "siei_data_1.shape[0] - all_cities_GDP_HDI_valid.shape[0]"
   ]
  },
  {
   "cell_type": "code",
   "execution_count": 27,
   "id": "84a39ff5",
   "metadata": {},
   "outputs": [
    {
     "data": {
      "text/html": [
       "<div>\n",
       "<style scoped>\n",
       "    .dataframe tbody tr th:only-of-type {\n",
       "        vertical-align: middle;\n",
       "    }\n",
       "\n",
       "    .dataframe tbody tr th {\n",
       "        vertical-align: top;\n",
       "    }\n",
       "\n",
       "    .dataframe thead th {\n",
       "        text-align: right;\n",
       "    }\n",
       "</style>\n",
       "<table border=\"1\" class=\"dataframe\">\n",
       "  <thead>\n",
       "    <tr style=\"text-align: right;\">\n",
       "      <th></th>\n",
       "      <th>cityname</th>\n",
       "      <th>country</th>\n",
       "      <th>latest_figure</th>\n",
       "      <th>figure_description</th>\n",
       "      <th>town_code</th>\n",
       "      <th>GDP_19</th>\n",
       "      <th>HDI_19</th>\n",
       "      <th>year_latest_figure</th>\n",
       "      <th>2019_figure_est</th>\n",
       "    </tr>\n",
       "  </thead>\n",
       "  <tbody>\n",
       "    <tr>\n",
       "      <th>0</th>\n",
       "      <td>Adrar</td>\n",
       "      <td>algeria</td>\n",
       "      <td>68276</td>\n",
       "      <td>(C)2008-04-14Area</td>\n",
       "      <td>0</td>\n",
       "      <td>3953,576</td>\n",
       "      <td>0.748</td>\n",
       "      <td>2008</td>\n",
       "      <td>84344</td>\n",
       "    </tr>\n",
       "    <tr>\n",
       "      <th>1</th>\n",
       "      <td>Aflou</td>\n",
       "      <td>algeria</td>\n",
       "      <td>93585</td>\n",
       "      <td>(C)2008-04-14Area</td>\n",
       "      <td>1</td>\n",
       "      <td>3953,576</td>\n",
       "      <td>0.748</td>\n",
       "      <td>2008</td>\n",
       "      <td>115609</td>\n",
       "    </tr>\n",
       "    <tr>\n",
       "      <th>2</th>\n",
       "      <td>Aïn Béïda</td>\n",
       "      <td>algeria</td>\n",
       "      <td>116064</td>\n",
       "      <td>(C)2008-04-14Area</td>\n",
       "      <td>2</td>\n",
       "      <td>3953,576</td>\n",
       "      <td>0.748</td>\n",
       "      <td>2008</td>\n",
       "      <td>143379</td>\n",
       "    </tr>\n",
       "    <tr>\n",
       "      <th>3</th>\n",
       "      <td>Aïn Defla</td>\n",
       "      <td>algeria</td>\n",
       "      <td>55259</td>\n",
       "      <td>(C)2008-04-14Area</td>\n",
       "      <td>3</td>\n",
       "      <td>3953,576</td>\n",
       "      <td>0.748</td>\n",
       "      <td>2008</td>\n",
       "      <td>68263</td>\n",
       "    </tr>\n",
       "    <tr>\n",
       "      <th>4</th>\n",
       "      <td>Aïn M'lila</td>\n",
       "      <td>algeria</td>\n",
       "      <td>65371</td>\n",
       "      <td>(C)2008-04-14Area</td>\n",
       "      <td>4</td>\n",
       "      <td>3953,576</td>\n",
       "      <td>0.748</td>\n",
       "      <td>2008</td>\n",
       "      <td>80755</td>\n",
       "    </tr>\n",
       "    <tr>\n",
       "      <th>...</th>\n",
       "      <td>...</td>\n",
       "      <td>...</td>\n",
       "      <td>...</td>\n",
       "      <td>...</td>\n",
       "      <td>...</td>\n",
       "      <td>...</td>\n",
       "      <td>...</td>\n",
       "      <td>...</td>\n",
       "      <td>...</td>\n",
       "    </tr>\n",
       "    <tr>\n",
       "      <th>5211</th>\n",
       "      <td>Tauranga</td>\n",
       "      <td>newzealand</td>\n",
       "      <td>158300</td>\n",
       "      <td>(Ep)2022-06-30Area</td>\n",
       "      <td>5488</td>\n",
       "      <td>42342,994</td>\n",
       "      <td>0.937</td>\n",
       "      <td>2022</td>\n",
       "      <td>151392</td>\n",
       "    </tr>\n",
       "    <tr>\n",
       "      <th>5212</th>\n",
       "      <td>Wellington</td>\n",
       "      <td>newzealand</td>\n",
       "      <td>212000</td>\n",
       "      <td>(Ep)2022-06-30Area</td>\n",
       "      <td>5489</td>\n",
       "      <td>42342,994</td>\n",
       "      <td>0.937</td>\n",
       "      <td>2022</td>\n",
       "      <td>202749</td>\n",
       "    </tr>\n",
       "    <tr>\n",
       "      <th>5213</th>\n",
       "      <td>Whangārei</td>\n",
       "      <td>newzealand</td>\n",
       "      <td>54900</td>\n",
       "      <td>(Ep)2022-06-30Area</td>\n",
       "      <td>5490</td>\n",
       "      <td>42342,994</td>\n",
       "      <td>0.937</td>\n",
       "      <td>2022</td>\n",
       "      <td>52504</td>\n",
       "    </tr>\n",
       "    <tr>\n",
       "      <th>5214</th>\n",
       "      <td>Lae</td>\n",
       "      <td>papuanewguinea</td>\n",
       "      <td>148934</td>\n",
       "      <td>(Cf)2011-07-10Area</td>\n",
       "      <td>5491</td>\n",
       "      <td>2877,577</td>\n",
       "      <td>0.560</td>\n",
       "      <td>2011</td>\n",
       "      <td>182050</td>\n",
       "    </tr>\n",
       "    <tr>\n",
       "      <th>5215</th>\n",
       "      <td>Port Moresby</td>\n",
       "      <td>papuanewguinea</td>\n",
       "      <td>364125</td>\n",
       "      <td>(Cf)2011-07-10Area</td>\n",
       "      <td>5492</td>\n",
       "      <td>2877,577</td>\n",
       "      <td>0.560</td>\n",
       "      <td>2011</td>\n",
       "      <td>445090</td>\n",
       "    </tr>\n",
       "  </tbody>\n",
       "</table>\n",
       "<p>5216 rows × 9 columns</p>\n",
       "</div>"
      ],
      "text/plain": [
       "          cityname         country  latest_figure   figure_description  \\\n",
       "0            Adrar         algeria          68276   (C)2008-04-14Area    \n",
       "1            Aflou         algeria          93585   (C)2008-04-14Area    \n",
       "2        Aïn Béïda         algeria         116064   (C)2008-04-14Area    \n",
       "3        Aïn Defla         algeria          55259   (C)2008-04-14Area    \n",
       "4       Aïn M'lila         algeria          65371   (C)2008-04-14Area    \n",
       "...            ...             ...            ...                  ...   \n",
       "5211      Tauranga      newzealand         158300  (Ep)2022-06-30Area    \n",
       "5212    Wellington      newzealand         212000  (Ep)2022-06-30Area    \n",
       "5213     Whangārei      newzealand          54900  (Ep)2022-06-30Area    \n",
       "5214           Lae  papuanewguinea         148934  (Cf)2011-07-10Area    \n",
       "5215  Port Moresby  papuanewguinea         364125  (Cf)2011-07-10Area    \n",
       "\n",
       "      town_code     GDP_19  HDI_19  year_latest_figure  2019_figure_est  \n",
       "0             0   3953,576   0.748                2008            84344  \n",
       "1             1   3953,576   0.748                2008           115609  \n",
       "2             2   3953,576   0.748                2008           143379  \n",
       "3             3   3953,576   0.748                2008            68263  \n",
       "4             4   3953,576   0.748                2008            80755  \n",
       "...         ...        ...     ...                 ...              ...  \n",
       "5211       5488  42342,994   0.937                2022           151392  \n",
       "5212       5489  42342,994   0.937                2022           202749  \n",
       "5213       5490  42342,994   0.937                2022            52504  \n",
       "5214       5491   2877,577   0.560                2011           182050  \n",
       "5215       5492   2877,577   0.560                2011           445090  \n",
       "\n",
       "[5216 rows x 9 columns]"
      ]
     },
     "execution_count": 27,
     "metadata": {},
     "output_type": "execute_result"
    }
   ],
   "source": [
    "siei_data_1 "
   ]
  },
  {
   "cell_type": "markdown",
   "id": "44694e6d",
   "metadata": {},
   "source": [
    "## 4. Instance-Image check"
   ]
  },
  {
   "cell_type": "markdown",
   "id": "339bb7cd",
   "metadata": {},
   "source": [
    "Checking that there is one image in the specified directory for each instance in the dataframe."
   ]
  },
  {
   "cell_type": "code",
   "execution_count": 28,
   "id": "ee7aa366",
   "metadata": {},
   "outputs": [],
   "source": [
    "generic_image_dir = \"../data/ignore/images_750_800_12/\"\n",
    "\n",
    "images_check = []\n",
    "\n",
    "for i in range(siei_data_1.shape[0]):\n",
    "\n",
    "    town_code = siei_data_1.iloc[i][4]\n",
    "    \n",
    "    image_path = os.path.join(generic_image_dir, str(town_code) + \".png\")\n",
    "    \n",
    "    if os.path.isfile(image_path):\n",
    "        pass\n",
    "    else:\n",
    "        images_check.append(town_code)"
   ]
  },
  {
   "cell_type": "markdown",
   "id": "6f4f477a",
   "metadata": {},
   "source": [
    "A total of 90 Images could not be retrieved from the initial round of API calls. The town codes of these are listed below. A second round of API call will be carried out in a separate notebook to retrieve these or at least check what might have gone wrong in these particular cases."
   ]
  },
  {
   "cell_type": "code",
   "execution_count": 29,
   "id": "e62ff13d",
   "metadata": {},
   "outputs": [
    {
     "data": {
      "text/plain": [
       "90"
      ]
     },
     "execution_count": 29,
     "metadata": {},
     "output_type": "execute_result"
    }
   ],
   "source": [
    "len(images_check)"
   ]
  },
  {
   "cell_type": "code",
   "execution_count": 31,
   "id": "7333f751",
   "metadata": {
    "scrolled": false
   },
   "outputs": [
    {
     "data": {
      "text/plain": [
       "kazakhstan     13\n",
       "brazil          7\n",
       "colombia        7\n",
       "sudan           6\n",
       "argentina       6\n",
       "india           6\n",
       "germany         4\n",
       "nigeria         3\n",
       "chile           3\n",
       "vietnam         3\n",
       "ukraine         2\n",
       "egypt           2\n",
       "srilanka        2\n",
       "japan           2\n",
       "iran            2\n",
       "belarus         2\n",
       "honduras        2\n",
       "costarica       2\n",
       "philippines     2\n",
       "tajikistan      1\n",
       "thailand        1\n",
       "nepal           1\n",
       "russia          1\n",
       "drcongo         1\n",
       "malaysia        1\n",
       "kyrgyzstan      1\n",
       "peru            1\n",
       "paraguay        1\n",
       "mexico          1\n",
       "elsalvador      1\n",
       "sierraleone     1\n",
       "ethiopia        1\n",
       "bangladesh      1\n",
       "Name: country, dtype: int64"
      ]
     },
     "execution_count": 31,
     "metadata": {},
     "output_type": "execute_result"
    }
   ],
   "source": [
    "resultados = siei_data_1[siei_data_1['town_code'].isin(images_check)]\n",
    "resultados.country.value_counts()"
   ]
  },
  {
   "cell_type": "code",
   "execution_count": 32,
   "id": "801db76b",
   "metadata": {},
   "outputs": [],
   "source": [
    "siei_data_1.drop(siei_data_1[siei_data_1['town_code'].isin(images_check)].index, inplace=True)\n",
    "siei_data_1.reset_index(inplace=True, drop=True)"
   ]
  },
  {
   "cell_type": "markdown",
   "id": "1c391454",
   "metadata": {},
   "source": [
    "Saving resulted enriched dataframe as csv for later use."
   ]
  },
  {
   "cell_type": "code",
   "execution_count": 33,
   "id": "414fa405",
   "metadata": {},
   "outputs": [],
   "source": [
    "siei_data_1.to_csv(\"../data/siei_data_v1.csv\")"
   ]
  }
 ],
 "metadata": {
  "kernelspec": {
   "display_name": "Python 3 (ipykernel)",
   "language": "python",
   "name": "python3"
  },
  "language_info": {
   "codemirror_mode": {
    "name": "ipython",
    "version": 3
   },
   "file_extension": ".py",
   "mimetype": "text/x-python",
   "name": "python",
   "nbconvert_exporter": "python",
   "pygments_lexer": "ipython3",
   "version": "3.9.7"
  }
 },
 "nbformat": 4,
 "nbformat_minor": 5
}
