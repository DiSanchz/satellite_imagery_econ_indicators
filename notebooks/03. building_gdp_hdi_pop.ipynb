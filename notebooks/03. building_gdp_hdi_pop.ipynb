{
 "cells": [
  {
   "cell_type": "markdown",
   "id": "d292c18f",
   "metadata": {},
   "source": [
    "### Imports"
   ]
  },
  {
   "cell_type": "code",
   "execution_count": 1,
   "id": "6d8c6910",
   "metadata": {},
   "outputs": [],
   "source": [
    "import pandas as pd\n",
    "import numpy as np\n",
    "import json\n",
    "import time \n",
    "from selenium import webdriver\n",
    "from selenium.webdriver.chrome.options import Options\n",
    "from webdriver_manager.chrome import ChromeDriverManager\n",
    "from selenium.webdriver.common.action_chains import ActionChains\n",
    "import warnings\n",
    "from PIL import Image\n",
    "import cv2\n",
    "import matplotlib.pyplot as plt\n",
    "import re\n",
    "import requests as req\n",
    "from bs4 import BeautifulSoup as bs\n",
    "import random\n",
    "import http.client, urllib.parse\n",
    "import csv\n",
    "import seaborn as sns\n",
    "#from sample_building_functions import *\n",
    "\n",
    "\n",
    "warnings.simplefilter('ignore')"
   ]
  },
  {
   "cell_type": "markdown",
   "id": "69761faa",
   "metadata": {},
   "source": [
    "### Defining some useful functions"
   ]
  },
  {
   "cell_type": "code",
   "execution_count": 9,
   "id": "2a526250",
   "metadata": {},
   "outputs": [],
   "source": [
    "def outliers_border_tukey(data):\n",
    "    \"\"\"\n",
    "    Detecta outliers utilizando el método de Tukey.\n",
    "\n",
    "    Parámetros:\n",
    "    data (list or np.array): un arreglo unidimensional de valores numéricos.\n",
    "    \n",
    "    - Written by chatGPT, modified by DiSanchz\n",
    "    \"\"\"\n",
    "    # Calculamos el rango intercuartil (IQR)\n",
    "    q1, q3 = np.percentile(data, [25, 75])\n",
    "    iqr = q3 - q1\n",
    "\n",
    "    # Establecemos los límites inferior y superior\n",
    "    lower_bound = q1 - (1.5 * iqr)\n",
    "    upper_bound = q3 + (1.5 * iqr)\n",
    "    \n",
    "    print(f'The upper and lower bounds for outliers are: {(lower_bound, upper_bound)}')\n",
    "\n",
    "    return (lower_bound, upper_bound)"
   ]
  },
  {
   "cell_type": "markdown",
   "id": "8de79c96",
   "metadata": {},
   "source": [
    "## 1. Loading data on all cities _vanilla_ sample DataFrame \"all_cities_filter\""
   ]
  },
  {
   "cell_type": "code",
   "execution_count": null,
   "id": "6fe19143",
   "metadata": {},
   "outputs": [],
   "source": [
    "all_cities_filter = pd.read_csv(\"data/all_cities_filtered.csv\")"
   ]
  },
  {
   "cell_type": "markdown",
   "id": "2da153fd",
   "metadata": {},
   "source": [
    "## 2. complete data with GDP and HDI figures"
   ]
  },
  {
   "cell_type": "markdown",
   "id": "5c3246c3",
   "metadata": {},
   "source": [
    "### Loading reference indicators' data"
   ]
  },
  {
   "cell_type": "code",
   "execution_count": 15,
   "id": "19a1854c",
   "metadata": {},
   "outputs": [],
   "source": [
    "GDP_raw = pd.read_csv('../data/ignore/GDP_per_capita_2019.csv', encoding= 'unicode_escape', sep=';')\n",
    "HDI_raw = pd.read_csv('../data/ignore/HDI_index_historical.csv', encoding= 'unicode_escape')"
   ]
  },
  {
   "cell_type": "markdown",
   "id": "edf54f10",
   "metadata": {},
   "source": [
    "### 2.1 GDP"
   ]
  },
  {
   "cell_type": "code",
   "execution_count": 16,
   "id": "9b12583a",
   "metadata": {},
   "outputs": [],
   "source": [
    "GDP_raw['country'] =  [i.lower() for i in GDP_raw['GDP per capita, current prices\\n (U.S. dollars per capita)']]\n",
    "GDP_raw.drop(['GDP per capita, current prices\\n (U.S. dollars per capita)'], inplace=True, axis=1)"
   ]
  },
  {
   "cell_type": "markdown",
   "id": "a76a4918",
   "metadata": {},
   "source": [
    "\"Cleaning\" country names. A dictionary of alternative country names is created to map each contry name as referred in \"all_cities_filter\" compared to GDP data source for those cases where it diverges."
   ]
  },
  {
   "cell_type": "code",
   "execution_count": 17,
   "id": "8c457b77",
   "metadata": {},
   "outputs": [],
   "source": [
    "fixed_names = {}\n",
    "fixed_names ['burkinafaso'] = 'burkina faso'\n",
    "fixed_names ['centralafrica'] = 'central african republic'\n",
    "fixed_names ['drcongo'] = 'congo, dem. rep. of the'\n",
    "fixed_names ['equatorialguinea'] = 'equatorial guinea'\n",
    "fixed_names ['guineabissau'] = 'guinea-bissau'\n",
    "fixed_names ['ivorycoast'] = \"cote divoire\"\n",
    "fixed_names ['sierraleone'] = \"sierra leone\"\n",
    "fixed_names ['ivorycoast'] = 'south sudan'\n",
    "fixed_names['costarica'] = 'costa rica'\n",
    "fixed_names['southsudan'] = 'south sudan'\n",
    "fixed_names['turkey'] = 'türkiye, republic of'\n",
    "fixed_names['domrep'] = 'dominican republic'\n",
    "fixed_names['elsalvador'] = 'el salvador'\n",
    "fixed_names['puertorico'] = 'puerto rico'  \n",
    "fixed_names['usa'] = 'united states'  \n",
    "fixed_names['Azerbaijan.html'] = 'azerbaijan'\n",
    "fixed_names['kyrgyzstan'] = 'kyrgyz republic'\n",
    "fixed_names['laos'] = 'lao p.d.r.'\n",
    "fixed_names['saudiarabia'] = 'saudi arabia'\n",
    "fixed_names['srilanka'] = 'sri lanka'\n",
    "fixed_names['taiwan'] = 'taiwan province of china'\n",
    "fixed_names['bosnia'] = 'bosnia and herzegovina'\n",
    "fixed_names['czechrep'] = 'czech republic'\n",
    "fixed_names['uk'] = 'united kingdom'\n",
    "fixed_names['northmacedonia'] = 'north macedonia '\n",
    "fixed_names['russia'] = 'russian federation'\n",
    "fixed_names['slovakia'] = 'slovak republic'\n",
    "fixed_names['newzealand'] = 'new zealand'\n",
    "fixed_names['papuanewguinea'] = 'papua new guinea'"
   ]
  },
  {
   "cell_type": "markdown",
   "id": "e5941d59",
   "metadata": {},
   "source": [
    "Retrieving GDP data and inserting it into the cities DF"
   ]
  },
  {
   "cell_type": "code",
   "execution_count": 18,
   "id": "bfbd8524",
   "metadata": {},
   "outputs": [],
   "source": [
    "GDP_column = []\n",
    "\n",
    "for i in all_cities_filter['country']:\n",
    "    try:\n",
    "        try:\n",
    "            GDP_column.append(GDP_raw[GDP_raw.eq(i).any(1)].iloc[0][0])\n",
    "        except:\n",
    "            GDP_column.append(GDP_raw[GDP_raw.eq(fixed_names.get(i)).any(1)].iloc[0][0])\n",
    "    except:\n",
    "        GDP_column.append(np.nan)\n",
    "        pass\n",
    "        \n",
    "all_cities_GDP = all_cities_filter.copy()\n",
    "all_cities_GDP['GDP_19'] = GDP_column\n",
    "all_cities_GDP_valid = all_cities_GDP[all_cities_GDP.GDP_19.notnull()]"
   ]
  },
  {
   "cell_type": "code",
   "execution_count": 19,
   "id": "0b342b4c",
   "metadata": {},
   "outputs": [
    {
     "data": {
      "text/html": [
       "<div>\n",
       "<style scoped>\n",
       "    .dataframe tbody tr th:only-of-type {\n",
       "        vertical-align: middle;\n",
       "    }\n",
       "\n",
       "    .dataframe tbody tr th {\n",
       "        vertical-align: top;\n",
       "    }\n",
       "\n",
       "    .dataframe thead th {\n",
       "        text-align: right;\n",
       "    }\n",
       "</style>\n",
       "<table border=\"1\" class=\"dataframe\">\n",
       "  <thead>\n",
       "    <tr style=\"text-align: right;\">\n",
       "      <th></th>\n",
       "      <th>cityname</th>\n",
       "      <th>country</th>\n",
       "      <th>latest_figure</th>\n",
       "      <th>figure_description</th>\n",
       "      <th>town_code</th>\n",
       "      <th>count</th>\n",
       "      <th>GDP_19</th>\n",
       "    </tr>\n",
       "  </thead>\n",
       "  <tbody>\n",
       "    <tr>\n",
       "      <th>0</th>\n",
       "      <td>Adrar</td>\n",
       "      <td>algeria</td>\n",
       "      <td>68276</td>\n",
       "      <td>(C)2008-04-14Area</td>\n",
       "      <td>0</td>\n",
       "      <td>1</td>\n",
       "      <td>3953,576</td>\n",
       "    </tr>\n",
       "    <tr>\n",
       "      <th>1</th>\n",
       "      <td>Aflou</td>\n",
       "      <td>algeria</td>\n",
       "      <td>93585</td>\n",
       "      <td>(C)2008-04-14Area</td>\n",
       "      <td>1</td>\n",
       "      <td>1</td>\n",
       "      <td>3953,576</td>\n",
       "    </tr>\n",
       "    <tr>\n",
       "      <th>2</th>\n",
       "      <td>Aïn Béïda</td>\n",
       "      <td>algeria</td>\n",
       "      <td>116064</td>\n",
       "      <td>(C)2008-04-14Area</td>\n",
       "      <td>2</td>\n",
       "      <td>1</td>\n",
       "      <td>3953,576</td>\n",
       "    </tr>\n",
       "    <tr>\n",
       "      <th>3</th>\n",
       "      <td>Aïn Defla</td>\n",
       "      <td>algeria</td>\n",
       "      <td>55259</td>\n",
       "      <td>(C)2008-04-14Area</td>\n",
       "      <td>3</td>\n",
       "      <td>1</td>\n",
       "      <td>3953,576</td>\n",
       "    </tr>\n",
       "    <tr>\n",
       "      <th>4</th>\n",
       "      <td>Aïn M'lila</td>\n",
       "      <td>algeria</td>\n",
       "      <td>65371</td>\n",
       "      <td>(C)2008-04-14Area</td>\n",
       "      <td>4</td>\n",
       "      <td>1</td>\n",
       "      <td>3953,576</td>\n",
       "    </tr>\n",
       "    <tr>\n",
       "      <th>...</th>\n",
       "      <td>...</td>\n",
       "      <td>...</td>\n",
       "      <td>...</td>\n",
       "      <td>...</td>\n",
       "      <td>...</td>\n",
       "      <td>...</td>\n",
       "      <td>...</td>\n",
       "    </tr>\n",
       "    <tr>\n",
       "      <th>5471</th>\n",
       "      <td>Rockhampton</td>\n",
       "      <td>australia</td>\n",
       "      <td>63151</td>\n",
       "      <td>(C)2021-08-11Area</td>\n",
       "      <td>5471</td>\n",
       "      <td>1</td>\n",
       "      <td>54323,089</td>\n",
       "    </tr>\n",
       "    <tr>\n",
       "      <th>5472</th>\n",
       "      <td>Sunshine Coast</td>\n",
       "      <td>australia</td>\n",
       "      <td>284131</td>\n",
       "      <td>(C)2021-08-11Area</td>\n",
       "      <td>5472</td>\n",
       "      <td>1</td>\n",
       "      <td>54323,089</td>\n",
       "    </tr>\n",
       "    <tr>\n",
       "      <th>5473</th>\n",
       "      <td>Toowoomba</td>\n",
       "      <td>australia</td>\n",
       "      <td>108398</td>\n",
       "      <td>(C)2021-08-11Area</td>\n",
       "      <td>5473</td>\n",
       "      <td>1</td>\n",
       "      <td>54323,089</td>\n",
       "    </tr>\n",
       "    <tr>\n",
       "      <th>5474</th>\n",
       "      <td>Townsville</td>\n",
       "      <td>australia</td>\n",
       "      <td>173724</td>\n",
       "      <td>(C)2021-08-11Area</td>\n",
       "      <td>5474</td>\n",
       "      <td>1</td>\n",
       "      <td>54323,089</td>\n",
       "    </tr>\n",
       "    <tr>\n",
       "      <th>5475</th>\n",
       "      <td>Wollongong</td>\n",
       "      <td>australia</td>\n",
       "      <td>280153</td>\n",
       "      <td>(C)2021-08-11Area</td>\n",
       "      <td>5475</td>\n",
       "      <td>1</td>\n",
       "      <td>54323,089</td>\n",
       "    </tr>\n",
       "  </tbody>\n",
       "</table>\n",
       "<p>4398 rows × 7 columns</p>\n",
       "</div>"
      ],
      "text/plain": [
       "            cityname    country  latest_figure  figure_description  town_code  \\\n",
       "0              Adrar    algeria          68276  (C)2008-04-14Area           0   \n",
       "1              Aflou    algeria          93585  (C)2008-04-14Area           1   \n",
       "2          Aïn Béïda    algeria         116064  (C)2008-04-14Area           2   \n",
       "3          Aïn Defla    algeria          55259  (C)2008-04-14Area           3   \n",
       "4         Aïn M'lila    algeria          65371  (C)2008-04-14Area           4   \n",
       "...              ...        ...            ...                 ...        ...   \n",
       "5471     Rockhampton  australia          63151  (C)2021-08-11Area        5471   \n",
       "5472  Sunshine Coast  australia         284131  (C)2021-08-11Area        5472   \n",
       "5473       Toowoomba  australia         108398  (C)2021-08-11Area        5473   \n",
       "5474      Townsville  australia         173724  (C)2021-08-11Area        5474   \n",
       "5475      Wollongong  australia         280153  (C)2021-08-11Area        5475   \n",
       "\n",
       "      count     GDP_19  \n",
       "0         1   3953,576  \n",
       "1         1   3953,576  \n",
       "2         1   3953,576  \n",
       "3         1   3953,576  \n",
       "4         1   3953,576  \n",
       "...     ...        ...  \n",
       "5471      1  54323,089  \n",
       "5472      1  54323,089  \n",
       "5473      1  54323,089  \n",
       "5474      1  54323,089  \n",
       "5475      1  54323,089  \n",
       "\n",
       "[4398 rows x 7 columns]"
      ]
     },
     "execution_count": 19,
     "metadata": {},
     "output_type": "execute_result"
    }
   ],
   "source": [
    "all_cities_GDP_valid"
   ]
  },
  {
   "cell_type": "markdown",
   "id": "c88ce3a5",
   "metadata": {},
   "source": [
    "### 2.2 HDI"
   ]
  },
  {
   "cell_type": "code",
   "execution_count": 20,
   "id": "329e46da",
   "metadata": {},
   "outputs": [],
   "source": [
    "HDI_raw['country_format']= [i.lower().replace(\" \", \"\") for i in HDI_raw['country']]\n",
    "HDI_short=HDI_raw[['country', 'country_format', 'hdi_2019']]"
   ]
  },
  {
   "cell_type": "markdown",
   "id": "149d912d",
   "metadata": {},
   "source": [
    "\"Cleaning\" country names. A dictionary of alternative country names is created to map each contry name as referred in \"all_cities_filter\" compared to GDP data source for those cases where it diverges."
   ]
  },
  {
   "cell_type": "code",
   "execution_count": 22,
   "id": "3f5a1ebe",
   "metadata": {},
   "outputs": [],
   "source": [
    "fixed_names = {}\n",
    "fixed_names ['burkinafaso'] = 'burkina faso'\n",
    "fixed_names ['centralafrica'] = 'centralafricanrepublic'\n",
    "fixed_names ['drcongo'] = 'congo(democraticrepublicofthe)'\n",
    "fixed_names ['equatorialguinea'] = 'equatorial guinea'\n",
    "fixed_names ['guineabissau'] = 'guinea-bissau'\n",
    "fixed_names ['ivorycoast'] = \"cote\"\n",
    "fixed_names ['sierraleone'] = \"sierra leone\"\n",
    "fixed_names ['ivorycoast'] = 'cote'\n",
    "fixed_names['costarica'] = 'costa rica'\n",
    "fixed_names['southsudan'] = 'south sudan'\n",
    "fixed_names['turkey'] = 'türkiye, republic of'\n",
    "fixed_names['domrep'] = 'dominican republic'\n",
    "fixed_names['elsalvador'] = 'el salvador'\n",
    "fixed_names['puertorico'] = 'puerto rico'  \n",
    "fixed_names['usa'] = 'unitedstates'  \n",
    "fixed_names['Azerbaijan.html'] = 'azerbaijan'\n",
    "fixed_names['kyrgyzstan'] = 'kyrgyz republic'\n",
    "fixed_names['laos'] = 'lao p.d.r.'\n",
    "fixed_names['saudiarabia'] = 'saudi arabia'\n",
    "fixed_names['srilanka'] = 'sri lanka'\n",
    "fixed_names['taiwan'] = 'taiwan province of china'\n",
    "fixed_names['bosnia'] = 'bosniaandherzegovina'\n",
    "fixed_names['czechrep'] = 'czechia'\n",
    "fixed_names['uk'] = 'unitedkingdom'\n",
    "fixed_names['northmacedonia'] = 'north macedonia '\n",
    "fixed_names['russia'] = 'russianfederation'\n",
    "fixed_names['slovakia'] = 'slovak republic'\n",
    "fixed_names['newzealand'] = 'new zealand'\n",
    "fixed_names['papuanewguinea'] = 'papua new guinea'"
   ]
  },
  {
   "cell_type": "code",
   "execution_count": 23,
   "id": "2decb2b3",
   "metadata": {
    "scrolled": true
   },
   "outputs": [],
   "source": [
    "HDI_column = []\n",
    "\n",
    "for i in all_cities_GDP_valid['country']:\n",
    "    try:\n",
    "        try:\n",
    "            HDI_column.append(HDI_short[HDI_short.eq(i).any(1)].iloc[0][2])\n",
    "        except:\n",
    "            try:\n",
    "                #print(f\"{i} not found in first attempt, moving to look in alternative dictionary\")\n",
    "                #print(f\"{i} found as {fixed_names.get(i)} in alternative source, proceeding with second attempt\")\n",
    "                #HDI_column.append(HDI_short[HDI_short.eq(fixed_names.get(i)).any(1)].iloc[0][2])\n",
    "                HDI_column.append(HDI_short[HDI_short['country_format']== fixed_names.get(i)].iloc[0][2])\n",
    "            except:\n",
    "                HDI_column.append(np.nan)\n",
    "                #print(f\"{i} not found in second attempt\")\n",
    "    except:\n",
    "        \n",
    "        pass\n",
    "        \n",
    "all_cities_GDP_HDI = all_cities_GDP_valid.copy()\n",
    "all_cities_GDP_HDI['HDI_19'] = HDI_column\n",
    "all_cities_GDP_HDI_valid = all_cities_GDP_HDI[all_cities_GDP_HDI.HDI_19.notnull()]"
   ]
  },
  {
   "cell_type": "markdown",
   "id": "94e5d475",
   "metadata": {},
   "source": [
    "### 3. Population figures adjustment [IN PROGRESS - NOT CLEAN NOT FINISHED]"
   ]
  },
  {
   "cell_type": "markdown",
   "id": "abe5d830",
   "metadata": {},
   "source": [
    "Extracting the year in which the population figure for a given city was made/estimated"
   ]
  },
  {
   "cell_type": "code",
   "execution_count": 66,
   "id": "8a208145",
   "metadata": {},
   "outputs": [],
   "source": [
    "# Creating new column with year of estimate for latest_figure\n",
    "all_cities_GDP_HDI_valid['year_latest_figure'] = [int(re.findall(r\"\\)(\\d{4})\", i)[0]) for i in all_cities_GDP_HDI_valid['figure_description']]"
   ]
  },
  {
   "cell_type": "code",
   "execution_count": 93,
   "id": "9933f68a",
   "metadata": {},
   "outputs": [],
   "source": [
    "pop_raw = pd.read_csv('data/tp/WPP2022.csv', sep=',', encoding='utf8', quotechar='\"')"
   ]
  },
  {
   "cell_type": "code",
   "execution_count": 105,
   "id": "cdf51a2f",
   "metadata": {
    "scrolled": true
   },
   "outputs": [],
   "source": [
    "pop_raw['location_fixed'] = [i.lower().replace(\" \", \"\") for i in pop_raw['Location']]"
   ]
  },
  {
   "cell_type": "code",
   "execution_count": 215,
   "id": "23ea79b8",
   "metadata": {},
   "outputs": [],
   "source": [
    "fixed_names = {}\n",
    "fixed_names ['burkinafaso'] = 'burkina faso'\n",
    "fixed_names ['centralafrica'] = 'centralafricanrepublic'\n",
    "fixed_names ['drcongo'] = 'democraticrepublicofthecongo'\n",
    "fixed_names ['equatorialguinea'] = 'equatorial guinea'\n",
    "fixed_names ['guineabissau'] = 'guinea-bissau'\n",
    "fixed_names ['ivorycoast'] = \"côted'ivoire\"\n",
    "fixed_names ['laos'] = \"laopeople'sdemocraticrepublic\"\n",
    "fixed_names['tanzania'] = 'unitedrepublicoftanzania'\n",
    "fixed_names['bolivia'] = 'bolivia(plurinationalstateof)'\n",
    "fixed_names['turkey'] = 'türkiye'\n",
    "fixed_names['domrep'] = 'dominicanrepublic'\n",
    "fixed_names['elsalvador'] = 'el salvador'\n",
    "fixed_names['puertorico'] = 'puerto rico'  \n",
    "fixed_names['usa'] = 'unitedstatesofamerica'  \n",
    "fixed_names['Azerbaijan.html'] = 'azerbaijan'\n",
    "fixed_names['kyrgyzstan'] = 'kyrgyz republic'\n",
    "fixed_names['saudiarabia'] = 'saudi arabia'\n",
    "fixed_names['srilanka'] = 'sri lanka'\n",
    "fixed_names['taiwan'] = 'taiwan province of china'\n",
    "fixed_names['bosnia'] = 'bosniaandherzegovina'\n",
    "fixed_names['czechrep'] = 'czechia'\n",
    "fixed_names['uk'] = 'unitedkingdom'\n",
    "fixed_names['iran'] = 'iran(islamicrepublicof)'\n",
    "fixed_names['russia'] = 'russianfederation'\n",
    "fixed_names['newzealand'] = 'new zealand'\n",
    "fixed_names['venezuela'] = 'venezuela(bolivarianrepublicof)'"
   ]
  },
  {
   "cell_type": "code",
   "execution_count": 255,
   "id": "c28ec906",
   "metadata": {
    "scrolled": true
   },
   "outputs": [
    {
     "name": "stdout",
     "output_type": "stream",
     "text": [
      "algeria\n",
      "benin\n",
      "botswana\n",
      "burkinafaso\n",
      "burundi\n",
      "cameroon\n",
      "centralafrica\n",
      "chad\n",
      "drcongo\n",
      "djibouti\n",
      "egypt\n",
      "equatorialguinea\n",
      "eritrea\n",
      "ethiopia\n",
      "gabon\n",
      "ghana\n",
      "guinea\n",
      "guineabissau\n",
      "ivorycoast\n",
      "kenya\n",
      "madagascar\n",
      "malawi\n",
      "mali\n",
      "mauritania\n",
      "mauritius\n",
      "morocco\n",
      "mozambique\n",
      "namibia\n",
      "niger\n",
      "nigeria\n",
      "rwanda\n",
      "senegal\n",
      "sierraleone\n",
      "southsudan\n",
      "sudan\n",
      "tanzania\n",
      "togo\n",
      "tunisia\n",
      "uganda\n",
      "zambia\n",
      "zimbabwe\n",
      "argentina\n",
      "bolivia\n",
      "brazil\n",
      "canada\n",
      "chile\n",
      "colombia\n",
      "costarica\n",
      "domrep\n",
      "ecuador\n",
      "elsalvador\n",
      "guatemala\n",
      "guyana\n",
      "haiti\n",
      "honduras\n",
      "jamaica\n",
      "mexico\n",
      "nicaragua\n",
      "panama\n",
      "paraguay\n",
      "peru\n",
      "suriname\n",
      "usa\n",
      "uruguay\n",
      "venezuela\n",
      "afghanistan\n",
      "Azerbaijan.html\n",
      "bangladesh\n",
      "cambodia\n",
      "georgia\n",
      "india\n",
      "indonesia\n",
      "iran\n",
      "japan\n",
      "jordan\n",
      "kazakhstan\n",
      "kyrgyzstan\n",
      "laos\n",
      "lebanon\n",
      "malaysia\n",
      "mongolia\n",
      "nepal\n",
      "oman\n",
      "pakistan\n",
      "philippines\n",
      "qatar\n",
      "saudiarabia\n",
      "srilanka\n",
      "tajikistan\n",
      "thailand\n",
      "turkmenistan\n",
      "uzbekistan\n",
      "vietnam\n",
      "albania\n",
      "austria\n",
      "belarus\n",
      "belgium\n",
      "bosnia\n",
      "bulgaria\n",
      "croatia\n",
      "czechrep\n",
      "denmark\n",
      "estonia\n",
      "finland\n",
      "france\n",
      "germany\n",
      "uk\n",
      "greece\n",
      "hungary\n",
      "iceland\n",
      "ireland\n",
      "italy\n",
      "latvia\n",
      "lithuania\n",
      "netherlands\n",
      "northmacedonia\n",
      "norway\n",
      "poland\n",
      "portugal\n",
      "romania\n",
      "russia\n",
      "serbia\n",
      "slovakia\n",
      "slovenia\n",
      "spain\n",
      "sweden\n",
      "switzerland\n",
      "turkey\n",
      "ukraine\n",
      "australia\n",
      "newzealand\n",
      "papuanewguinea\n"
     ]
    }
   ],
   "source": [
    "# Computing rates of popn. change for each country\n",
    "# for the year of last estimate compared to 2019\n",
    "\n",
    "pop_adjust = {}\n",
    "\n",
    "for i in list(all_cities_GDP_HDI_valid['country'].unique()):\n",
    "    \n",
    "    print(i)\n",
    "    try:\n",
    "        a = pop_2019(i)\n",
    "        b = lookfor_pop(all_cities_GDP_HDI_valid[all_cities_GDP_HDI_valid['country'] == i ].iloc[0][-1], i)\n",
    "        c = a/b\n",
    "        pop_adjust[i] = c\n",
    "    except:\n",
    "        a = pop_2019(fixed_names.get(i))\n",
    "        b = lookfor_pop(all_cities_GDP_HDI_valid[all_cities_GDP_HDI_valid['country'] == i ].iloc[0][-1], fixed_names.get(i))\n",
    "        c = a/b\n",
    "        pop_adjust[i] = c     "
   ]
  },
  {
   "cell_type": "code",
   "execution_count": 198,
   "id": "b65a23dc",
   "metadata": {},
   "outputs": [],
   "source": [
    "def lookfor_pop(year, country):\n",
    "    ''' \n",
    "    working\n",
    "    '''\n",
    "    tmp = pop_raw[pop_raw['location_fixed'] == country]\n",
    "    return int(str(tmp[tmp['Time'] == year].iloc[0][-3]).replace(\".\",\"\"))\n",
    "    "
   ]
  },
  {
   "cell_type": "code",
   "execution_count": 197,
   "id": "18e1eede",
   "metadata": {},
   "outputs": [],
   "source": [
    "def latest_figure_pop(country):\n",
    "    '''\n",
    "    working\n",
    "    '''\n",
    "    tmp = pop_raw[pop_raw['location_fixed'] == country]\n",
    "    return int(str(tmp[tmp['Time'] == all_cities_GDP_HDI_valid[all_cities_GDP_HDI_valid['country'] == country].iloc[0][8]].iloc[0][-3]).replace(\".\",\"\"))"
   ]
  },
  {
   "cell_type": "code",
   "execution_count": 213,
   "id": "fc529511",
   "metadata": {},
   "outputs": [],
   "source": [
    "def latest_figure_pop_robust(country):\n",
    "    '''\n",
    "    working\n",
    "    '''\n",
    "    tmp = pop_raw[pop_raw['location_fixed'] == fixed_names.get(country)]\n",
    "    return int(str(tmp[tmp['Time'] == all_cities_GDP_HDI_valid[all_cities_GDP_HDI_valid['country'] == country].iloc[0][8]].iloc[0][-3]).replace(\".\",\"\"))"
   ]
  },
  {
   "cell_type": "code",
   "execution_count": 196,
   "id": "098029ff",
   "metadata": {},
   "outputs": [],
   "source": [
    "def pop_2019(country):\n",
    "    '''\n",
    "    working\n",
    "    '''\n",
    "    return lookfor_pop(2019, country)"
   ]
  },
  {
   "cell_type": "code",
   "execution_count": 220,
   "id": "d05714c9",
   "metadata": {},
   "outputs": [
    {
     "name": "stdout",
     "output_type": "stream",
     "text": [
      "pop 2019: 47131372\n",
      "pop in year of latest est.: 47486935\n"
     ]
    },
    {
     "data": {
      "text/plain": [
       "0.9925124036748213"
      ]
     },
     "execution_count": 220,
     "metadata": {},
     "output_type": "execute_result"
    }
   ],
   "source": [
    "a = pop_2019('spain')\n",
    "print(f'pop 2019: {a}')\n",
    "b = latest_figure_pop('spain')\n",
    "print(f'pop in year of latest est.: {b}')\n",
    "a/b"
   ]
  },
  {
   "cell_type": "code",
   "execution_count": 221,
   "id": "7931aae3",
   "metadata": {},
   "outputs": [
    {
     "data": {
      "text/plain": [
       "47131372.0"
      ]
     },
     "execution_count": 221,
     "metadata": {},
     "output_type": "execute_result"
    }
   ],
   "source": [
    "47486935*0.9925124036748213"
   ]
  },
  {
   "cell_type": "code",
   "execution_count": 205,
   "id": "04392ff6",
   "metadata": {},
   "outputs": [
    {
     "data": {
      "text/plain": [
       "0.007544083376142752"
      ]
     },
     "execution_count": 205,
     "metadata": {},
     "output_type": "execute_result"
    }
   ],
   "source": []
  },
  {
   "cell_type": "code",
   "execution_count": 264,
   "id": "95647844",
   "metadata": {},
   "outputs": [
    {
     "data": {
      "text/plain": [
       "656.0"
      ]
     },
     "execution_count": 264,
     "metadata": {},
     "output_type": "execute_result"
    }
   ],
   "source": [
    "32*20.5"
   ]
  },
  {
   "cell_type": "code",
   "execution_count": 258,
   "id": "7e75f2d8",
   "metadata": {},
   "outputs": [
    {
     "name": "stdout",
     "output_type": "stream",
     "text": [
      "algeria\n",
      "1.2353448660892499\n",
      "benin\n",
      "11.92236483058534\n",
      "burundi\n",
      "1.434486789193039\n",
      "cameroon\n",
      "1.4924506970148081\n",
      "chad\n",
      "1.4028084934336151\n",
      "drcongo\n",
      "0.16401695597387073\n",
      "djibouti\n",
      "1.19186596870724\n",
      "equatorialguinea\n",
      "21.591766652300247\n",
      "eritrea\n",
      "1.5268273460754482\n",
      "gabon\n",
      "1.1790318290255732\n",
      "ghana\n",
      "0.12325566509645718\n",
      "guinea\n",
      "1.13625026635955\n",
      "guineabissau\n",
      "1.2902449980225197\n",
      "ivorycoast\n",
      "1.1370697945755168\n",
      "mali\n",
      "1.3681848857502361\n",
      "mauritania\n",
      "1.1712254929856298\n",
      "namibia\n",
      "11.473986324882523\n",
      "niger\n",
      "1.3057180334610885\n",
      "nigeria\n",
      "20.812176154134047\n",
      "rwanda\n",
      "1.1840066920447285\n",
      "senegal\n",
      "1.1769117225424819\n",
      "southsudan\n",
      "1.1840206947322993\n",
      "sudan\n",
      "1.3482541110481596\n",
      "tanzania\n",
      "1.2529277894967739\n",
      "togo\n",
      "9.76371440957622\n",
      "uganda\n",
      "0.0967221174395605\n",
      "zambia\n",
      "1.3326828878532224\n",
      "bolivia\n",
      "1.1142528494430823\n",
      "domrep\n",
      "1.1131500329130588\n",
      "ecuador\n",
      "0.11570527136008102\n",
      "haiti\n",
      "1.1469379500090333\n",
      "nicaragua\n",
      "9.72758935791923\n",
      "panama\n",
      "1.168040662133995\n",
      "afghanistan\n",
      "9.691387688105094\n",
      "Azerbaijan.html\n",
      "10.37438409161878\n",
      "bangladesh\n",
      "1.101891449298272\n",
      "india\n",
      "0.10997843069901006\n",
      "indonesia\n",
      "1.1047746331141748\n",
      "jordan\n",
      "1.1268596790097918\n",
      "malaysia\n",
      "0.11422914992831432\n",
      "mongolia\n",
      "0.09655437540437221\n",
      "pakistan\n",
      "0.10319513634495812\n",
      "saudiarabia\n",
      "1.2181235035621092\n",
      "turkmenistan\n",
      "0.13682097114936217\n",
      "austria\n",
      "0.09933244343689444\n",
      "belgium\n",
      "9.875289230460375\n",
      "northmacedonia\n",
      "10.051565850342076\n",
      "romania\n",
      "10.101223784906894\n",
      "ukraine\n",
      "1.1135807930226935\n",
      "australia\n",
      "0.09782447797621466\n",
      "papuanewguinea\n",
      "1.2223555418293435\n"
     ]
    }
   ],
   "source": [
    "to_correct = []\n",
    "\n",
    "for i in pop_adjust.keys():\n",
    "    \n",
    "    if pop_adjust.get(i) > 1.1:\n",
    "        print(i)\n",
    "        print(pop_adjust.get(i))\n",
    "        \n",
    "    elif pop_adjust.get(i) < 0.9:\n",
    "        print(i)\n",
    "        print(pop_adjust.get(i))"
   ]
  },
  {
   "cell_type": "markdown",
   "id": "9ac064d1",
   "metadata": {},
   "source": [
    "A veces se come un dígito en las cifras el cacharro este...\n",
    "\n",
    "Ha pasado en:\n",
    "\n",
    "- Australia\n",
    "- Nigeria\n",
    "\n",
    "También es posible que simplemente algo falle en el cómputo,\n",
    "\n",
    "es el caso de:\n",
    "\n",
    "- Turquía\n"
   ]
  },
  {
   "cell_type": "code",
   "execution_count": 230,
   "id": "dadf0e9e",
   "metadata": {},
   "outputs": [
    {
     "data": {
      "text/html": [
       "<div>\n",
       "<style scoped>\n",
       "    .dataframe tbody tr th:only-of-type {\n",
       "        vertical-align: middle;\n",
       "    }\n",
       "\n",
       "    .dataframe tbody tr th {\n",
       "        vertical-align: top;\n",
       "    }\n",
       "\n",
       "    .dataframe thead th {\n",
       "        text-align: right;\n",
       "    }\n",
       "</style>\n",
       "<table border=\"1\" class=\"dataframe\">\n",
       "  <thead>\n",
       "    <tr style=\"text-align: right;\">\n",
       "      <th></th>\n",
       "      <th>SortOrder</th>\n",
       "      <th>LocID</th>\n",
       "      <th>Notes</th>\n",
       "      <th>ISO3_code</th>\n",
       "      <th>ISO2_code</th>\n",
       "      <th>SDMX_code</th>\n",
       "      <th>LocTypeID</th>\n",
       "      <th>LocTypeName</th>\n",
       "      <th>ParentID</th>\n",
       "      <th>Location</th>\n",
       "      <th>VarID</th>\n",
       "      <th>Variant</th>\n",
       "      <th>Time</th>\n",
       "      <th>MidPeriod</th>\n",
       "      <th>PopMale</th>\n",
       "      <th>PopFemale</th>\n",
       "      <th>PopTotal</th>\n",
       "      <th>PopDensity</th>\n",
       "      <th>location_fixed</th>\n",
       "    </tr>\n",
       "  </thead>\n",
       "  <tbody>\n",
       "    <tr>\n",
       "      <th>293221</th>\n",
       "      <td>86.0</td>\n",
       "      <td>566</td>\n",
       "      <td>NaN</td>\n",
       "      <td>NGA</td>\n",
       "      <td>NG</td>\n",
       "      <td>566.0</td>\n",
       "      <td>4.0</td>\n",
       "      <td>Country/Area</td>\n",
       "      <td>914.0</td>\n",
       "      <td>Nigeria</td>\n",
       "      <td>2</td>\n",
       "      <td>Medium</td>\n",
       "      <td>1990</td>\n",
       "      <td>1990.5</td>\n",
       "      <td>47821.647</td>\n",
       "      <td>47392.609</td>\n",
       "      <td>95214.257</td>\n",
       "      <td>104.543</td>\n",
       "      <td>nigeria</td>\n",
       "    </tr>\n",
       "  </tbody>\n",
       "</table>\n",
       "</div>"
      ],
      "text/plain": [
       "        SortOrder  LocID Notes ISO3_code ISO2_code  SDMX_code  LocTypeID  \\\n",
       "293221       86.0    566   NaN       NGA        NG      566.0        4.0   \n",
       "\n",
       "         LocTypeName  ParentID Location  VarID Variant  Time  MidPeriod  \\\n",
       "293221  Country/Area     914.0  Nigeria      2  Medium  1990     1990.5   \n",
       "\n",
       "          PopMale  PopFemale   PopTotal  PopDensity location_fixed  \n",
       "293221  47821.647  47392.609  95214.257     104.543        nigeria  "
      ]
     },
     "execution_count": 230,
     "metadata": {},
     "output_type": "execute_result"
    }
   ],
   "source": [
    "look = pop_raw[pop_raw['location_fixed'] == 'nigeria']\n",
    "look[look['Time'] == 1990]"
   ]
  },
  {
   "cell_type": "code",
   "execution_count": 251,
   "id": "7e74040e",
   "metadata": {},
   "outputs": [
    {
     "data": {
      "text/plain": [
       "145742286"
      ]
     },
     "execution_count": 251,
     "metadata": {},
     "output_type": "execute_result"
    }
   ],
   "source": [
    "lookfor_pop(2019, 'russianfederation')"
   ]
  },
  {
   "cell_type": "code",
   "execution_count": 252,
   "id": "b547422d",
   "metadata": {},
   "outputs": [
    {
     "data": {
      "text/plain": [
       "145102755"
      ]
     },
     "execution_count": 252,
     "metadata": {},
     "output_type": "execute_result"
    }
   ],
   "source": [
    "lookfor_pop(2021, 'russianfederation')"
   ]
  },
  {
   "cell_type": "code",
   "execution_count": 253,
   "id": "21382ef9",
   "metadata": {},
   "outputs": [
    {
     "data": {
      "text/plain": [
       "2021"
      ]
     },
     "execution_count": 253,
     "metadata": {},
     "output_type": "execute_result"
    }
   ],
   "source": [
    "all_cities_GDP_HDI_valid[all_cities_GDP_HDI_valid['country'] == 'turkey' ].iloc[0][-1]"
   ]
  },
  {
   "cell_type": "code",
   "execution_count": null,
   "id": "80c9a243",
   "metadata": {},
   "outputs": [],
   "source": []
  },
  {
   "cell_type": "code",
   "execution_count": null,
   "id": "a028438d",
   "metadata": {},
   "outputs": [],
   "source": []
  },
  {
   "cell_type": "code",
   "execution_count": null,
   "id": "423c4a3b",
   "metadata": {},
   "outputs": [],
   "source": []
  },
  {
   "cell_type": "code",
   "execution_count": null,
   "id": "7d76739e",
   "metadata": {},
   "outputs": [],
   "source": []
  },
  {
   "cell_type": "code",
   "execution_count": null,
   "id": "2e2fd83f",
   "metadata": {},
   "outputs": [],
   "source": []
  },
  {
   "cell_type": "code",
   "execution_count": 96,
   "id": "002e8bc8",
   "metadata": {},
   "outputs": [
    {
     "data": {
      "text/html": [
       "<div>\n",
       "<style scoped>\n",
       "    .dataframe tbody tr th:only-of-type {\n",
       "        vertical-align: middle;\n",
       "    }\n",
       "\n",
       "    .dataframe tbody tr th {\n",
       "        vertical-align: top;\n",
       "    }\n",
       "\n",
       "    .dataframe thead th {\n",
       "        text-align: right;\n",
       "    }\n",
       "</style>\n",
       "<table border=\"1\" class=\"dataframe\">\n",
       "  <thead>\n",
       "    <tr style=\"text-align: right;\">\n",
       "      <th></th>\n",
       "      <th>cityname</th>\n",
       "      <th>country</th>\n",
       "      <th>latest_figure</th>\n",
       "      <th>figure_description</th>\n",
       "      <th>town_code</th>\n",
       "      <th>count</th>\n",
       "      <th>GDP_19</th>\n",
       "      <th>HDI_19</th>\n",
       "      <th>year_latest_figure</th>\n",
       "    </tr>\n",
       "  </thead>\n",
       "  <tbody>\n",
       "    <tr>\n",
       "      <th>0</th>\n",
       "      <td>Adrar</td>\n",
       "      <td>algeria</td>\n",
       "      <td>68276</td>\n",
       "      <td>(C)2008-04-14Area</td>\n",
       "      <td>0</td>\n",
       "      <td>1</td>\n",
       "      <td>3953,576</td>\n",
       "      <td>0.748</td>\n",
       "      <td>2008</td>\n",
       "    </tr>\n",
       "    <tr>\n",
       "      <th>1</th>\n",
       "      <td>Aflou</td>\n",
       "      <td>algeria</td>\n",
       "      <td>93585</td>\n",
       "      <td>(C)2008-04-14Area</td>\n",
       "      <td>1</td>\n",
       "      <td>1</td>\n",
       "      <td>3953,576</td>\n",
       "      <td>0.748</td>\n",
       "      <td>2008</td>\n",
       "    </tr>\n",
       "    <tr>\n",
       "      <th>2</th>\n",
       "      <td>Aïn Béïda</td>\n",
       "      <td>algeria</td>\n",
       "      <td>116064</td>\n",
       "      <td>(C)2008-04-14Area</td>\n",
       "      <td>2</td>\n",
       "      <td>1</td>\n",
       "      <td>3953,576</td>\n",
       "      <td>0.748</td>\n",
       "      <td>2008</td>\n",
       "    </tr>\n",
       "    <tr>\n",
       "      <th>3</th>\n",
       "      <td>Aïn Defla</td>\n",
       "      <td>algeria</td>\n",
       "      <td>55259</td>\n",
       "      <td>(C)2008-04-14Area</td>\n",
       "      <td>3</td>\n",
       "      <td>1</td>\n",
       "      <td>3953,576</td>\n",
       "      <td>0.748</td>\n",
       "      <td>2008</td>\n",
       "    </tr>\n",
       "    <tr>\n",
       "      <th>4</th>\n",
       "      <td>Aïn M'lila</td>\n",
       "      <td>algeria</td>\n",
       "      <td>65371</td>\n",
       "      <td>(C)2008-04-14Area</td>\n",
       "      <td>4</td>\n",
       "      <td>1</td>\n",
       "      <td>3953,576</td>\n",
       "      <td>0.748</td>\n",
       "      <td>2008</td>\n",
       "    </tr>\n",
       "    <tr>\n",
       "      <th>...</th>\n",
       "      <td>...</td>\n",
       "      <td>...</td>\n",
       "      <td>...</td>\n",
       "      <td>...</td>\n",
       "      <td>...</td>\n",
       "      <td>...</td>\n",
       "      <td>...</td>\n",
       "      <td>...</td>\n",
       "      <td>...</td>\n",
       "    </tr>\n",
       "    <tr>\n",
       "      <th>5488</th>\n",
       "      <td>Tauranga</td>\n",
       "      <td>newzealand</td>\n",
       "      <td>158300</td>\n",
       "      <td>(Ep)2022-06-30Area</td>\n",
       "      <td>5488</td>\n",
       "      <td>1</td>\n",
       "      <td>42342,994</td>\n",
       "      <td>0.937</td>\n",
       "      <td>2022</td>\n",
       "    </tr>\n",
       "    <tr>\n",
       "      <th>5489</th>\n",
       "      <td>Wellington</td>\n",
       "      <td>newzealand</td>\n",
       "      <td>212000</td>\n",
       "      <td>(Ep)2022-06-30Area</td>\n",
       "      <td>5489</td>\n",
       "      <td>1</td>\n",
       "      <td>42342,994</td>\n",
       "      <td>0.937</td>\n",
       "      <td>2022</td>\n",
       "    </tr>\n",
       "    <tr>\n",
       "      <th>5490</th>\n",
       "      <td>Whangārei</td>\n",
       "      <td>newzealand</td>\n",
       "      <td>54900</td>\n",
       "      <td>(Ep)2022-06-30Area</td>\n",
       "      <td>5490</td>\n",
       "      <td>1</td>\n",
       "      <td>42342,994</td>\n",
       "      <td>0.937</td>\n",
       "      <td>2022</td>\n",
       "    </tr>\n",
       "    <tr>\n",
       "      <th>5491</th>\n",
       "      <td>Lae</td>\n",
       "      <td>papuanewguinea</td>\n",
       "      <td>148934</td>\n",
       "      <td>(Cf)2011-07-10Area</td>\n",
       "      <td>5491</td>\n",
       "      <td>1</td>\n",
       "      <td>2877,577</td>\n",
       "      <td>0.560</td>\n",
       "      <td>2011</td>\n",
       "    </tr>\n",
       "    <tr>\n",
       "      <th>5492</th>\n",
       "      <td>Port Moresby</td>\n",
       "      <td>papuanewguinea</td>\n",
       "      <td>364125</td>\n",
       "      <td>(Cf)2011-07-10Area</td>\n",
       "      <td>5492</td>\n",
       "      <td>1</td>\n",
       "      <td>2877,577</td>\n",
       "      <td>0.560</td>\n",
       "      <td>2011</td>\n",
       "    </tr>\n",
       "  </tbody>\n",
       "</table>\n",
       "<p>5415 rows × 9 columns</p>\n",
       "</div>"
      ],
      "text/plain": [
       "          cityname         country  latest_figure   figure_description  \\\n",
       "0            Adrar         algeria          68276   (C)2008-04-14Area    \n",
       "1            Aflou         algeria          93585   (C)2008-04-14Area    \n",
       "2        Aïn Béïda         algeria         116064   (C)2008-04-14Area    \n",
       "3        Aïn Defla         algeria          55259   (C)2008-04-14Area    \n",
       "4       Aïn M'lila         algeria          65371   (C)2008-04-14Area    \n",
       "...            ...             ...            ...                  ...   \n",
       "5488      Tauranga      newzealand         158300  (Ep)2022-06-30Area    \n",
       "5489    Wellington      newzealand         212000  (Ep)2022-06-30Area    \n",
       "5490     Whangārei      newzealand          54900  (Ep)2022-06-30Area    \n",
       "5491           Lae  papuanewguinea         148934  (Cf)2011-07-10Area    \n",
       "5492  Port Moresby  papuanewguinea         364125  (Cf)2011-07-10Area    \n",
       "\n",
       "      town_code  count     GDP_19  HDI_19  year_latest_figure  \n",
       "0             0      1   3953,576   0.748                2008  \n",
       "1             1      1   3953,576   0.748                2008  \n",
       "2             2      1   3953,576   0.748                2008  \n",
       "3             3      1   3953,576   0.748                2008  \n",
       "4             4      1   3953,576   0.748                2008  \n",
       "...         ...    ...        ...     ...                 ...  \n",
       "5488       5488      1  42342,994   0.937                2022  \n",
       "5489       5489      1  42342,994   0.937                2022  \n",
       "5490       5490      1  42342,994   0.937                2022  \n",
       "5491       5491      1   2877,577   0.560                2011  \n",
       "5492       5492      1   2877,577   0.560                2011  \n",
       "\n",
       "[5415 rows x 9 columns]"
      ]
     },
     "execution_count": 96,
     "metadata": {},
     "output_type": "execute_result"
    }
   ],
   "source": [
    "all_cities_GDP_HDI_valid"
   ]
  }
 ],
 "metadata": {
  "kernelspec": {
   "display_name": "Python 3 (ipykernel)",
   "language": "python",
   "name": "python3"
  },
  "language_info": {
   "codemirror_mode": {
    "name": "ipython",
    "version": 3
   },
   "file_extension": ".py",
   "mimetype": "text/x-python",
   "name": "python",
   "nbconvert_exporter": "python",
   "pygments_lexer": "ipython3",
   "version": "3.9.7"
  }
 },
 "nbformat": 4,
 "nbformat_minor": 5
}
