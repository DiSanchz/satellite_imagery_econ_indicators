{
 "cells": [
  {
   "cell_type": "markdown",
   "id": "6df11a68",
   "metadata": {},
   "source": [
    "### 0. Imports\n"
   ]
  },
  {
   "cell_type": "code",
   "execution_count": null,
   "id": "94b13611",
   "metadata": {},
   "outputs": [],
   "source": [
    "import pandas as pd\n",
    "import numpy as np\n",
    "import json\n",
    "import time \n",
    "from webdriver_manager.chrome import ChromeDriverManager\n",
    "import warnings\n",
    "from PIL import Image\n",
    "import cv2\n",
    "import matplotlib.pyplot as plt\n",
    "import re\n",
    "import requests as req\n",
    "from bs4 import BeautifulSoup as bs\n",
    "import random\n",
    "import http.client, urllib.parse\n",
    "import csv\n",
    "import seaborn as sns\n",
    "\n",
    "warnings.simplefilter('ignore')"
   ]
  },
  {
   "cell_type": "markdown",
   "id": "f10249ed",
   "metadata": {},
   "source": [
    "### 1. Build \"all_cities\" dataframe"
   ]
  },
  {
   "cell_type": "markdown",
   "id": "5fca1377",
   "metadata": {},
   "source": [
    "\"all_cities\" dataframe is built from the separate datafiles containing the data on settlements for each country."
   ]
  },
  {
   "cell_type": "code",
   "execution_count": null,
   "id": "647ee438",
   "metadata": {},
   "outputs": [],
   "source": [
    "country_selection = pd.read_csv('../data/ignore/countryselection_all_together_csv.csv', sep=';', encoding= 'unicode_escape')\n",
    "all_cities = pd.read_csv('../data/ignore/countries_separate/algeria.csv')\n",
    "\n",
    "not_loaded_countries = []\n",
    "\n",
    "for c in list(country_selection['Country']):\n",
    "    try:\n",
    "        tempdf = pd.read_csv(f\"../data/ignore/countries_separate/{c}.csv\")\n",
    "        all_cities = pd.concat([all_cities, tempdf])\n",
    "    except:\n",
    "        not_loaded_countries.append(c)\n",
    "        print(f'{c} could not be loaded')\n",
    "        pass\n",
    "    \n",
    "all_cities.drop(['Unnamed: 0'], inplace=True, axis=1)"
   ]
  },
  {
   "cell_type": "markdown",
   "id": "76ec7e8b",
   "metadata": {},
   "source": [
    "### 2. Filtering by population"
   ]
  },
  {
   "cell_type": "markdown",
   "id": "58ac191a",
   "metadata": {},
   "source": [
    "Filtering urban settlements by population so only those inside the considered range (50k < x < 500k) remain in the sample."
   ]
  },
  {
   "cell_type": "code",
   "execution_count": null,
   "id": "ea0d374e",
   "metadata": {},
   "outputs": [],
   "source": [
    "cleaning_figures_A = list(all_cities['latest_figure'].replace(',',''))\n",
    "cleaning_figures_B = [int(i.replace(',','')) for i in cleaning_figures_A]\n",
    "all_cities['latest_figure'] = cleaning_figures_B\n",
    "\n",
    "all_cities_50 = all_cities[all_cities['latest_figure']>50000]\n",
    "all_cities_filter = all_cities_50[all_cities_50['latest_figure']<500000]\n",
    "\n",
    "all_cities_filter.reset_index(inplace=True, drop=True)\n",
    "all_cities_filter['town_code'] = all_cities_filter.index"
   ]
  },
  {
   "cell_type": "markdown",
   "id": "8e40c104",
   "metadata": {},
   "source": [
    "Saving final product as a .csv file"
   ]
  },
  {
   "cell_type": "code",
   "execution_count": null,
   "id": "74b59024",
   "metadata": {},
   "outputs": [],
   "source": [
    "all_cities_filter.to_csv(\"../data/all_cities_filtered.csv\", index=False)"
   ]
  }
 ],
 "metadata": {
  "kernelspec": {
   "display_name": "Python 3 (ipykernel)",
   "language": "python",
   "name": "python3"
  },
  "language_info": {
   "codemirror_mode": {
    "name": "ipython",
    "version": 3
   },
   "file_extension": ".py",
   "mimetype": "text/x-python",
   "name": "python",
   "nbconvert_exporter": "python",
   "pygments_lexer": "ipython3",
   "version": "3.9.7"
  }
 },
 "nbformat": 4,
 "nbformat_minor": 5
}
