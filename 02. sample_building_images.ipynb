{
 "cells": [
  {
   "cell_type": "markdown",
   "id": "32337caa",
   "metadata": {},
   "source": [
    "# Building the sample: Retrieving coordinates of settlements and images "
   ]
  },
  {
   "cell_type": "markdown",
   "id": "ba623ea4",
   "metadata": {},
   "source": [
    "### 0. Imports and relevant paths"
   ]
  },
  {
   "cell_type": "code",
   "execution_count": 1,
   "id": "5872ae74",
   "metadata": {},
   "outputs": [],
   "source": [
    "import pandas as pd\n",
    "import numpy as np\n",
    "import json\n",
    "import time \n",
    "from webdriver_manager.chrome import ChromeDriverManager\n",
    "import warnings\n",
    "from PIL import Image\n",
    "import cv2\n",
    "import matplotlib.pyplot as plt\n",
    "import re\n",
    "import requests as req\n",
    "from bs4 import BeautifulSoup as bs\n",
    "import random\n",
    "import http.client, urllib.parse\n",
    "import csv\n",
    "import seaborn as sns\n",
    "\n",
    "warnings.simplefilter('ignore')"
   ]
  },
  {
   "cell_type": "code",
   "execution_count": 2,
   "id": "c4d69de3",
   "metadata": {},
   "outputs": [],
   "source": [
    "# Define/modify these paths before running the notebook\n",
    "\n",
    "# geocoding_storage_path = 'INSERT_STORAGE_PATH'\n",
    "# scrap_session_id = 'INSERT_STORAGE_SESSION_ID'\n",
    "# image_storage_path = 'INSERT_STORAGE_PATH'\n",
    "\n",
    "geocoding_storage_path = 'data/ignore'\n",
    "scrap_session_id = ''\n",
    "image_storage_path = 'data/images_750_800_12' # Note custom path for the particular image size and zoom"
   ]
  },
  {
   "cell_type": "markdown",
   "id": "0cc6473e",
   "metadata": {},
   "source": [
    "### 1. Geocoding: from settlement name to coordinates"
   ]
  },
  {
   "cell_type": "markdown",
   "id": "9fe37091",
   "metadata": {},
   "source": [
    "Loading reference DataFrame with all considered settlements for iteration"
   ]
  },
  {
   "cell_type": "code",
   "execution_count": 3,
   "id": "81122aab",
   "metadata": {},
   "outputs": [],
   "source": [
    "all_cities_filter = pd.read_csv(\"data/all_cities_filtered.csv\")"
   ]
  },
  {
   "cell_type": "markdown",
   "id": "afaec38a",
   "metadata": {},
   "source": [
    "Obtaining coordinates of settlements included in the sample employing [positionstack's API](https://positionstack.com/)."
   ]
  },
  {
   "cell_type": "code",
   "execution_count": null,
   "id": "5434bf61",
   "metadata": {},
   "outputs": [],
   "source": [
    "# List for storing API responses for later use.\n",
    "api_responses = []\n",
    "\n",
    "# List for storing settlements for which geocoding API failed.\n",
    "not_retrieved_towncodes = []    \n",
    "\n",
    "# Iterating over filtered sample dataframe containing all settlementes considered.\n",
    "for place_number in reference_df.index:\n",
    "    \n",
    "    town_code, town, country, population = tuple(reference_df.loc[place_number][['town_code','cityname','country', 'latest_figure']])\n",
    "\n",
    "    time.sleep(1)\n",
    "    \n",
    "    # Calling the API\n",
    "    conn = http.client.HTTPConnection('api.positionstack.com')\n",
    "    params = urllib.parse.urlencode({\n",
    "        'access_key': f'{Positionstack_api_key}',\n",
    "        'query': f'{town}, {country}',\n",
    "        'limit': 1,\n",
    "        })\n",
    "    \n",
    "    conn.request('GET', '/v1/forward?{}'.format(params))\n",
    "    \n",
    "    res = conn.getresponse()\n",
    "    data = res.read()\n",
    "    api_responses.append(data)\n",
    "\n",
    "    coordinates = re.findall('''(-\\d+\\.\\d+|\\d+\\.\\d+)''', data.decode('utf-8'))\n",
    "    print(coordinates)\n",
    "    \n",
    "    # Checking that the API yielded a valid pair of coordinates\n",
    "    try:\n",
    "        lat = coordinates[0]\n",
    "        long = coordinates[1]\n",
    "\n",
    "    # If no valid coordinates can be retrieved from API responses town code is stored in \"not_retrieved_towncodes\"   \n",
    "    except:\n",
    "        not_retrieved_towncodes.append(town_code)\n",
    "        pass\n",
    "    \n",
    "# Saving api_responses as csv\n",
    "\n",
    "all_cities_filter['api_response'] = api_responses\n",
    "api_responses_to_csv = []\n",
    "for e in api_responses:\n",
    "    transitional_list = []\n",
    "    transitional_list.append(e)\n",
    "    api_responses_to_csv.append(transitional_list)\n",
    "\n",
    "csv_rows =  api_responses_to_csv\n",
    "\n",
    "with open(f'{geocoding_storage_path}/api_responses_{scrap_id}.csv', 'w') as f:\n",
    "  \n",
    "    write = csv.writer(f)\n",
    "    write.writerows(csv_rows)"
   ]
  },
  {
   "cell_type": "markdown",
   "id": "2073461e",
   "metadata": {},
   "source": [
    "### 3. Retrieving images "
   ]
  },
  {
   "cell_type": "markdown",
   "id": "efa87941",
   "metadata": {},
   "source": [
    "See the [Mapbox delevoper playground](https://docs.mapbox.com/playground/static/) to experiment with different image sizes and zoom levels before serially calling the API"
   ]
  },
  {
   "cell_type": "code",
   "execution_count": null,
   "id": "a6abea30",
   "metadata": {},
   "outputs": [],
   "source": [
    "# Load old geocoding API responses\n",
    "\n",
    "api_responses = pd.read_csv(f\"{storage_path}/api_responses_{scrap_id}.csv\", sep=\",\", header=None)"
   ]
  },
  {
   "cell_type": "code",
   "execution_count": null,
   "id": "2ff2a5f9",
   "metadata": {},
   "outputs": [],
   "source": [
    "# Resolution and zoom\n",
    "\n",
    "image_heigth = 800\n",
    "image_width = 750\n",
    "zoom = 12\n",
    "\n",
    "# List to store city codes for which an image could not be retrieved from the API\n",
    "\n",
    "failed = []\n",
    "\n",
    "# Iterating over the (old) stored geocoding API results (which contain all urban settlements in the sample)\n",
    "for i in range(len(api_responses)):\n",
    "        \n",
    "    try:\n",
    "        # retrieve coordinates from the stored results of geocoding api\n",
    "        coordinates = re.findall('-\\d{1,3}\\.\\d{1,6}|\\d{1,3}\\.\\d{1,6}', str(api_responses.iloc[i][0]))\n",
    "        lat = coordinates[0]\n",
    "        lng = coordinates[1]\n",
    "                                 \n",
    "        # call API considering the previous defined information\n",
    "        \n",
    "        api_response = req.get(f\"https://api.mapbox.com/styles/v1/mapbox/satellite-v9/static/{lng},{lat},12,0/{image_width}x{image_heigth}?access_token={Mapbox_api_key}\")\n",
    "        \n",
    "        bytes = api_response.content\n",
    "        image = Image.open(io.BytesIO(bytes))\n",
    "        \n",
    "        \n",
    "        # save image\n",
    "        image.save(f'{image_storage_path}/{i}.png')\n",
    "                                 \n",
    "    except:\n",
    "        failed.append(i)\n",
    "        pass\n",
    "    \n",
    "print(f' A total of: {len(failed)} could not be retrieved')"
   ]
  }
 ],
 "metadata": {
  "kernelspec": {
   "display_name": "Python 3 (ipykernel)",
   "language": "python",
   "name": "python3"
  },
  "language_info": {
   "codemirror_mode": {
    "name": "ipython",
    "version": 3
   },
   "file_extension": ".py",
   "mimetype": "text/x-python",
   "name": "python",
   "nbconvert_exporter": "python",
   "pygments_lexer": "ipython3",
   "version": "3.9.7"
  }
 },
 "nbformat": 4,
 "nbformat_minor": 5
}
